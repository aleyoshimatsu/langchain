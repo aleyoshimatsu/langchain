{
 "cells": [
  {
   "metadata": {
    "ExecuteTime": {
     "end_time": "2024-10-27T17:37:47.081307Z",
     "start_time": "2024-10-27T17:36:31.918545Z"
    }
   },
   "cell_type": "code",
   "source": [
    "import pymupdf\n",
    "import io\n",
    "from PIL import Image\n",
    "import pytesseract\n",
    "import numpy as np\n",
    "import cv2\n",
    "from matplotlib import pyplot as plt\n",
    "\n",
    "input_dir = \"./static/input\"\n",
    "output_dir = \"./static/output\"\n",
    "work_dir = \"\"\n",
    "\n",
    "def raw_txt_from_imgpdf(in_file):\n",
    "    docs = []\n",
    "    doc = pymupdf.open(in_file) # open document\n",
    "    full_text = \"\"\n",
    "    name_file = in_file.split(\"/\")[-1].split(\".\")[0]\n",
    "    \n",
    "    for e, page in enumerate(doc): # iterate through the pages\n",
    "        pix = page.get_pixmap(dpi=300) # render page to an image\n",
    "        pix_bytes = pix.tobytes()\n",
    " \n",
    "        img = Image.open(io.BytesIO(pix_bytes))\n",
    "        type_img = \"original\" \n",
    "        output_file = f\"{output_dir}/{name_file}_{e}_{type_img}.png\"\n",
    "        # print(output_file)\n",
    "        img.save(output_file, \"PNG\")        \n",
    "        img = cv2.imread(output_file)\n",
    "        \n",
    "        # Rescaling\n",
    "        # Rescale the image, if needed.\n",
    "        img = cv2.resize(img, None, fx=1.5, fy=1.5, interpolation=cv2.INTER_CUBIC)\n",
    "        \n",
    "        # Convert to gray\n",
    "        img = cv2.cvtColor(img, cv2.COLOR_BGR2GRAY)\n",
    "    \n",
    "        # Apply dilation and erosion to remove some noise\n",
    "        kernel = np.ones((1, 1), np.uint8)\n",
    "        img = cv2.dilate(img, kernel, iterations=1)\n",
    "        img = cv2.erode(img, kernel, iterations=1)\n",
    "        # Apply blur to smooth out the edges\n",
    "        img = cv2.GaussianBlur(img, (5, 5), 0)\n",
    "        \n",
    "        # Apply threshold to get image with only b&w (binarization)\n",
    "        img = cv2.threshold(img, 0, 255, cv2.THRESH_BINARY + cv2.THRESH_OTSU)[1]\n",
    "        \n",
    "        # Save the filtered image in the output directory\n",
    "        type_img = \"processed\" \n",
    "        output_file = f\"{output_dir}/{name_file}_{e}_{type_img}.png\"\n",
    "        # print(output_file)\n",
    "        cv2.imwrite(output_file, img)\n",
    " \n",
    "        # custom_config = r'--oem 3 --psm 6'\n",
    "        custom_config = \"\"\n",
    "        text = pytesseract.image_to_string(img, lang=\"Latin\", config=custom_config)\n",
    "        docs.append(text)\n",
    " \n",
    "    return docs\n",
    "\n",
    "file = f\"{input_dir}/118498.pdf\"\n",
    "\n",
    "docs = raw_txt_from_imgpdf(file)\n",
    "print(f\"Pages: {len(docs)}\")\n",
    " \n",
    "# raw_txt = \"\\n\\n\".join(doc for doc in docs)\n",
    "# raw_txt\n"
   ],
   "id": "1e718824f34b32e6",
   "outputs": [
    {
     "ename": "KeyboardInterrupt",
     "evalue": "",
     "output_type": "error",
     "traceback": [
      "\u001B[0;31m---------------------------------------------------------------------------\u001B[0m",
      "\u001B[0;31mKeyboardInterrupt\u001B[0m                         Traceback (most recent call last)",
      "Cell \u001B[0;32mIn[3], line 62\u001B[0m\n\u001B[1;32m     58\u001B[0m     \u001B[38;5;28;01mreturn\u001B[39;00m docs\n\u001B[1;32m     60\u001B[0m file \u001B[38;5;241m=\u001B[39m \u001B[38;5;124mf\u001B[39m\u001B[38;5;124m\"\u001B[39m\u001B[38;5;132;01m{\u001B[39;00minput_dir\u001B[38;5;132;01m}\u001B[39;00m\u001B[38;5;124m/118498.pdf\u001B[39m\u001B[38;5;124m\"\u001B[39m\n\u001B[0;32m---> 62\u001B[0m docs \u001B[38;5;241m=\u001B[39m \u001B[43mraw_txt_from_imgpdf\u001B[49m\u001B[43m(\u001B[49m\u001B[43mfile\u001B[49m\u001B[43m)\u001B[49m\n\u001B[1;32m     63\u001B[0m \u001B[38;5;28mprint\u001B[39m(\u001B[38;5;124mf\u001B[39m\u001B[38;5;124m\"\u001B[39m\u001B[38;5;124mPages: \u001B[39m\u001B[38;5;132;01m{\u001B[39;00m\u001B[38;5;28mlen\u001B[39m(docs)\u001B[38;5;132;01m}\u001B[39;00m\u001B[38;5;124m\"\u001B[39m)\n\u001B[1;32m     65\u001B[0m \u001B[38;5;66;03m# raw_txt = \"\\n\\n\".join(doc for doc in docs)\u001B[39;00m\n\u001B[1;32m     66\u001B[0m \u001B[38;5;66;03m# raw_txt\u001B[39;00m\n",
      "Cell \u001B[0;32mIn[3], line 56\u001B[0m, in \u001B[0;36mraw_txt_from_imgpdf\u001B[0;34m(in_file)\u001B[0m\n\u001B[1;32m     54\u001B[0m     custom_config \u001B[38;5;241m=\u001B[39m \u001B[38;5;124m\"\u001B[39m\u001B[38;5;124m\"\u001B[39m\n\u001B[1;32m     55\u001B[0m     text \u001B[38;5;241m=\u001B[39m pytesseract\u001B[38;5;241m.\u001B[39mimage_to_string(img, lang\u001B[38;5;241m=\u001B[39m\u001B[38;5;124m\"\u001B[39m\u001B[38;5;124mLatin\u001B[39m\u001B[38;5;124m\"\u001B[39m, config\u001B[38;5;241m=\u001B[39mcustom_config)\n\u001B[0;32m---> 56\u001B[0m     \u001B[43mdocs\u001B[49m\u001B[38;5;241m.\u001B[39mappend(text)\n\u001B[1;32m     58\u001B[0m \u001B[38;5;28;01mreturn\u001B[39;00m docs\n",
      "Cell \u001B[0;32mIn[3], line 56\u001B[0m, in \u001B[0;36mraw_txt_from_imgpdf\u001B[0;34m(in_file)\u001B[0m\n\u001B[1;32m     54\u001B[0m     custom_config \u001B[38;5;241m=\u001B[39m \u001B[38;5;124m\"\u001B[39m\u001B[38;5;124m\"\u001B[39m\n\u001B[1;32m     55\u001B[0m     text \u001B[38;5;241m=\u001B[39m pytesseract\u001B[38;5;241m.\u001B[39mimage_to_string(img, lang\u001B[38;5;241m=\u001B[39m\u001B[38;5;124m\"\u001B[39m\u001B[38;5;124mLatin\u001B[39m\u001B[38;5;124m\"\u001B[39m, config\u001B[38;5;241m=\u001B[39mcustom_config)\n\u001B[0;32m---> 56\u001B[0m     \u001B[43mdocs\u001B[49m\u001B[38;5;241m.\u001B[39mappend(text)\n\u001B[1;32m     58\u001B[0m \u001B[38;5;28;01mreturn\u001B[39;00m docs\n",
      "File \u001B[0;32m/snap/pycharm-professional/429/plugins/python-ce/helpers/pydev/_pydevd_bundle/pydevd_frame.py:755\u001B[0m, in \u001B[0;36mPyDBFrame.trace_dispatch\u001B[0;34m(self, frame, event, arg)\u001B[0m\n\u001B[1;32m    753\u001B[0m \u001B[38;5;66;03m# if thread has a suspend flag, we suspend with a busy wait\u001B[39;00m\n\u001B[1;32m    754\u001B[0m \u001B[38;5;28;01mif\u001B[39;00m info\u001B[38;5;241m.\u001B[39mpydev_state \u001B[38;5;241m==\u001B[39m STATE_SUSPEND:\n\u001B[0;32m--> 755\u001B[0m     \u001B[38;5;28;43mself\u001B[39;49m\u001B[38;5;241;43m.\u001B[39;49m\u001B[43mdo_wait_suspend\u001B[49m\u001B[43m(\u001B[49m\u001B[43mthread\u001B[49m\u001B[43m,\u001B[49m\u001B[43m \u001B[49m\u001B[43mframe\u001B[49m\u001B[43m,\u001B[49m\u001B[43m \u001B[49m\u001B[43mevent\u001B[49m\u001B[43m,\u001B[49m\u001B[43m \u001B[49m\u001B[43marg\u001B[49m\u001B[43m)\u001B[49m\n\u001B[1;32m    756\u001B[0m     \u001B[38;5;66;03m# No need to reset frame.f_trace to keep the same trace function.\u001B[39;00m\n\u001B[1;32m    757\u001B[0m     \u001B[38;5;28;01mreturn\u001B[39;00m \u001B[38;5;28mself\u001B[39m\u001B[38;5;241m.\u001B[39mtrace_dispatch\n",
      "File \u001B[0;32m/snap/pycharm-professional/429/plugins/python-ce/helpers/pydev/_pydevd_bundle/pydevd_frame.py:412\u001B[0m, in \u001B[0;36mPyDBFrame.do_wait_suspend\u001B[0;34m(self, *args, **kwargs)\u001B[0m\n\u001B[1;32m    411\u001B[0m \u001B[38;5;28;01mdef\u001B[39;00m \u001B[38;5;21mdo_wait_suspend\u001B[39m(\u001B[38;5;28mself\u001B[39m, \u001B[38;5;241m*\u001B[39margs, \u001B[38;5;241m*\u001B[39m\u001B[38;5;241m*\u001B[39mkwargs):\n\u001B[0;32m--> 412\u001B[0m     \u001B[38;5;28;43mself\u001B[39;49m\u001B[38;5;241;43m.\u001B[39;49m\u001B[43m_args\u001B[49m\u001B[43m[\u001B[49m\u001B[38;5;241;43m0\u001B[39;49m\u001B[43m]\u001B[49m\u001B[38;5;241;43m.\u001B[39;49m\u001B[43mdo_wait_suspend\u001B[49m\u001B[43m(\u001B[49m\u001B[38;5;241;43m*\u001B[39;49m\u001B[43margs\u001B[49m\u001B[43m,\u001B[49m\u001B[43m \u001B[49m\u001B[38;5;241;43m*\u001B[39;49m\u001B[38;5;241;43m*\u001B[39;49m\u001B[43mkwargs\u001B[49m\u001B[43m)\u001B[49m\n",
      "File \u001B[0;32m/snap/pycharm-professional/429/plugins/python-ce/helpers/pydev/pydevd.py:1220\u001B[0m, in \u001B[0;36mPyDB.do_wait_suspend\u001B[0;34m(self, thread, frame, event, arg, send_suspend_message, is_unhandled_exception)\u001B[0m\n\u001B[1;32m   1217\u001B[0m         from_this_thread\u001B[38;5;241m.\u001B[39mappend(frame_id)\n\u001B[1;32m   1219\u001B[0m \u001B[38;5;28;01mwith\u001B[39;00m \u001B[38;5;28mself\u001B[39m\u001B[38;5;241m.\u001B[39m_threads_suspended_single_notification\u001B[38;5;241m.\u001B[39mnotify_thread_suspended(thread_id, stop_reason):\n\u001B[0;32m-> 1220\u001B[0m     \u001B[38;5;28;43mself\u001B[39;49m\u001B[38;5;241;43m.\u001B[39;49m\u001B[43m_do_wait_suspend\u001B[49m\u001B[43m(\u001B[49m\u001B[43mthread\u001B[49m\u001B[43m,\u001B[49m\u001B[43m \u001B[49m\u001B[43mframe\u001B[49m\u001B[43m,\u001B[49m\u001B[43m \u001B[49m\u001B[43mevent\u001B[49m\u001B[43m,\u001B[49m\u001B[43m \u001B[49m\u001B[43marg\u001B[49m\u001B[43m,\u001B[49m\u001B[43m \u001B[49m\u001B[43msuspend_type\u001B[49m\u001B[43m,\u001B[49m\u001B[43m \u001B[49m\u001B[43mfrom_this_thread\u001B[49m\u001B[43m)\u001B[49m\n",
      "File \u001B[0;32m/snap/pycharm-professional/429/plugins/python-ce/helpers/pydev/pydevd.py:1235\u001B[0m, in \u001B[0;36mPyDB._do_wait_suspend\u001B[0;34m(self, thread, frame, event, arg, suspend_type, from_this_thread)\u001B[0m\n\u001B[1;32m   1232\u001B[0m             \u001B[38;5;28mself\u001B[39m\u001B[38;5;241m.\u001B[39m_call_mpl_hook()\n\u001B[1;32m   1234\u001B[0m         \u001B[38;5;28mself\u001B[39m\u001B[38;5;241m.\u001B[39mprocess_internal_commands()\n\u001B[0;32m-> 1235\u001B[0m         \u001B[43mtime\u001B[49m\u001B[38;5;241;43m.\u001B[39;49m\u001B[43msleep\u001B[49m\u001B[43m(\u001B[49m\u001B[38;5;241;43m0.01\u001B[39;49m\u001B[43m)\u001B[49m\n\u001B[1;32m   1237\u001B[0m \u001B[38;5;28mself\u001B[39m\u001B[38;5;241m.\u001B[39mcancel_async_evaluation(get_current_thread_id(thread), \u001B[38;5;28mstr\u001B[39m(\u001B[38;5;28mid\u001B[39m(frame)))\n\u001B[1;32m   1239\u001B[0m \u001B[38;5;66;03m# process any stepping instructions\u001B[39;00m\n",
      "\u001B[0;31mKeyboardInterrupt\u001B[0m: "
     ]
    }
   ],
   "execution_count": 3
  }
 ],
 "metadata": {
  "kernelspec": {
   "display_name": "Python 3",
   "language": "python",
   "name": "python3"
  },
  "language_info": {
   "codemirror_mode": {
    "name": "ipython",
    "version": 2
   },
   "file_extension": ".py",
   "mimetype": "text/x-python",
   "name": "python",
   "nbconvert_exporter": "python",
   "pygments_lexer": "ipython2",
   "version": "2.7.6"
  }
 },
 "nbformat": 4,
 "nbformat_minor": 5
}
