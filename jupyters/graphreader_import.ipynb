{
 "cells": [
  {
   "cell_type": "code",
   "execution_count": null,
   "id": "e9604dfa-9eb1-488f-8467-e695c11b3cd8",
   "metadata": {},
   "outputs": [],
   "source": [
    "!pip install --quiet neo4j langchain-community langchain-core langchain-openai langchain-text-splitters tiktoken wikipedia"
   ]
  },
  {
   "cell_type": "code",
   "execution_count": 1,
   "id": "5a291687-fe82-4380-95b8-263111ca3d9c",
   "metadata": {},
   "outputs": [
    {
     "name": "stderr",
     "output_type": "stream",
     "text": [
      "/Users/tomazbratanic/anaconda3/lib/python3.11/site-packages/pandas/core/arrays/masked.py:60: UserWarning: Pandas requires version '1.3.6' or newer of 'bottleneck' (version '1.3.5' currently installed).\n",
      "  from pandas.core import (\n"
     ]
    }
   ],
   "source": [
    "import asyncio\n",
    "import getpass\n",
    "import os\n",
    "from datetime import datetime\n",
    "from hashlib import md5\n",
    "from typing import Dict, List\n",
    "\n",
    "import pandas as pd\n",
    "import seaborn as sns\n",
    "import tiktoken\n",
    "from langchain_community.graphs import Neo4jGraph\n",
    "from langchain_community.tools import WikipediaQueryRun\n",
    "from langchain_community.utilities import WikipediaAPIWrapper\n",
    "from langchain_core.prompts import ChatPromptTemplate\n",
    "from langchain_openai import ChatOpenAI\n",
    "from langchain_text_splitters import TokenTextSplitter\n",
    "from pydantic import BaseModel, Field"
   ]
  },
  {
   "cell_type": "markdown",
   "id": "e61e001a-38e5-4a00-97e7-d42a43c230b0",
   "metadata": {},
   "source": [
    "# Graph construction\n",
    "\n",
    "Use this notebook to construct a graph\n",
    "\n",
    "# Environment Setup\n",
    "You need to setup a Neo4j to follow along with the examples in this blog post. The easiest way is to start a free instance on Neo4j Aura, which offers cloud instances of Neo4j database. Alternatively, you can also setup a local instance of the Neo4j database by downloading the Neo4j Desktop application and creating a local database instance.\n",
    "\n",
    "The following code will instantiate a LangChain wrapper to connect to Neo4j Database."
   ]
  },
  {
   "cell_type": "code",
   "execution_count": 2,
   "id": "1c0e2843-cf25-4c05-b5f7-3958ae515041",
   "metadata": {},
   "outputs": [
    {
     "data": {
      "text/plain": [
       "[]"
      ]
     },
     "execution_count": 2,
     "metadata": {},
     "output_type": "execute_result"
    }
   ],
   "source": [
    "os.environ[\"NEO4J_URI\"] = \"bolt://localhost:7687\"\n",
    "os.environ[\"NEO4J_USERNAME\"] = \"neo4j\"\n",
    "os.environ[\"NEO4J_PASSWORD\"] = \"password\"\n",
    "\n",
    "graph = Neo4jGraph(refresh_schema=False)\n",
    "\n",
    "graph.query(\"CREATE CONSTRAINT IF NOT EXISTS FOR (c:Chunk) REQUIRE c.id IS UNIQUE\")\n",
    "graph.query(\"CREATE CONSTRAINT IF NOT EXISTS FOR (c:AtomicFact) REQUIRE c.id IS UNIQUE\")\n",
    "graph.query(\"CREATE CONSTRAINT IF NOT EXISTS FOR (c:KeyElement) REQUIRE c.id IS UNIQUE\")\n",
    "graph.query(\"CREATE CONSTRAINT IF NOT EXISTS FOR (d:Document) REQUIRE d.id IS UNIQUE\")"
   ]
  },
  {
   "cell_type": "markdown",
   "id": "10823ead-5811-4e8f-bf66-c79b166fc00b",
   "metadata": {},
   "source": [
    "Additionally, we have also added constraints for the node types we will be using. The constraints ensure faster import and retrieval performance.\n",
    "\n",
    "You will require an OpenAI api key that you pass in the following code:"
   ]
  },
  {
   "cell_type": "code",
   "execution_count": 3,
   "id": "4edbe031-daf6-44d0-8812-5611c404c703",
   "metadata": {},
   "outputs": [
    {
     "name": "stdin",
     "output_type": "stream",
     "text": [
      "OpenAI API Key: ········\n"
     ]
    }
   ],
   "source": [
    "os.environ[\"OPENAI_API_KEY\"] = getpass.getpass(\"OpenAI API Key:\")"
   ]
  },
  {
   "cell_type": "markdown",
   "id": "f87afc85-cfb8-4cba-bc85-ab930329fa75",
   "metadata": {},
   "source": [
    "We will be using the Joan of Arc Wikipedia page in this example. We will use LangChain built-in utility to retrieve the text."
   ]
  },
  {
   "cell_type": "code",
   "execution_count": 4,
   "id": "02db243b-8edb-442e-b7bf-2d8f860d4be8",
   "metadata": {},
   "outputs": [],
   "source": [
    "wikipedia = WikipediaQueryRun(\n",
    "    api_wrapper=WikipediaAPIWrapper(doc_content_chars_max=10000)\n",
    ")\n",
    "text = wikipedia.run(\"Joan of Arc\")\n"
   ]
  },
  {
   "cell_type": "markdown",
   "id": "4c928429-6c5c-4385-9b41-afe2558192aa",
   "metadata": {},
   "source": [
    "As mentioned before, the GraphReader agent expects knowledge graph that contains chunks, related atomic facts, and key elements.\n",
    "\n",
    "![image](https://miro.medium.com/v2/resize:fit:1400/format:webp/1*ZU6kh8gAMkQjUiUTgaNFPQ.png)\n",
    "\n",
    "First, the document is split into chunks. In the paper they maintained paragraph structure while chunking. However, that is hard to do in a generic way. Therefore, we will use naive chunking here.\n",
    "\n",
    "Next, each chunk is processed by the LLM to identify atomic facts, which are the smallest, indivisible units of information that capture core details. For instance, from the sentence “The CEO of Neo4j, which is in Sweden, is Emil Eifrem” an atomic fact could be broken down into something like “The CEO of Neo4j is Emil Eifrem.” and “Neo4j is in Sweden.” Each atomic fact is focused on one clear, standalone piece of information.\n",
    "\n",
    "From these atomic facts, key elements are identified. For the first fact, “The CEO of Neo4j is Emil Eifrem,” the key elements would be “CEO,” “Neo4j,” and “Emil Eifrem.” For the second fact, “Neo4j is in Sweden,” the key elements would be “Neo4j” and “Sweden.” These key elements are the essential nouns and proper names that capture the core meaning of each atomic fact.\n",
    "\n",
    "The prompt used to extract the graph are provided in the appendix of the paper.\n",
    "\n",
    "![image](https://miro.medium.com/v2/resize:fit:1400/format:webp/1*U2K7VoON6thak0TeQq2svw.png)\n",
    "\n",
    "The authors used prompt-based extraction, where you instruct the LLM what it should output and then implement a function that parses the information in a structured manner. My preference for extracting structured information is to use the with_structured_output method in LangChain, which utilizes the tools feature to extract structured information. This way, we can skip defining a custom parsing function.\n",
    "\n",
    "Here is the prompt that we can use for extraction."
   ]
  },
  {
   "cell_type": "code",
   "execution_count": 5,
   "id": "811b7eca-b443-4033-8989-70ad5d181e4c",
   "metadata": {},
   "outputs": [],
   "source": [
    "construction_system = \"\"\"\n",
    "You are now an intelligent assistant tasked with meticulously extracting both key elements and\n",
    "atomic facts from a long text.\n",
    "1. Key Elements: The essential nouns (e.g., characters, times, events, places, numbers), verbs (e.g.,\n",
    "actions), and adjectives (e.g., states, feelings) that are pivotal to the text’s narrative.\n",
    "2. Atomic Facts: The smallest, indivisible facts, presented as concise sentences. These include\n",
    "propositions, theories, existences, concepts, and implicit elements like logic, causality, event\n",
    "sequences, interpersonal relationships, timelines, etc.\n",
    "Requirements:\n",
    "#####\n",
    "1. Ensure that all identified key elements are reflected within the corresponding atomic facts.\n",
    "2. You should extract key elements and atomic facts comprehensively, especially those that are\n",
    "important and potentially query-worthy and do not leave out details.\n",
    "3. Whenever applicable, replace pronouns with their specific noun counterparts (e.g., change I, He,\n",
    "She to actual names).\n",
    "4. Ensure that the key elements and atomic facts you extract are presented in the same language as\n",
    "the original text (e.g., English or Chinese).\n",
    "\"\"\"\n",
    "\n",
    "construction_human = \"\"\"Use the given format to extract information from the \n",
    "following input: {input}\"\"\"\n",
    "\n",
    "construction_prompt = ChatPromptTemplate.from_messages(\n",
    "    [\n",
    "        (\n",
    "            \"system\",\n",
    "            construction_system,\n",
    "        ),\n",
    "        (\n",
    "            \"human\",\n",
    "            (\n",
    "                \"Use the given format to extract information from the \"\n",
    "                \"following input: {input}\"\n",
    "            ),\n",
    "        ),\n",
    "    ]\n",
    ")"
   ]
  },
  {
   "cell_type": "markdown",
   "id": "ecf35a6c-c011-4a5c-bead-39a090f6ca13",
   "metadata": {},
   "source": [
    "We have put the instruction in the system prompt, and then in the user message we provide relevant text chunks that need to be processed.\n",
    "\n",
    "To define the desired output, we can use the Pydantic object definition."
   ]
  },
  {
   "cell_type": "code",
   "execution_count": 6,
   "id": "3af12e97-edca-4aac-a00e-e6ca0411d26e",
   "metadata": {},
   "outputs": [],
   "source": [
    "class AtomicFact(BaseModel):\n",
    "    key_elements: List[str] = Field(description=\"\"\"The essential nouns (e.g., characters, times, events, places, numbers), verbs (e.g.,\n",
    "actions), and adjectives (e.g., states, feelings) that are pivotal to the atomic fact's narrative.\"\"\")\n",
    "    atomic_fact: str = Field(description=\"\"\"The smallest, indivisible facts, presented as concise sentences. These include\n",
    "propositions, theories, existences, concepts, and implicit elements like logic, causality, event\n",
    "sequences, interpersonal relationships, timelines, etc.\"\"\")\n",
    "\n",
    "class Extraction(BaseModel):\n",
    "    atomic_facts: List[AtomicFact] = Field(description=\"List of atomic facts\")"
   ]
  },
  {
   "cell_type": "markdown",
   "id": "ad295701-4929-491d-ba3f-5d9d04dd82fd",
   "metadata": {},
   "source": [
    "We want to extract a list of atomic facts, where each atomic fact contains a string field with the fact, and a list of present key elements. It is important to add description to each element to get the best results.\n",
    "\n",
    "Now we can combine it all in a chain."
   ]
  },
  {
   "cell_type": "code",
   "execution_count": 7,
   "id": "0276399c-c43b-41ea-b5ad-374a747168d7",
   "metadata": {},
   "outputs": [],
   "source": [
    "model = ChatOpenAI(model=\"gpt-4o-2024-08-06\", temperature=0.1)\n",
    "structured_llm = model.with_structured_output(Extraction)\n",
    "\n",
    "construction_chain = construction_prompt | structured_llm"
   ]
  },
  {
   "cell_type": "code",
   "execution_count": 8,
   "id": "f16717f9-4d4b-4857-9ef3-6edccdd4ac4a",
   "metadata": {},
   "outputs": [],
   "source": [
    "import_query = \"\"\"\n",
    "MERGE (d:Document {id:$document_name})\n",
    "WITH d\n",
    "UNWIND $data AS row\n",
    "MERGE (c:Chunk {id: row.chunk_id})\n",
    "SET c.text = row.chunk_text,\n",
    "    c.index = row.index,\n",
    "    c.document_name = row.document_name\n",
    "MERGE (d)-[:HAS_CHUNK]->(c)\n",
    "WITH c, row\n",
    "UNWIND row.atomic_facts AS af\n",
    "MERGE (a:AtomicFact {id: af.id})\n",
    "SET a.text = af.atomic_fact\n",
    "MERGE (c)-[:HAS_ATOMIC_FACT]->(a)\n",
    "WITH c, a, af\n",
    "UNWIND af.key_elements AS ke\n",
    "MERGE (k:KeyElement {id: ke})\n",
    "MERGE (a)-[:HAS_KEY_ELEMENT]->(k)\n",
    "\"\"\"\n",
    "\n",
    "def encode_md5(text):\n",
    "    return md5(text.encode(\"utf-8\")).hexdigest()"
   ]
  },
  {
   "cell_type": "markdown",
   "id": "5428dfc8-99d5-4730-a2a8-a1f3e1235753",
   "metadata": {},
   "source": [
    "To put it all together, we’ll create a function that takes a single document, chunks it, extracts atomic facts and key elements, and stores the results into Neo4j."
   ]
  },
  {
   "cell_type": "code",
   "execution_count": 9,
   "id": "dd7fd334-1280-4080-b14b-1f3a6187df93",
   "metadata": {},
   "outputs": [],
   "source": [
    "# Paper used 2k token size\n",
    "async def process_document(text, document_name, chunk_size=2000, chunk_overlap=200):\n",
    "    start = datetime.now()\n",
    "    print(f\"Started extraction at: {start}\")\n",
    "    text_splitter = TokenTextSplitter(chunk_size=chunk_size, chunk_overlap=chunk_overlap)\n",
    "    texts = text_splitter.split_text(text)\n",
    "    print(f\"Total text chunks: {len(texts)}\")\n",
    "    tasks = [\n",
    "        asyncio.create_task(construction_chain.ainvoke({\"input\":chunk_text}))\n",
    "        for index, chunk_text in enumerate(texts)\n",
    "    ]\n",
    "    results = await asyncio.gather(*tasks)\n",
    "    print(f\"Finished LLM extraction after: {datetime.now() - start}\")\n",
    "    docs = [el.dict() for el in results]\n",
    "    for index, doc in enumerate(docs):\n",
    "        doc['chunk_id'] = encode_md5(texts[index])\n",
    "        doc['chunk_text'] = texts[index]\n",
    "        doc['index'] = index\n",
    "        for af in doc[\"atomic_facts\"]:\n",
    "            af[\"id\"] = encode_md5(af[\"atomic_fact\"])\n",
    "    # Import chunks/atomic facts/key elements\n",
    "    graph.query(import_query, \n",
    "            params={\"data\": docs, \"document_name\": document_name})\n",
    "    # Create next relationships between chunks\n",
    "    graph.query(\"\"\"MATCH (c:Chunk)<-[:HAS_CHUNK]-(d:Document)\n",
    "WHERE d.id = $document_name\n",
    "WITH c ORDER BY c.index WITH collect(c) AS nodes\n",
    "UNWIND range(0, size(nodes) -2) AS index\n",
    "WITH nodes[index] AS start, nodes[index + 1] AS end\n",
    "MERGE (start)-[:NEXT]->(end)\n",
    "\"\"\",\n",
    "           params={\"document_name\":document_name})\n",
    "    print(f\"Finished import at: {datetime.now() - start}\")"
   ]
  },
  {
   "cell_type": "markdown",
   "id": "1b3a91be-1c2a-41b7-a01f-5c59b36c38f3",
   "metadata": {},
   "source": [
    "At a high level, this code processes a document by breaking it into chunks, extracting information from each chunk using an AI model, and storing the results in a graph database. Here’s a summary:\n",
    "\n",
    "1. It splits the document text into chunks of a specified size, allowing for some overlap. The chunk size of 2000 tokens is used by the authors in the paper.\n",
    "2. For each chunk, it asynchronously sends the text to an LLM for extraction of atomic facts and key elements.\n",
    "3. Each chunk and fact is given a unique identifier using an md5 encoding function.\n",
    "4. The processed data is imported into a graph database, with relationships established between consecutive chunks.\n",
    "\n",
    "We can now run this function on our Joan of Arc text."
   ]
  },
  {
   "cell_type": "code",
   "execution_count": 10,
   "id": "257853dd-f0fd-4de0-8517-20a080a62cbd",
   "metadata": {},
   "outputs": [
    {
     "name": "stdout",
     "output_type": "stream",
     "text": [
      "Started extraction at: 2024-09-21 10:36:57.609347\n",
      "Total text chunks: 4\n",
      "Finished LLM extraction after: 0:00:12.036753\n",
      "Finished import at: 0:00:12.132462\n"
     ]
    }
   ],
   "source": [
    "await process_document(text, \"Joan of Arc\", chunk_size=500, chunk_overlap=100)"
   ]
  },
  {
   "cell_type": "markdown",
   "id": "7685692c-692c-4228-9798-5b9f1d68ef90",
   "metadata": {},
   "source": [
    "We used a smaller chunk size because it’s a small document, and we want to have a couple of chunks for demonstration purposes. If you explore the graph in Neo4j Browser, you should see a similar visualization.\n",
    "\n",
    "![image](https://miro.medium.com/v2/resize:fit:1400/format:webp/1*dTypf1s6rKLFBajeKixeQQ.png)\n",
    "\n",
    "At the center of the structure is the document node (blue), which branches out to chunk nodes (pink). These chunk nodes, in turn, are linked to atomic facts (orange), each of which connects to key elements (green).\n",
    "\n",
    "Let’s examine the constructed graph a bit. We’ll start of by examining the token count distribution of atomic facts."
   ]
  },
  {
   "cell_type": "code",
   "execution_count": 11,
   "id": "cb38cc85-f260-4ed2-9646-b3cd858a3baf",
   "metadata": {},
   "outputs": [
    {
     "data": {
      "text/plain": [
       "<Axes: xlabel='tokens', ylabel='Count'>"
      ]
     },
     "execution_count": 11,
     "metadata": {},
     "output_type": "execute_result"
    },
    {
     "data": {
      "image/png": "[encoded data removed]",
      "text/plain": [
       "<Figure size 640x480 with 1 Axes>"
      ]
     },
     "metadata": {},
     "output_type": "display_data"
    }
   ],
   "source": [
    "def num_tokens_from_string(string: str) -> int:\n",
    "    \"\"\"Returns the number of tokens in a text string.\"\"\"\n",
    "    encoding = tiktoken.encoding_for_model(\"gpt-4\")\n",
    "    num_tokens = len(encoding.encode(string))\n",
    "    return num_tokens\n",
    "\n",
    "\n",
    "atomic_facts = graph.query(\"MATCH (a:AtomicFact) RETURN a.text AS text\")\n",
    "df = pd.DataFrame.from_records(\n",
    "    [{\"tokens\": num_tokens_from_string(el[\"text\"])} for el in atomic_facts]\n",
    ")\n",
    "\n",
    "sns.histplot(df[\"tokens\"])"
   ]
  },
  {
   "cell_type": "markdown",
   "id": "5c6a5fc9-61c6-49a7-9d83-e7f2da250cfb",
   "metadata": {},
   "source": [
    "Atomic facts are relatively short, with the longest being only about 50 tokens. Let’s examine a couple to get a better idea."
   ]
  },
  {
   "cell_type": "code",
   "execution_count": 12,
   "id": "8b827021-8ef2-411e-a4e0-21de46d7c1a3",
   "metadata": {},
   "outputs": [
    {
     "data": {
      "text/plain": [
       "[{'text': 'In 1430, Joan of Arc was captured by Burgundian forces.'},\n",
       " {'text': 'In 1920, Joan of Arc was canonized by Pope Benedict XV.'},\n",
       " {'text': 'Joan of Arc was captured by Burgundian troops on 23 May.'},\n",
       " {'text': \"Joan of Arc was put on trial by Bishop Pierre Cauchon on accusations of heresy, including blaspheming by wearing men's clothes, acting upon visions that were demonic, and refusing to submit her words and deeds to the judgment of the church.\"},\n",
       " {'text': 'Joan of Arc encouraged the French to pursue the English during the Loire Campaign, leading to a victory at Patay and allowing the French army to advance on Reims, where Charles VII was crowned king with Joan at his side.'},\n",
       " {'text': \"The film was directed by Carl Theodor Dreyer and stars Renée Jeanne Falconetti as Joan, and it is widely regarded as a landmark of cinema, especially for its production, Dreyer's direction, and Falconetti's performance.\"}]"
      ]
     },
     "execution_count": 12,
     "metadata": {},
     "output_type": "execute_result"
    }
   ],
   "source": [
    "graph.query(\"\"\"MATCH (a:AtomicFact) \n",
    "RETURN a.text AS text\n",
    "ORDER BY size(text) ASC LIMIT 3\n",
    "UNION ALL\n",
    "MATCH (a:AtomicFact) \n",
    "RETURN a.text AS text\n",
    "ORDER BY size(text) DESC LIMIT 3\"\"\")"
   ]
  },
  {
   "cell_type": "markdown",
   "id": "12b1a691-92ab-4c18-b5d3-007936ccfe28",
   "metadata": {},
   "source": [
    "Let’s also examine the most frequent keywords."
   ]
  },
  {
   "cell_type": "code",
   "execution_count": 13,
   "id": "4985da32-26bb-49ce-b99a-3ffafa49d86f",
   "metadata": {},
   "outputs": [
    {
     "data": {
      "text/plain": [
       "<Axes: xlabel='key', ylabel='connections'>"
      ]
     },
     "execution_count": 13,
     "metadata": {},
     "output_type": "execute_result"
    },
    {
     "data": {
      "image/png": "[encoded data removed]",
      "text/plain": [
       "<Figure size 640x480 with 1 Axes>"
      ]
     },
     "metadata": {},
     "output_type": "display_data"
    }
   ],
   "source": [
    "data = graph.query(\"\"\"\n",
    "MATCH (a:KeyElement) \n",
    "RETURN a.id AS key, \n",
    "       count{(a)<-[:HAS_KEY_ELEMENT]-()} AS connections\n",
    "ORDER BY connections DESC LIMIT 5\"\"\")\n",
    "df = pd.DataFrame.from_records(data)\n",
    "sns.barplot(df, x='key', y='connections')"
   ]
  },
  {
   "cell_type": "markdown",
   "id": "71e86da2-d4e6-4d98-a365-a2fa4046dd05",
   "metadata": {},
   "source": [
    "Unsurprisingly, Joan of Arc is the most mentioned keyword or element. Following are broad keywords like film, English, and France. I suspect that if we parsed many documents, broad keywords would end up having a lot of connections, which might lead to some downstream problems that aren’t dealt with in the original implementation. Another minor problem is the non-determinism of the extraction, as the results will be slight different on every run.\n",
    "\n",
    "Additionally, the authors employ key element normalization as described in Lu et al. (2023), specifically using frequency filtering, rule, semantic, and association aggregation. In this implementation, we skipped this step."
   ]
  },
  {
   "cell_type": "code",
   "execution_count": null,
   "id": "7350870a-d975-4fe6-bde4-659ec210bd49",
   "metadata": {},
   "outputs": [],
   "source": []
  }
 ],
 "metadata": {
  "kernelspec": {
   "display_name": "Python 3 (ipykernel)",
   "language": "python",
   "name": "python3"
  },
  "language_info": {
   "codemirror_mode": {
    "name": "ipython",
    "version": 3
   },
   "file_extension": ".py",
   "mimetype": "text/x-python",
   "name": "python",
   "nbconvert_exporter": "python",
   "pygments_lexer": "ipython3",
   "version": "3.11.5"
  }
 },
 "nbformat": 4,
 "nbformat_minor": 5
}
