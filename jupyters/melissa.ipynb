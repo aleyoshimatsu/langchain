{
 "cells": [
  {
   "cell_type": "code",
   "id": "initial_id",
   "metadata": {
    "collapsed": true,
    "ExecuteTime": {
     "end_time": "2024-10-19T23:26:12.530824Z",
     "start_time": "2024-10-19T23:26:12.527955Z"
    }
   },
   "source": "import pandas as pd",
   "outputs": [],
   "execution_count": 282
  },
  {
   "metadata": {
    "ExecuteTime": {
     "end_time": "2024-10-19T23:26:12.573927Z",
     "start_time": "2024-10-19T23:26:12.571426Z"
    }
   },
   "cell_type": "code",
   "source": [
    "file = '../files/TABELA ESTATÍSTICO_06-15-23 (3).xlsx'\n",
    "file2 = '../files/TABELA ESTATÍSTICO_21-01-24.xlsx'"
   ],
   "id": "5803087257bd2f6b",
   "outputs": [],
   "execution_count": 283
  },
  {
   "metadata": {
    "ExecuteTime": {
     "end_time": "2024-10-19T23:26:12.956892Z",
     "start_time": "2024-10-19T23:26:12.633096Z"
    }
   },
   "cell_type": "code",
   "source": [
    "df_excel = pd.read_excel(file)\n",
    "df_excel2 = pd.read_excel(file2)"
   ],
   "id": "b4420bd909d0c63d",
   "outputs": [
    {
     "name": "stderr",
     "output_type": "stream",
     "text": [
      "/home/alexandre_pantalena/desenvolvimento/repos/langchain/langchain_venv/lib/python3.9/site-packages/openpyxl/worksheet/_reader.py:329: UserWarning: Data Validation extension is not supported and will be removed\n",
      "  warn(msg)\n"
     ]
    }
   ],
   "execution_count": 284
  },
  {
   "metadata": {
    "ExecuteTime": {
     "end_time": "2024-10-19T23:26:13.006671Z",
     "start_time": "2024-10-19T23:26:12.992643Z"
    }
   },
   "cell_type": "code",
   "source": "df_excel.head()",
   "id": "911ef4a7e0733a5f",
   "outputs": [
    {
     "data": {
      "text/plain": [
       "   id                 Nome Paciente  Indicator_study      SAME       Data  \\\n",
       "0   1           Dora Mattar Beyruti              1.0  11630850 2021-07-23   \n",
       "1   2              Flosir Cornelsen              1.0  11612014 2021-07-17   \n",
       "2   3  Regina Mª Gesualdi Candalaft              NaN  11600706 2021-07-17   \n",
       "3   4               Antonio Martins              1.0  11612320 2021-07-18   \n",
       "4   6           Edson Kazuo Shiraga              1.0  11623068 2021-07-27   \n",
       "\n",
       "   Idade       Sexo Estado Civil           Estado Civil 2  \\\n",
       "0     71   Feminino       casado  mora com companheiro(a)   \n",
       "1     85  Masculino       casado  mora com companheiro(a)   \n",
       "2     65   Feminino          NaN                      NaN   \n",
       "3     77  Masculino       casado                      NaN   \n",
       "4     65  Masculino   divorciado        Sem companheiro/a   \n",
       "\n",
       "               Escolaridade  ... MEDAS M6 Adesão ao MEDAS M6 Reinternação M3  \\\n",
       "0  ensino superior completo  ...       13                Sim             Não   \n",
       "1  ensino superior completo  ...        7                Não             Não   \n",
       "2                       NaN  ...      NaN                Não             NaN   \n",
       "3  ensino superior completo  ...      NaN                NaN             Não   \n",
       "4  ensino superior completo  ...       11                Sim             Não   \n",
       "\n",
       "  Reinternação M6 Colesterol total(6M) Colesterol\\nDesejável < 190 (6M)  \\\n",
       "0             Não                  NaN                              NaN   \n",
       "1             Não                  NaN                              NaN   \n",
       "2             NaN                  NaN                              NaN   \n",
       "3             NaN                195.0                              Não   \n",
       "4             Não                132.0                              Sim   \n",
       "\n",
       "  Triglicerideos (6M)  Triglicerideos\\nDesejável < 150 (6M)  PCR2  \\\n",
       "0                 NaN                                   NaN  0.58   \n",
       "1                 NaN                                   NaN   NaN   \n",
       "2                 NaN                                   NaN   NaN   \n",
       "3               106.0                                   Sim  0.08   \n",
       "4                85.0                                   Sim  0.10   \n",
       "\n",
       "  Indicador de Risco Cardiovascular2  \n",
       "0                               Alto  \n",
       "1                                NaN  \n",
       "2                              Baixo  \n",
       "3                              Baixo  \n",
       "4                      Intermediário  \n",
       "\n",
       "[5 rows x 76 columns]"
      ],
      "text/html": [
       "<div>\n",
       "<style scoped>\n",
       "    .dataframe tbody tr th:only-of-type {\n",
       "        vertical-align: middle;\n",
       "    }\n",
       "\n",
       "    .dataframe tbody tr th {\n",
       "        vertical-align: top;\n",
       "    }\n",
       "\n",
       "    .dataframe thead th {\n",
       "        text-align: right;\n",
       "    }\n",
       "</style>\n",
       "<table border=\"1\" class=\"dataframe\">\n",
       "  <thead>\n",
       "    <tr style=\"text-align: right;\">\n",
       "      <th></th>\n",
       "      <th>id</th>\n",
       "      <th>Nome Paciente</th>\n",
       "      <th>Indicator_study</th>\n",
       "      <th>SAME</th>\n",
       "      <th>Data</th>\n",
       "      <th>Idade</th>\n",
       "      <th>Sexo</th>\n",
       "      <th>Estado Civil</th>\n",
       "      <th>Estado Civil 2</th>\n",
       "      <th>Escolaridade</th>\n",
       "      <th>...</th>\n",
       "      <th>MEDAS M6</th>\n",
       "      <th>Adesão ao MEDAS M6</th>\n",
       "      <th>Reinternação M3</th>\n",
       "      <th>Reinternação M6</th>\n",
       "      <th>Colesterol total(6M)</th>\n",
       "      <th>Colesterol\\nDesejável &lt; 190 (6M)</th>\n",
       "      <th>Triglicerideos (6M)</th>\n",
       "      <th>Triglicerideos\\nDesejável &lt; 150 (6M)</th>\n",
       "      <th>PCR2</th>\n",
       "      <th>Indicador de Risco Cardiovascular2</th>\n",
       "    </tr>\n",
       "  </thead>\n",
       "  <tbody>\n",
       "    <tr>\n",
       "      <th>0</th>\n",
       "      <td>1</td>\n",
       "      <td>Dora Mattar Beyruti</td>\n",
       "      <td>1.0</td>\n",
       "      <td>11630850</td>\n",
       "      <td>2021-07-23</td>\n",
       "      <td>71</td>\n",
       "      <td>Feminino</td>\n",
       "      <td>casado</td>\n",
       "      <td>mora com companheiro(a)</td>\n",
       "      <td>ensino superior completo</td>\n",
       "      <td>...</td>\n",
       "      <td>13</td>\n",
       "      <td>Sim</td>\n",
       "      <td>Não</td>\n",
       "      <td>Não</td>\n",
       "      <td>NaN</td>\n",
       "      <td>NaN</td>\n",
       "      <td>NaN</td>\n",
       "      <td>NaN</td>\n",
       "      <td>0.58</td>\n",
       "      <td>Alto</td>\n",
       "    </tr>\n",
       "    <tr>\n",
       "      <th>1</th>\n",
       "      <td>2</td>\n",
       "      <td>Flosir Cornelsen</td>\n",
       "      <td>1.0</td>\n",
       "      <td>11612014</td>\n",
       "      <td>2021-07-17</td>\n",
       "      <td>85</td>\n",
       "      <td>Masculino</td>\n",
       "      <td>casado</td>\n",
       "      <td>mora com companheiro(a)</td>\n",
       "      <td>ensino superior completo</td>\n",
       "      <td>...</td>\n",
       "      <td>7</td>\n",
       "      <td>Não</td>\n",
       "      <td>Não</td>\n",
       "      <td>Não</td>\n",
       "      <td>NaN</td>\n",
       "      <td>NaN</td>\n",
       "      <td>NaN</td>\n",
       "      <td>NaN</td>\n",
       "      <td>NaN</td>\n",
       "      <td>NaN</td>\n",
       "    </tr>\n",
       "    <tr>\n",
       "      <th>2</th>\n",
       "      <td>3</td>\n",
       "      <td>Regina Mª Gesualdi Candalaft</td>\n",
       "      <td>NaN</td>\n",
       "      <td>11600706</td>\n",
       "      <td>2021-07-17</td>\n",
       "      <td>65</td>\n",
       "      <td>Feminino</td>\n",
       "      <td>NaN</td>\n",
       "      <td>NaN</td>\n",
       "      <td>NaN</td>\n",
       "      <td>...</td>\n",
       "      <td>NaN</td>\n",
       "      <td>Não</td>\n",
       "      <td>NaN</td>\n",
       "      <td>NaN</td>\n",
       "      <td>NaN</td>\n",
       "      <td>NaN</td>\n",
       "      <td>NaN</td>\n",
       "      <td>NaN</td>\n",
       "      <td>NaN</td>\n",
       "      <td>Baixo</td>\n",
       "    </tr>\n",
       "    <tr>\n",
       "      <th>3</th>\n",
       "      <td>4</td>\n",
       "      <td>Antonio Martins</td>\n",
       "      <td>1.0</td>\n",
       "      <td>11612320</td>\n",
       "      <td>2021-07-18</td>\n",
       "      <td>77</td>\n",
       "      <td>Masculino</td>\n",
       "      <td>casado</td>\n",
       "      <td>NaN</td>\n",
       "      <td>ensino superior completo</td>\n",
       "      <td>...</td>\n",
       "      <td>NaN</td>\n",
       "      <td>NaN</td>\n",
       "      <td>Não</td>\n",
       "      <td>NaN</td>\n",
       "      <td>195.0</td>\n",
       "      <td>Não</td>\n",
       "      <td>106.0</td>\n",
       "      <td>Sim</td>\n",
       "      <td>0.08</td>\n",
       "      <td>Baixo</td>\n",
       "    </tr>\n",
       "    <tr>\n",
       "      <th>4</th>\n",
       "      <td>6</td>\n",
       "      <td>Edson Kazuo Shiraga</td>\n",
       "      <td>1.0</td>\n",
       "      <td>11623068</td>\n",
       "      <td>2021-07-27</td>\n",
       "      <td>65</td>\n",
       "      <td>Masculino</td>\n",
       "      <td>divorciado</td>\n",
       "      <td>Sem companheiro/a</td>\n",
       "      <td>ensino superior completo</td>\n",
       "      <td>...</td>\n",
       "      <td>11</td>\n",
       "      <td>Sim</td>\n",
       "      <td>Não</td>\n",
       "      <td>Não</td>\n",
       "      <td>132.0</td>\n",
       "      <td>Sim</td>\n",
       "      <td>85.0</td>\n",
       "      <td>Sim</td>\n",
       "      <td>0.10</td>\n",
       "      <td>Intermediário</td>\n",
       "    </tr>\n",
       "  </tbody>\n",
       "</table>\n",
       "<p>5 rows × 76 columns</p>\n",
       "</div>"
      ]
     },
     "execution_count": 285,
     "metadata": {},
     "output_type": "execute_result"
    }
   ],
   "execution_count": 285
  },
  {
   "metadata": {
    "ExecuteTime": {
     "end_time": "2024-10-19T23:26:13.094752Z",
     "start_time": "2024-10-19T23:26:13.090055Z"
    }
   },
   "cell_type": "code",
   "source": "df_excel['MEDAS M3'].value_counts()",
   "id": "5d390b0fca29356e",
   "outputs": [
    {
     "data": {
      "text/plain": [
       "MEDAS M3\n",
       "8                      18\n",
       "11                     18\n",
       "7                      15\n",
       "9                      15\n",
       "10                     14\n",
       "12                     12\n",
       "5                      11\n",
       "6                      11\n",
       "13                      8\n",
       "4                       6\n",
       "2022-04-01 00:00:00     4\n",
       "3                       2\n",
       "AGO                     2\n",
       "2022-05-01 00:00:00     2\n",
       "SET                     2\n",
       "                        1\n",
       "Name: count, dtype: int64"
      ]
     },
     "execution_count": 286,
     "metadata": {},
     "output_type": "execute_result"
    }
   ],
   "execution_count": 286
  },
  {
   "metadata": {
    "ExecuteTime": {
     "end_time": "2024-10-19T23:26:13.168459Z",
     "start_time": "2024-10-19T23:26:13.159911Z"
    }
   },
   "cell_type": "code",
   "source": [
    "df_excel['MEDAS M3 INT'] = pd.to_numeric(df_excel['MEDAS M3'], errors=\"coerce\")\n",
    "df_excel['MEDAS M6 INT'] = pd.to_numeric(df_excel['MEDAS M6'], errors=\"coerce\")\n",
    "\n",
    "df_excel2['MEDAS M3 INT'] = pd.to_numeric(df_excel2['MEDAS M3'], errors=\"coerce\")\n",
    "df_excel2['MEDAS M6 INT'] = pd.to_numeric(df_excel2['MEDAS M6'], errors=\"coerce\")"
   ],
   "id": "14d2935cee0007e1",
   "outputs": [],
   "execution_count": 287
  },
  {
   "metadata": {
    "ExecuteTime": {
     "end_time": "2024-10-19T23:26:13.275064Z",
     "start_time": "2024-10-19T23:26:13.270041Z"
    }
   },
   "cell_type": "code",
   "source": [
    "filtered_df = df_excel[df_excel[['MEDAS M3 INT', 'MEDAS M6 INT']].notnull().all(1)]\n",
    "filtered_df2 = df_excel2[df_excel2[['MEDAS M3 INT', 'MEDAS M6 INT']].notnull().all(1)]"
   ],
   "id": "8d0c1faffd94fcb1",
   "outputs": [],
   "execution_count": 288
  },
  {
   "metadata": {},
   "cell_type": "markdown",
   "source": "# Idade",
   "id": "1f959dcd038939d8"
  },
  {
   "metadata": {
    "ExecuteTime": {
     "end_time": "2024-10-19T23:26:13.501628Z",
     "start_time": "2024-10-19T23:26:13.495736Z"
    }
   },
   "cell_type": "code",
   "source": "filtered_df['Idade'].describe()",
   "id": "4f767538839a528a",
   "outputs": [
    {
     "data": {
      "text/plain": [
       "count    126.000000\n",
       "mean      65.865079\n",
       "std       11.763233\n",
       "min       38.000000\n",
       "25%       57.250000\n",
       "50%       67.000000\n",
       "75%       75.000000\n",
       "max       91.000000\n",
       "Name: Idade, dtype: float64"
      ]
     },
     "execution_count": 289,
     "metadata": {},
     "output_type": "execute_result"
    }
   ],
   "execution_count": 289
  },
  {
   "metadata": {},
   "cell_type": "markdown",
   "source": "# Sexo",
   "id": "fea76d4e9e33bec8"
  },
  {
   "metadata": {
    "ExecuteTime": {
     "end_time": "2024-10-19T23:26:13.609111Z",
     "start_time": "2024-10-19T23:26:13.604800Z"
    }
   },
   "cell_type": "code",
   "source": "filtered_df['Sexo'].value_counts()",
   "id": "cc963193804a1e98",
   "outputs": [
    {
     "data": {
      "text/plain": [
       "Sexo\n",
       "Masculino    101\n",
       "Feminino      25\n",
       "Name: count, dtype: int64"
      ]
     },
     "execution_count": 290,
     "metadata": {},
     "output_type": "execute_result"
    }
   ],
   "execution_count": 290
  },
  {
   "metadata": {
    "ExecuteTime": {
     "end_time": "2024-10-19T23:26:13.718417Z",
     "start_time": "2024-10-19T23:26:13.713301Z"
    }
   },
   "cell_type": "code",
   "source": "filtered_df['Sexo'].value_counts(normalize=True) * 100",
   "id": "81ff81403bac251",
   "outputs": [
    {
     "data": {
      "text/plain": [
       "Sexo\n",
       "Masculino    80.15873\n",
       "Feminino     19.84127\n",
       "Name: proportion, dtype: float64"
      ]
     },
     "execution_count": 291,
     "metadata": {},
     "output_type": "execute_result"
    }
   ],
   "execution_count": 291
  },
  {
   "metadata": {},
   "cell_type": "markdown",
   "source": "# Escolaridade",
   "id": "5ffe4b571e217dca"
  },
  {
   "metadata": {
    "ExecuteTime": {
     "end_time": "2024-10-19T23:26:13.799633Z",
     "start_time": "2024-10-19T23:26:13.795573Z"
    }
   },
   "cell_type": "code",
   "source": "filtered_df['Escolaridade 2'].value_counts()",
   "id": "463c3b5a3f1b9da7",
   "outputs": [
    {
     "data": {
      "text/plain": [
       "Escolaridade 2\n",
       "ensino superior       108\n",
       "ensino médio           14\n",
       "ensino fundamental      4\n",
       "Name: count, dtype: int64"
      ]
     },
     "execution_count": 292,
     "metadata": {},
     "output_type": "execute_result"
    }
   ],
   "execution_count": 292
  },
  {
   "metadata": {
    "ExecuteTime": {
     "end_time": "2024-10-19T23:26:13.960636Z",
     "start_time": "2024-10-19T23:26:13.956105Z"
    }
   },
   "cell_type": "code",
   "source": "filtered_df['Escolaridade 2'].value_counts(normalize=True) * 100",
   "id": "d93a2a1849b89f87",
   "outputs": [
    {
     "data": {
      "text/plain": [
       "Escolaridade 2\n",
       "ensino superior       85.714286\n",
       "ensino médio          11.111111\n",
       "ensino fundamental     3.174603\n",
       "Name: proportion, dtype: float64"
      ]
     },
     "execution_count": 293,
     "metadata": {},
     "output_type": "execute_result"
    }
   ],
   "execution_count": 293
  },
  {
   "metadata": {},
   "cell_type": "markdown",
   "source": "# Estado civil",
   "id": "1ed0e7034bea6f6a"
  },
  {
   "metadata": {
    "ExecuteTime": {
     "end_time": "2024-10-19T23:26:14.145470Z",
     "start_time": "2024-10-19T23:26:14.141479Z"
    }
   },
   "cell_type": "code",
   "source": "filtered_df['Estado Civil 2'].value_counts()",
   "id": "ed611e233dfa9d13",
   "outputs": [
    {
     "data": {
      "text/plain": [
       "Estado Civil 2\n",
       "mora com companheiro(a)    112\n",
       "Sem companheiro/a           14\n",
       "Name: count, dtype: int64"
      ]
     },
     "execution_count": 294,
     "metadata": {},
     "output_type": "execute_result"
    }
   ],
   "execution_count": 294
  },
  {
   "metadata": {
    "ExecuteTime": {
     "end_time": "2024-10-19T23:26:14.290393Z",
     "start_time": "2024-10-19T23:26:14.285477Z"
    }
   },
   "cell_type": "code",
   "source": "filtered_df['Estado Civil 2'].value_counts(normalize=True) * 100",
   "id": "76b139a9beeb0009",
   "outputs": [
    {
     "data": {
      "text/plain": [
       "Estado Civil 2\n",
       "mora com companheiro(a)    88.888889\n",
       "Sem companheiro/a          11.111111\n",
       "Name: proportion, dtype: float64"
      ]
     },
     "execution_count": 295,
     "metadata": {},
     "output_type": "execute_result"
    }
   ],
   "execution_count": 295
  },
  {
   "metadata": {},
   "cell_type": "markdown",
   "source": "# Religião",
   "id": "335c76812482c419"
  },
  {
   "metadata": {
    "ExecuteTime": {
     "end_time": "2024-10-19T23:26:14.428161Z",
     "start_time": "2024-10-19T23:26:14.423837Z"
    }
   },
   "cell_type": "code",
   "source": "filtered_df['Religião 2'].value_counts()",
   "id": "7b95bdc30b09f5f8",
   "outputs": [
    {
     "data": {
      "text/plain": [
       "Religião 2\n",
       "Católico      98\n",
       "Outros        24\n",
       "Evangélico     4\n",
       "Name: count, dtype: int64"
      ]
     },
     "execution_count": 296,
     "metadata": {},
     "output_type": "execute_result"
    }
   ],
   "execution_count": 296
  },
  {
   "metadata": {
    "ExecuteTime": {
     "end_time": "2024-10-19T23:26:14.572739Z",
     "start_time": "2024-10-19T23:26:14.568177Z"
    }
   },
   "cell_type": "code",
   "source": "filtered_df['Religião 2'].value_counts(normalize=True) * 100",
   "id": "cdd099e531b8d92f",
   "outputs": [
    {
     "data": {
      "text/plain": [
       "Religião 2\n",
       "Católico      77.777778\n",
       "Outros        19.047619\n",
       "Evangélico     3.174603\n",
       "Name: proportion, dtype: float64"
      ]
     },
     "execution_count": 297,
     "metadata": {},
     "output_type": "execute_result"
    }
   ],
   "execution_count": 297
  },
  {
   "metadata": {},
   "cell_type": "markdown",
   "source": "# Região",
   "id": "262fe5c7bb65e4d"
  },
  {
   "metadata": {
    "ExecuteTime": {
     "end_time": "2024-10-19T23:26:14.722717Z",
     "start_time": "2024-10-19T23:26:14.717741Z"
    }
   },
   "cell_type": "code",
   "source": "filtered_df['Região 2'].value_counts()",
   "id": "2430af2be739ff8b",
   "outputs": [
    {
     "data": {
      "text/plain": [
       "Região 2\n",
       "Sudeste           92\n",
       "Outras regiões    30\n",
       "Sul                4\n",
       "Name: count, dtype: int64"
      ]
     },
     "execution_count": 298,
     "metadata": {},
     "output_type": "execute_result"
    }
   ],
   "execution_count": 298
  },
  {
   "metadata": {
    "ExecuteTime": {
     "end_time": "2024-10-19T23:26:14.851161Z",
     "start_time": "2024-10-19T23:26:14.846338Z"
    }
   },
   "cell_type": "code",
   "source": "filtered_df['Região 2'].value_counts(normalize=True) * 100",
   "id": "b3b2189c99b1ed57",
   "outputs": [
    {
     "data": {
      "text/plain": [
       "Região 2\n",
       "Sudeste           73.015873\n",
       "Outras regiões    23.809524\n",
       "Sul                3.174603\n",
       "Name: proportion, dtype: float64"
      ]
     },
     "execution_count": 299,
     "metadata": {},
     "output_type": "execute_result"
    }
   ],
   "execution_count": 299
  },
  {
   "metadata": {},
   "cell_type": "markdown",
   "source": "# Raça",
   "id": "b47d5968aad4eb76"
  },
  {
   "metadata": {
    "ExecuteTime": {
     "end_time": "2024-10-19T23:26:14.942861Z",
     "start_time": "2024-10-19T23:26:14.938814Z"
    }
   },
   "cell_type": "code",
   "source": "filtered_df['Raça 2'].value_counts()",
   "id": "ad6dabc09df74cef",
   "outputs": [
    {
     "data": {
      "text/plain": [
       "Raça 2\n",
       "Branca        123\n",
       "Não branca      3\n",
       "Name: count, dtype: int64"
      ]
     },
     "execution_count": 300,
     "metadata": {},
     "output_type": "execute_result"
    }
   ],
   "execution_count": 300
  },
  {
   "metadata": {
    "ExecuteTime": {
     "end_time": "2024-10-19T23:26:15.082675Z",
     "start_time": "2024-10-19T23:26:15.078193Z"
    }
   },
   "cell_type": "code",
   "source": "filtered_df['Raça 2'].value_counts(normalize=True) * 100",
   "id": "e936810bb5ccfe9d",
   "outputs": [
    {
     "data": {
      "text/plain": [
       "Raça 2\n",
       "Branca        97.619048\n",
       "Não branca     2.380952\n",
       "Name: proportion, dtype: float64"
      ]
     },
     "execution_count": 301,
     "metadata": {},
     "output_type": "execute_result"
    }
   ],
   "execution_count": 301
  },
  {
   "metadata": {},
   "cell_type": "markdown",
   "source": "# Classificação da ocupação",
   "id": "a6a4dc556297f0cf"
  },
  {
   "metadata": {
    "ExecuteTime": {
     "end_time": "2024-10-19T23:26:15.308491Z",
     "start_time": "2024-10-19T23:26:15.302429Z"
    }
   },
   "cell_type": "code",
   "source": "filtered_df['Classificação da ocupação'].value_counts()",
   "id": "18c3258ab14a5ede",
   "outputs": [
    {
     "data": {
      "text/plain": [
       "Classificação da ocupação\n",
       "Economicamente ativos        107\n",
       "Não economicamente ativos     19\n",
       "Name: count, dtype: int64"
      ]
     },
     "execution_count": 302,
     "metadata": {},
     "output_type": "execute_result"
    }
   ],
   "execution_count": 302
  },
  {
   "metadata": {
    "ExecuteTime": {
     "end_time": "2024-10-19T23:26:15.418235Z",
     "start_time": "2024-10-19T23:26:15.413662Z"
    }
   },
   "cell_type": "code",
   "source": "filtered_df['Classificação da ocupação'].value_counts(normalize=True) * 100",
   "id": "a099261558ca1bc2",
   "outputs": [
    {
     "data": {
      "text/plain": [
       "Classificação da ocupação\n",
       "Economicamente ativos        84.920635\n",
       "Não economicamente ativos    15.079365\n",
       "Name: proportion, dtype: float64"
      ]
     },
     "execution_count": 303,
     "metadata": {},
     "output_type": "execute_result"
    }
   ],
   "execution_count": 303
  },
  {
   "metadata": {},
   "cell_type": "markdown",
   "source": "# Diagnóstico Médico",
   "id": "d606036b88918e29"
  },
  {
   "metadata": {
    "ExecuteTime": {
     "end_time": "2024-10-19T23:26:15.485609Z",
     "start_time": "2024-10-19T23:26:15.481364Z"
    }
   },
   "cell_type": "code",
   "source": "filtered_df['Diagnóstico Médico cat 2'].value_counts()",
   "id": "8cf9f1bfbb2172f",
   "outputs": [
    {
     "data": {
      "text/plain": [
       "Diagnóstico Médico cat 2\n",
       "DAC Crônica    90\n",
       "DAC Aguda      36\n",
       "Name: count, dtype: int64"
      ]
     },
     "execution_count": 304,
     "metadata": {},
     "output_type": "execute_result"
    }
   ],
   "execution_count": 304
  },
  {
   "metadata": {
    "ExecuteTime": {
     "end_time": "2024-10-19T23:26:15.566614Z",
     "start_time": "2024-10-19T23:26:15.560765Z"
    }
   },
   "cell_type": "code",
   "source": "filtered_df['Diagnóstico Médico cat 2'].value_counts(normalize=True) * 100",
   "id": "a9cd9af4a7eb6f8e",
   "outputs": [
    {
     "data": {
      "text/plain": [
       "Diagnóstico Médico cat 2\n",
       "DAC Crônica    71.428571\n",
       "DAC Aguda      28.571429\n",
       "Name: proportion, dtype: float64"
      ]
     },
     "execution_count": 305,
     "metadata": {},
     "output_type": "execute_result"
    }
   ],
   "execution_count": 305
  },
  {
   "metadata": {},
   "cell_type": "markdown",
   "source": "# Antecedentes Pessoais",
   "id": "4da635179c65af31"
  },
  {
   "metadata": {},
   "cell_type": "markdown",
   "source": "## Sedentarismo -> Atividade Física = Não",
   "id": "c4369ed3731ef108"
  },
  {
   "metadata": {
    "ExecuteTime": {
     "end_time": "2024-10-19T23:26:15.632302Z",
     "start_time": "2024-10-19T23:26:15.628031Z"
    }
   },
   "cell_type": "code",
   "source": "filtered_df['Atividade Física'].value_counts()",
   "id": "f0a1c5b2e8c089bb",
   "outputs": [
    {
     "data": {
      "text/plain": [
       "Atividade Física\n",
       "Não    96\n",
       "Sim    30\n",
       "Name: count, dtype: int64"
      ]
     },
     "execution_count": 306,
     "metadata": {},
     "output_type": "execute_result"
    }
   ],
   "execution_count": 306
  },
  {
   "metadata": {
    "ExecuteTime": {
     "end_time": "2024-10-19T23:26:15.694202Z",
     "start_time": "2024-10-19T23:26:15.688411Z"
    }
   },
   "cell_type": "code",
   "source": "filtered_df['Atividade Física'].value_counts(normalize=True) * 100",
   "id": "167a482f73b160aa",
   "outputs": [
    {
     "data": {
      "text/plain": [
       "Atividade Física\n",
       "Não    76.190476\n",
       "Sim    23.809524\n",
       "Name: proportion, dtype: float64"
      ]
     },
     "execution_count": 307,
     "metadata": {},
     "output_type": "execute_result"
    }
   ],
   "execution_count": 307
  },
  {
   "metadata": {},
   "cell_type": "markdown",
   "source": "## Hipercolesterolemia",
   "id": "e41e90d18ccc8390"
  },
  {
   "metadata": {
    "ExecuteTime": {
     "end_time": "2024-10-19T23:26:15.744571Z",
     "start_time": "2024-10-19T23:26:15.740336Z"
    }
   },
   "cell_type": "code",
   "source": "filtered_df['Hipercolesterolemia'].value_counts()",
   "id": "4721d0576da7f293",
   "outputs": [
    {
     "data": {
      "text/plain": [
       "Hipercolesterolemia\n",
       "Sim    95\n",
       "Não    31\n",
       "Name: count, dtype: int64"
      ]
     },
     "execution_count": 308,
     "metadata": {},
     "output_type": "execute_result"
    }
   ],
   "execution_count": 308
  },
  {
   "metadata": {
    "ExecuteTime": {
     "end_time": "2024-10-19T23:26:15.803716Z",
     "start_time": "2024-10-19T23:26:15.798696Z"
    }
   },
   "cell_type": "code",
   "source": "filtered_df['Hipercolesterolemia'].value_counts(normalize=True) * 100",
   "id": "c1a4006571f1a469",
   "outputs": [
    {
     "data": {
      "text/plain": [
       "Hipercolesterolemia\n",
       "Sim    75.396825\n",
       "Não    24.603175\n",
       "Name: proportion, dtype: float64"
      ]
     },
     "execution_count": 309,
     "metadata": {},
     "output_type": "execute_result"
    }
   ],
   "execution_count": 309
  },
  {
   "metadata": {},
   "cell_type": "markdown",
   "source": "## Hipertensão Arterial Sistêmica",
   "id": "6e219126569344a4"
  },
  {
   "metadata": {
    "ExecuteTime": {
     "end_time": "2024-10-19T23:26:15.872364Z",
     "start_time": "2024-10-19T23:26:15.867816Z"
    }
   },
   "cell_type": "code",
   "source": "filtered_df['Hipertensão Arterial Sistêmica'].value_counts()",
   "id": "fa973e20807a7473",
   "outputs": [
    {
     "data": {
      "text/plain": [
       "Hipertensão Arterial Sistêmica\n",
       "Sim    88\n",
       "Não    38\n",
       "Name: count, dtype: int64"
      ]
     },
     "execution_count": 310,
     "metadata": {},
     "output_type": "execute_result"
    }
   ],
   "execution_count": 310
  },
  {
   "metadata": {
    "ExecuteTime": {
     "end_time": "2024-10-19T23:26:15.942023Z",
     "start_time": "2024-10-19T23:26:15.936080Z"
    }
   },
   "cell_type": "code",
   "source": "filtered_df['Hipertensão Arterial Sistêmica'].value_counts(normalize=True) * 100",
   "id": "f6454c922e56e8a6",
   "outputs": [
    {
     "data": {
      "text/plain": [
       "Hipertensão Arterial Sistêmica\n",
       "Sim    69.84127\n",
       "Não    30.15873\n",
       "Name: proportion, dtype: float64"
      ]
     },
     "execution_count": 311,
     "metadata": {},
     "output_type": "execute_result"
    }
   ],
   "execution_count": 311
  },
  {
   "metadata": {},
   "cell_type": "markdown",
   "source": "## Diabetes Mellitus",
   "id": "d26b7788c2828dfd"
  },
  {
   "metadata": {
    "ExecuteTime": {
     "end_time": "2024-10-19T23:26:16.011232Z",
     "start_time": "2024-10-19T23:26:16.005737Z"
    }
   },
   "cell_type": "code",
   "source": "filtered_df['Diabetes Mellitus'].value_counts()",
   "id": "88bbbc46faab7d9e",
   "outputs": [
    {
     "data": {
      "text/plain": [
       "Diabetes Mellitus\n",
       "Não    81\n",
       "Sim    45\n",
       "Name: count, dtype: int64"
      ]
     },
     "execution_count": 312,
     "metadata": {},
     "output_type": "execute_result"
    }
   ],
   "execution_count": 312
  },
  {
   "metadata": {
    "ExecuteTime": {
     "end_time": "2024-10-19T23:26:16.088144Z",
     "start_time": "2024-10-19T23:26:16.083922Z"
    }
   },
   "cell_type": "code",
   "source": "filtered_df['Diabetes Mellitus'].value_counts(normalize=True) * 100",
   "id": "2158c9a1744a967",
   "outputs": [
    {
     "data": {
      "text/plain": [
       "Diabetes Mellitus\n",
       "Não    64.285714\n",
       "Sim    35.714286\n",
       "Name: proportion, dtype: float64"
      ]
     },
     "execution_count": 313,
     "metadata": {},
     "output_type": "execute_result"
    }
   ],
   "execution_count": 313
  },
  {
   "metadata": {},
   "cell_type": "markdown",
   "source": "## Hipertrigliceridemia",
   "id": "d5d5f0850654bd58"
  },
  {
   "metadata": {
    "ExecuteTime": {
     "end_time": "2024-10-19T23:26:16.156038Z",
     "start_time": "2024-10-19T23:26:16.151279Z"
    }
   },
   "cell_type": "code",
   "source": "filtered_df['Hipertrigiceridemia'].value_counts()",
   "id": "28e8566c9fa9c575",
   "outputs": [
    {
     "data": {
      "text/plain": [
       "Hipertrigiceridemia\n",
       "Não    92\n",
       "Sim    34\n",
       "Name: count, dtype: int64"
      ]
     },
     "execution_count": 314,
     "metadata": {},
     "output_type": "execute_result"
    }
   ],
   "execution_count": 314
  },
  {
   "metadata": {
    "ExecuteTime": {
     "end_time": "2024-10-19T23:26:16.224177Z",
     "start_time": "2024-10-19T23:26:16.218364Z"
    }
   },
   "cell_type": "code",
   "source": "filtered_df['Hipertrigiceridemia'].value_counts(normalize=True) * 100",
   "id": "f7a87665ed549f48",
   "outputs": [
    {
     "data": {
      "text/plain": [
       "Hipertrigiceridemia\n",
       "Não    73.015873\n",
       "Sim    26.984127\n",
       "Name: proportion, dtype: float64"
      ]
     },
     "execution_count": 315,
     "metadata": {},
     "output_type": "execute_result"
    }
   ],
   "execution_count": 315
  },
  {
   "metadata": {},
   "cell_type": "markdown",
   "source": "## Tabagismo",
   "id": "a324c738b264c253"
  },
  {
   "metadata": {
    "ExecuteTime": {
     "end_time": "2024-10-19T23:26:16.291442Z",
     "start_time": "2024-10-19T23:26:16.286524Z"
    }
   },
   "cell_type": "code",
   "source": "filtered_df['Tabagismo'].value_counts()",
   "id": "c2a1a6472a8db350",
   "outputs": [
    {
     "data": {
      "text/plain": [
       "Tabagismo\n",
       "Não             83\n",
       "Ex-tabagismo    30\n",
       "Sim             13\n",
       "Name: count, dtype: int64"
      ]
     },
     "execution_count": 316,
     "metadata": {},
     "output_type": "execute_result"
    }
   ],
   "execution_count": 316
  },
  {
   "metadata": {
    "ExecuteTime": {
     "end_time": "2024-10-19T23:26:16.358934Z",
     "start_time": "2024-10-19T23:26:16.353651Z"
    }
   },
   "cell_type": "code",
   "source": "filtered_df['Tabagismo'].value_counts(normalize=True) * 100",
   "id": "7c1d17d146c99562",
   "outputs": [
    {
     "data": {
      "text/plain": [
       "Tabagismo\n",
       "Não             65.873016\n",
       "Ex-tabagismo    23.809524\n",
       "Sim             10.317460\n",
       "Name: proportion, dtype: float64"
      ]
     },
     "execution_count": 317,
     "metadata": {},
     "output_type": "execute_result"
    }
   ],
   "execution_count": 317
  },
  {
   "metadata": {},
   "cell_type": "markdown",
   "source": "## Depressão",
   "id": "870c6307a1c50a52"
  },
  {
   "metadata": {
    "ExecuteTime": {
     "end_time": "2024-10-19T23:26:16.425674Z",
     "start_time": "2024-10-19T23:26:16.421012Z"
    }
   },
   "cell_type": "code",
   "source": "filtered_df['Depressão'].value_counts()",
   "id": "e23b760c2a79c9a5",
   "outputs": [
    {
     "data": {
      "text/plain": [
       "Depressão\n",
       "Não    111\n",
       "Sim     15\n",
       "Name: count, dtype: int64"
      ]
     },
     "execution_count": 318,
     "metadata": {},
     "output_type": "execute_result"
    }
   ],
   "execution_count": 318
  },
  {
   "metadata": {
    "ExecuteTime": {
     "end_time": "2024-10-19T23:26:16.492928Z",
     "start_time": "2024-10-19T23:26:16.487890Z"
    }
   },
   "cell_type": "code",
   "source": "filtered_df['Depressão'].value_counts(normalize=True) * 100",
   "id": "5d042508769c2620",
   "outputs": [
    {
     "data": {
      "text/plain": [
       "Depressão\n",
       "Não    88.095238\n",
       "Sim    11.904762\n",
       "Name: proportion, dtype: float64"
      ]
     },
     "execution_count": 319,
     "metadata": {},
     "output_type": "execute_result"
    }
   ],
   "execution_count": 319
  },
  {
   "metadata": {},
   "cell_type": "markdown",
   "source": "## Ansiedade",
   "id": "3c98930ae851d1f0"
  },
  {
   "metadata": {
    "ExecuteTime": {
     "end_time": "2024-10-19T23:26:16.558604Z",
     "start_time": "2024-10-19T23:26:16.553792Z"
    }
   },
   "cell_type": "code",
   "source": "filtered_df['Ansiedade'].value_counts()",
   "id": "750f2d181ed12eda",
   "outputs": [
    {
     "data": {
      "text/plain": [
       "Ansiedade\n",
       "Não    113\n",
       "Sim     13\n",
       "Name: count, dtype: int64"
      ]
     },
     "execution_count": 320,
     "metadata": {},
     "output_type": "execute_result"
    }
   ],
   "execution_count": 320
  },
  {
   "metadata": {
    "ExecuteTime": {
     "end_time": "2024-10-19T23:26:16.656123Z",
     "start_time": "2024-10-19T23:26:16.651020Z"
    }
   },
   "cell_type": "code",
   "source": "filtered_df['Ansiedade'].value_counts(normalize=True) * 100",
   "id": "96015e16c9d0f774",
   "outputs": [
    {
     "data": {
      "text/plain": [
       "Ansiedade\n",
       "Não    89.68254\n",
       "Sim    10.31746\n",
       "Name: proportion, dtype: float64"
      ]
     },
     "execution_count": 321,
     "metadata": {},
     "output_type": "execute_result"
    }
   ],
   "execution_count": 321
  },
  {
   "metadata": {},
   "cell_type": "markdown",
   "source": "## Etilismo",
   "id": "36fd0bbc24111488"
  },
  {
   "metadata": {
    "ExecuteTime": {
     "end_time": "2024-10-19T23:26:16.701243Z",
     "start_time": "2024-10-19T23:26:16.696986Z"
    }
   },
   "cell_type": "code",
   "source": "filtered_df['Etilismo'].value_counts()",
   "id": "d0412b46e9e1b0e4",
   "outputs": [
    {
     "data": {
      "text/plain": [
       "Etilismo\n",
       "Não            119\n",
       "Sim              6\n",
       "Ex-etilista      1\n",
       "Name: count, dtype: int64"
      ]
     },
     "execution_count": 322,
     "metadata": {},
     "output_type": "execute_result"
    }
   ],
   "execution_count": 322
  },
  {
   "metadata": {
    "ExecuteTime": {
     "end_time": "2024-10-19T23:26:16.768793Z",
     "start_time": "2024-10-19T23:26:16.763670Z"
    }
   },
   "cell_type": "code",
   "source": "filtered_df['Etilismo'].value_counts(normalize=True) * 100",
   "id": "111640e902ef25fa",
   "outputs": [
    {
     "data": {
      "text/plain": [
       "Etilismo\n",
       "Não            94.444444\n",
       "Sim             4.761905\n",
       "Ex-etilista     0.793651\n",
       "Name: proportion, dtype: float64"
      ]
     },
     "execution_count": 323,
     "metadata": {},
     "output_type": "execute_result"
    }
   ],
   "execution_count": 323
  },
  {
   "metadata": {},
   "cell_type": "markdown",
   "source": "# Tratamento realizado",
   "id": "82072f505a4ef1be"
  },
  {
   "metadata": {
    "ExecuteTime": {
     "end_time": "2024-10-19T23:26:16.834440Z",
     "start_time": "2024-10-19T23:26:16.829120Z"
    }
   },
   "cell_type": "code",
   "source": "filtered_df['Tratamento realizado'].value_counts()",
   "id": "ee6f2c89d8605f18",
   "outputs": [
    {
     "data": {
      "text/plain": [
       "Tratamento realizado\n",
       "Angioplastia    99\n",
       "Clínico         14\n",
       "Cirurgico       13\n",
       "Name: count, dtype: int64"
      ]
     },
     "execution_count": 324,
     "metadata": {},
     "output_type": "execute_result"
    }
   ],
   "execution_count": 324
  },
  {
   "metadata": {
    "ExecuteTime": {
     "end_time": "2024-10-19T23:26:16.899215Z",
     "start_time": "2024-10-19T23:26:16.894362Z"
    }
   },
   "cell_type": "code",
   "source": "filtered_df['Tratamento realizado'].value_counts(normalize=True) * 100",
   "id": "6dcc3b34f1978bcf",
   "outputs": [
    {
     "data": {
      "text/plain": [
       "Tratamento realizado\n",
       "Angioplastia    78.571429\n",
       "Clínico         11.111111\n",
       "Cirurgico       10.317460\n",
       "Name: proportion, dtype: float64"
      ]
     },
     "execution_count": 325,
     "metadata": {},
     "output_type": "execute_result"
    }
   ],
   "execution_count": 325
  },
  {
   "metadata": {},
   "cell_type": "markdown",
   "source": "# Peso (kg)",
   "id": "ad17438579087232"
  },
  {
   "metadata": {
    "ExecuteTime": {
     "end_time": "2024-10-19T23:26:16.964061Z",
     "start_time": "2024-10-19T23:26:16.958317Z"
    }
   },
   "cell_type": "code",
   "source": "filtered_df['Peso (kg)'].describe()",
   "id": "2d7d95b9ca4c634a",
   "outputs": [
    {
     "data": {
      "text/plain": [
       "count    126.000000\n",
       "mean      80.517063\n",
       "std       13.963210\n",
       "min       46.000000\n",
       "25%       73.262500\n",
       "50%       78.000000\n",
       "75%       89.000000\n",
       "max      128.700000\n",
       "Name: Peso (kg), dtype: float64"
      ]
     },
     "execution_count": 326,
     "metadata": {},
     "output_type": "execute_result"
    }
   ],
   "execution_count": 326
  },
  {
   "metadata": {},
   "cell_type": "markdown",
   "source": "# Altura (m)",
   "id": "ee66b84a7f70a853"
  },
  {
   "metadata": {
    "ExecuteTime": {
     "end_time": "2024-10-19T23:26:17.027240Z",
     "start_time": "2024-10-19T23:26:17.020988Z"
    }
   },
   "cell_type": "code",
   "source": "filtered_df['Altura (m)'].describe()",
   "id": "5804b0c2f50a854d",
   "outputs": [
    {
     "data": {
      "text/plain": [
       "count    126.000000\n",
       "mean     170.634921\n",
       "std        8.445215\n",
       "min      150.000000\n",
       "25%      165.250000\n",
       "50%      170.000000\n",
       "75%      175.750000\n",
       "max      196.000000\n",
       "Name: Altura (m), dtype: float64"
      ]
     },
     "execution_count": 327,
     "metadata": {},
     "output_type": "execute_result"
    }
   ],
   "execution_count": 327
  },
  {
   "metadata": {},
   "cell_type": "markdown",
   "source": "# IMC",
   "id": "94086ddc866375ea"
  },
  {
   "metadata": {
    "ExecuteTime": {
     "end_time": "2024-10-19T23:26:17.091739Z",
     "start_time": "2024-10-19T23:26:17.085853Z"
    }
   },
   "cell_type": "code",
   "source": "filtered_df['IMC'].describe()",
   "id": "36dd33c4c96af3c4",
   "outputs": [
    {
     "data": {
      "text/plain": [
       "count    126.000000\n",
       "mean      27.588609\n",
       "std        3.866448\n",
       "min       18.902038\n",
       "25%       25.424742\n",
       "50%       27.269164\n",
       "75%       29.706953\n",
       "max       42.385485\n",
       "Name: IMC, dtype: float64"
      ]
     },
     "execution_count": 328,
     "metadata": {},
     "output_type": "execute_result"
    }
   ],
   "execution_count": 328
  },
  {
   "metadata": {},
   "cell_type": "markdown",
   "source": "# Classificação IMC",
   "id": "97b41f865922095f"
  },
  {
   "metadata": {
    "ExecuteTime": {
     "end_time": "2024-10-19T23:26:17.155346Z",
     "start_time": "2024-10-19T23:26:17.150172Z"
    }
   },
   "cell_type": "code",
   "source": "filtered_df['Classificação IMC 2'].value_counts()",
   "id": "e9c4364573f79a2b",
   "outputs": [
    {
     "data": {
      "text/plain": [
       "Classificação IMC 2\n",
       "Sobrepeso    72\n",
       "Obeso        27\n",
       "Normal       27\n",
       "Name: count, dtype: int64"
      ]
     },
     "execution_count": 329,
     "metadata": {},
     "output_type": "execute_result"
    }
   ],
   "execution_count": 329
  },
  {
   "metadata": {
    "ExecuteTime": {
     "end_time": "2024-10-19T23:26:17.217582Z",
     "start_time": "2024-10-19T23:26:17.212305Z"
    }
   },
   "cell_type": "code",
   "source": "filtered_df['Classificação IMC 2'].value_counts(normalize=True) * 100",
   "id": "bb719daf9e822aab",
   "outputs": [
    {
     "data": {
      "text/plain": [
       "Classificação IMC 2\n",
       "Sobrepeso    57.142857\n",
       "Obeso        21.428571\n",
       "Normal       21.428571\n",
       "Name: proportion, dtype: float64"
      ]
     },
     "execution_count": 330,
     "metadata": {},
     "output_type": "execute_result"
    }
   ],
   "execution_count": 330
  },
  {
   "metadata": {},
   "cell_type": "markdown",
   "source": "# PCR",
   "id": "6954977a12dc8ae0"
  },
  {
   "metadata": {
    "ExecuteTime": {
     "end_time": "2024-10-19T23:26:17.282695Z",
     "start_time": "2024-10-19T23:26:17.276212Z"
    }
   },
   "cell_type": "code",
   "source": "filtered_df['PCR'].describe()",
   "id": "a91381dfff6bccfe",
   "outputs": [
    {
     "data": {
      "text/plain": [
       "count    114.000000\n",
       "mean       0.679649\n",
       "std        1.216018\n",
       "min        0.030000\n",
       "25%        0.102500\n",
       "50%        0.220000\n",
       "75%        0.640000\n",
       "max        7.670000\n",
       "Name: PCR, dtype: float64"
      ]
     },
     "execution_count": 331,
     "metadata": {},
     "output_type": "execute_result"
    }
   ],
   "execution_count": 331
  },
  {
   "metadata": {
    "ExecuteTime": {
     "end_time": "2024-10-19T23:26:17.343881Z",
     "start_time": "2024-10-19T23:26:17.338810Z"
    }
   },
   "cell_type": "code",
   "source": [
    "# Ausência de resultado - True\n",
    "filtered_df['PCR'].isnull().value_counts()"
   ],
   "id": "79f1646b7b23893e",
   "outputs": [
    {
     "data": {
      "text/plain": [
       "PCR\n",
       "False    114\n",
       "True      12\n",
       "Name: count, dtype: int64"
      ]
     },
     "execution_count": 332,
     "metadata": {},
     "output_type": "execute_result"
    }
   ],
   "execution_count": 332
  },
  {
   "metadata": {},
   "cell_type": "markdown",
   "source": "# Indicador de Risco Cardiovascular de acordo com PCR",
   "id": "5b42d13ed5a2142b"
  },
  {
   "metadata": {
    "ExecuteTime": {
     "end_time": "2024-10-19T23:26:17.406510Z",
     "start_time": "2024-10-19T23:26:17.401509Z"
    }
   },
   "cell_type": "code",
   "source": "filtered_df['Indicador de Risco Cardiovascular'].value_counts()",
   "id": "82b97ee198d3a644",
   "outputs": [
    {
     "data": {
      "text/plain": [
       "Indicador de Risco Cardiovascular\n",
       "Alto             47\n",
       "Intermediário    40\n",
       "Baixo            27\n",
       "Name: count, dtype: int64"
      ]
     },
     "execution_count": 333,
     "metadata": {},
     "output_type": "execute_result"
    }
   ],
   "execution_count": 333
  },
  {
   "metadata": {
    "ExecuteTime": {
     "end_time": "2024-10-19T23:26:17.467669Z",
     "start_time": "2024-10-19T23:26:17.462732Z"
    }
   },
   "cell_type": "code",
   "source": "filtered_df['Indicador de Risco Cardiovascular'].value_counts(normalize=True) * 100",
   "id": "2950ad4a5086fedf",
   "outputs": [
    {
     "data": {
      "text/plain": [
       "Indicador de Risco Cardiovascular\n",
       "Alto             41.228070\n",
       "Intermediário    35.087719\n",
       "Baixo            23.684211\n",
       "Name: proportion, dtype: float64"
      ]
     },
     "execution_count": 334,
     "metadata": {},
     "output_type": "execute_result"
    }
   ],
   "execution_count": 334
  },
  {
   "metadata": {
    "ExecuteTime": {
     "end_time": "2024-10-19T23:26:17.528477Z",
     "start_time": "2024-10-19T23:26:17.524140Z"
    }
   },
   "cell_type": "code",
   "source": [
    "# Ausência de resultado - True\n",
    "filtered_df['Indicador de Risco Cardiovascular'].isnull().value_counts()"
   ],
   "id": "ff7e325f5108fb48",
   "outputs": [
    {
     "data": {
      "text/plain": [
       "Indicador de Risco Cardiovascular\n",
       "False    114\n",
       "True      12\n",
       "Name: count, dtype: int64"
      ]
     },
     "execution_count": 335,
     "metadata": {},
     "output_type": "execute_result"
    }
   ],
   "execution_count": 335
  },
  {
   "metadata": {},
   "cell_type": "markdown",
   "source": "# Colesterol Total",
   "id": "e34f2bb328e08d3a"
  },
  {
   "metadata": {
    "ExecuteTime": {
     "end_time": "2024-10-19T23:26:17.592601Z",
     "start_time": "2024-10-19T23:26:17.586171Z"
    }
   },
   "cell_type": "code",
   "source": "filtered_df['Colesterol total'].describe()",
   "id": "c9486fc8b50697be",
   "outputs": [
    {
     "data": {
      "text/plain": [
       "count     85.000000\n",
       "mean     170.141176\n",
       "std       53.478111\n",
       "min       70.000000\n",
       "25%      140.000000\n",
       "50%      160.000000\n",
       "75%      203.000000\n",
       "max      306.000000\n",
       "Name: Colesterol total, dtype: float64"
      ]
     },
     "execution_count": 336,
     "metadata": {},
     "output_type": "execute_result"
    }
   ],
   "execution_count": 336
  },
  {
   "metadata": {
    "ExecuteTime": {
     "end_time": "2024-10-19T23:26:17.655136Z",
     "start_time": "2024-10-19T23:26:17.649008Z"
    }
   },
   "cell_type": "code",
   "source": [
    "# Ausência de resultado - True\n",
    "filtered_df['Colesterol total'].isnull().value_counts()"
   ],
   "id": "c979e6b1ae0cc492",
   "outputs": [
    {
     "data": {
      "text/plain": [
       "Colesterol total\n",
       "False    85\n",
       "True     41\n",
       "Name: count, dtype: int64"
      ]
     },
     "execution_count": 337,
     "metadata": {},
     "output_type": "execute_result"
    }
   ],
   "execution_count": 337
  },
  {
   "metadata": {},
   "cell_type": "markdown",
   "source": "# Colesterol Desejável < 190",
   "id": "f94d041ff126e9d7"
  },
  {
   "metadata": {
    "ExecuteTime": {
     "end_time": "2024-10-19T23:26:17.716967Z",
     "start_time": "2024-10-19T23:26:17.711334Z"
    }
   },
   "cell_type": "code",
   "source": "filtered_df['Colesterol\\nDesejável < 190'].value_counts()",
   "id": "9a16cbd8858cec52",
   "outputs": [
    {
     "data": {
      "text/plain": [
       "Colesterol\\nDesejável < 190\n",
       "Sim    58\n",
       "Não    25\n",
       "Name: count, dtype: int64"
      ]
     },
     "execution_count": 338,
     "metadata": {},
     "output_type": "execute_result"
    }
   ],
   "execution_count": 338
  },
  {
   "metadata": {
    "ExecuteTime": {
     "end_time": "2024-10-19T23:26:17.779590Z",
     "start_time": "2024-10-19T23:26:17.773799Z"
    }
   },
   "cell_type": "code",
   "source": "filtered_df['Colesterol\\nDesejável < 190'].value_counts(normalize=True) * 100",
   "id": "5cf420d0591b0eb2",
   "outputs": [
    {
     "data": {
      "text/plain": [
       "Colesterol\\nDesejável < 190\n",
       "Sim    69.879518\n",
       "Não    30.120482\n",
       "Name: proportion, dtype: float64"
      ]
     },
     "execution_count": 339,
     "metadata": {},
     "output_type": "execute_result"
    }
   ],
   "execution_count": 339
  },
  {
   "metadata": {
    "ExecuteTime": {
     "end_time": "2024-10-19T23:26:17.842045Z",
     "start_time": "2024-10-19T23:26:17.837140Z"
    }
   },
   "cell_type": "code",
   "source": [
    "# Ausência de resultado - True\n",
    "filtered_df['Colesterol\\nDesejável < 190'].isnull().value_counts()"
   ],
   "id": "72287f69ab8808a",
   "outputs": [
    {
     "data": {
      "text/plain": [
       "Colesterol\\nDesejável < 190\n",
       "False    83\n",
       "True     43\n",
       "Name: count, dtype: int64"
      ]
     },
     "execution_count": 340,
     "metadata": {},
     "output_type": "execute_result"
    }
   ],
   "execution_count": 340
  },
  {
   "metadata": {},
   "cell_type": "markdown",
   "source": "# LDL",
   "id": "6cd85627a2634e01"
  },
  {
   "metadata": {
    "ExecuteTime": {
     "end_time": "2024-10-19T23:26:17.906865Z",
     "start_time": "2024-10-19T23:26:17.901122Z"
    }
   },
   "cell_type": "code",
   "source": "filtered_df2['LDL (0)'].describe()",
   "id": "e89bf5798721fd03",
   "outputs": [
    {
     "data": {
      "text/plain": [
       "count     85.000000\n",
       "mean      98.235294\n",
       "std       43.974735\n",
       "min       18.000000\n",
       "25%       72.000000\n",
       "50%       89.000000\n",
       "75%      124.000000\n",
       "max      219.000000\n",
       "Name: LDL (0), dtype: float64"
      ]
     },
     "execution_count": 341,
     "metadata": {},
     "output_type": "execute_result"
    }
   ],
   "execution_count": 341
  },
  {
   "metadata": {
    "ExecuteTime": {
     "end_time": "2024-10-19T23:26:17.964748Z",
     "start_time": "2024-10-19T23:26:17.959500Z"
    }
   },
   "cell_type": "code",
   "source": [
    "# Ausência de resultado - True\n",
    "filtered_df2['LDL (0)'].isnull().value_counts()"
   ],
   "id": "fda214d88ce3fc88",
   "outputs": [
    {
     "data": {
      "text/plain": [
       "LDL (0)\n",
       "False    85\n",
       "True     41\n",
       "Name: count, dtype: int64"
      ]
     },
     "execution_count": 342,
     "metadata": {},
     "output_type": "execute_result"
    }
   ],
   "execution_count": 342
  },
  {
   "metadata": {},
   "cell_type": "markdown",
   "source": "# LDL Desejável <100",
   "id": "20d32d8aada417eb"
  },
  {
   "metadata": {
    "ExecuteTime": {
     "end_time": "2024-10-19T23:26:18.027874Z",
     "start_time": "2024-10-19T23:26:18.021640Z"
    }
   },
   "cell_type": "code",
   "source": "filtered_df2['LDL DESEJÁVEL (<90)'].value_counts()",
   "id": "794d0d61f684f4b0",
   "outputs": [
    {
     "data": {
      "text/plain": [
       "LDL DESEJÁVEL (<90)\n",
       "Sim    45\n",
       "Não    40\n",
       "Name: count, dtype: int64"
      ]
     },
     "execution_count": 343,
     "metadata": {},
     "output_type": "execute_result"
    }
   ],
   "execution_count": 343
  },
  {
   "metadata": {
    "ExecuteTime": {
     "end_time": "2024-10-19T23:26:18.084133Z",
     "start_time": "2024-10-19T23:26:18.079008Z"
    }
   },
   "cell_type": "code",
   "source": "filtered_df2['LDL DESEJÁVEL (<90)'].value_counts(normalize=True) * 100",
   "id": "7285d78f5afed667",
   "outputs": [
    {
     "data": {
      "text/plain": [
       "LDL DESEJÁVEL (<90)\n",
       "Sim    52.941176\n",
       "Não    47.058824\n",
       "Name: proportion, dtype: float64"
      ]
     },
     "execution_count": 344,
     "metadata": {},
     "output_type": "execute_result"
    }
   ],
   "execution_count": 344
  },
  {
   "metadata": {
    "ExecuteTime": {
     "end_time": "2024-10-19T23:26:18.146422Z",
     "start_time": "2024-10-19T23:26:18.140321Z"
    }
   },
   "cell_type": "code",
   "source": [
    "# Ausência de resultado - True\n",
    "filtered_df2['LDL DESEJÁVEL (<90)'].isnull().value_counts()"
   ],
   "id": "52b9b9c81416d2d1",
   "outputs": [
    {
     "data": {
      "text/plain": [
       "LDL DESEJÁVEL (<90)\n",
       "False    85\n",
       "True     41\n",
       "Name: count, dtype: int64"
      ]
     },
     "execution_count": 345,
     "metadata": {},
     "output_type": "execute_result"
    }
   ],
   "execution_count": 345
  },
  {
   "metadata": {},
   "cell_type": "markdown",
   "source": "# Triglicerídeos",
   "id": "73abf2fbfd89f61"
  },
  {
   "metadata": {
    "ExecuteTime": {
     "end_time": "2024-10-19T23:26:18.208584Z",
     "start_time": "2024-10-19T23:26:18.201636Z"
    }
   },
   "cell_type": "code",
   "source": "filtered_df['Triglicerideos'].describe()",
   "id": "66ee125790a9796c",
   "outputs": [
    {
     "data": {
      "text/plain": [
       "count     85.000000\n",
       "mean     160.270588\n",
       "std      112.144718\n",
       "min       59.000000\n",
       "25%       93.000000\n",
       "50%      124.000000\n",
       "75%      164.000000\n",
       "max      563.000000\n",
       "Name: Triglicerideos, dtype: float64"
      ]
     },
     "execution_count": 346,
     "metadata": {},
     "output_type": "execute_result"
    }
   ],
   "execution_count": 346
  },
  {
   "metadata": {
    "ExecuteTime": {
     "end_time": "2024-10-19T23:26:18.266336Z",
     "start_time": "2024-10-19T23:26:18.261036Z"
    }
   },
   "cell_type": "code",
   "source": [
    "# Ausência de resultado - True\n",
    "filtered_df['Triglicerideos'].isnull().value_counts()"
   ],
   "id": "6d7a9f7a8b4587ab",
   "outputs": [
    {
     "data": {
      "text/plain": [
       "Triglicerideos\n",
       "False    85\n",
       "True     41\n",
       "Name: count, dtype: int64"
      ]
     },
     "execution_count": 347,
     "metadata": {},
     "output_type": "execute_result"
    }
   ],
   "execution_count": 347
  },
  {
   "metadata": {},
   "cell_type": "markdown",
   "source": "# Triglicerídeos Desejável < 150",
   "id": "245513947e69ae41"
  },
  {
   "metadata": {
    "ExecuteTime": {
     "end_time": "2024-10-19T23:26:18.327920Z",
     "start_time": "2024-10-19T23:26:18.323508Z"
    }
   },
   "cell_type": "code",
   "source": "filtered_df['Triglicerideos\\nDesejável < 150'].value_counts()",
   "id": "c71626e78ac1f6cb",
   "outputs": [
    {
     "data": {
      "text/plain": [
       "Triglicerideos\\nDesejável < 150\n",
       "Sim    59\n",
       "Não    27\n",
       "Name: count, dtype: int64"
      ]
     },
     "execution_count": 348,
     "metadata": {},
     "output_type": "execute_result"
    }
   ],
   "execution_count": 348
  },
  {
   "metadata": {
    "ExecuteTime": {
     "end_time": "2024-10-19T23:26:18.388218Z",
     "start_time": "2024-10-19T23:26:18.383145Z"
    }
   },
   "cell_type": "code",
   "source": "filtered_df['Triglicerideos\\nDesejável < 150'].value_counts(normalize=True) * 100",
   "id": "6c3b7752942add71",
   "outputs": [
    {
     "data": {
      "text/plain": [
       "Triglicerideos\\nDesejável < 150\n",
       "Sim    68.604651\n",
       "Não    31.395349\n",
       "Name: proportion, dtype: float64"
      ]
     },
     "execution_count": 349,
     "metadata": {},
     "output_type": "execute_result"
    }
   ],
   "execution_count": 349
  },
  {
   "metadata": {
    "ExecuteTime": {
     "end_time": "2024-10-19T23:26:18.448723Z",
     "start_time": "2024-10-19T23:26:18.443244Z"
    }
   },
   "cell_type": "code",
   "source": [
    "# Ausência de resultado - True\n",
    "filtered_df['Triglicerideos\\nDesejável < 150'].isnull().value_counts()"
   ],
   "id": "3f78b43d8708709",
   "outputs": [
    {
     "data": {
      "text/plain": [
       "Triglicerideos\\nDesejável < 150\n",
       "False    86\n",
       "True     40\n",
       "Name: count, dtype: int64"
      ]
     },
     "execution_count": 350,
     "metadata": {},
     "output_type": "execute_result"
    }
   ],
   "execution_count": 350
  },
  {
   "metadata": {},
   "cell_type": "markdown",
   "source": "# Medicamento prescritos",
   "id": "f856cd8f0c75137b"
  },
  {
   "metadata": {},
   "cell_type": "markdown",
   "source": "## Antiagregantes",
   "id": "ecbb4dd1318c347d"
  },
  {
   "metadata": {
    "ExecuteTime": {
     "end_time": "2024-10-19T23:26:18.508469Z",
     "start_time": "2024-10-19T23:26:18.503212Z"
    }
   },
   "cell_type": "code",
   "source": "filtered_df['antiagregante'].value_counts()",
   "id": "e02f8120de08834e",
   "outputs": [
    {
     "data": {
      "text/plain": [
       "antiagregante\n",
       "Sim    97\n",
       "Não    29\n",
       "Name: count, dtype: int64"
      ]
     },
     "execution_count": 351,
     "metadata": {},
     "output_type": "execute_result"
    }
   ],
   "execution_count": 351
  },
  {
   "metadata": {
    "ExecuteTime": {
     "end_time": "2024-10-19T23:26:18.575580Z",
     "start_time": "2024-10-19T23:26:18.570519Z"
    }
   },
   "cell_type": "code",
   "source": "filtered_df['antiagregante'].value_counts(normalize=True) * 100",
   "id": "32bc98a01b6998a7",
   "outputs": [
    {
     "data": {
      "text/plain": [
       "antiagregante\n",
       "Sim    76.984127\n",
       "Não    23.015873\n",
       "Name: proportion, dtype: float64"
      ]
     },
     "execution_count": 352,
     "metadata": {},
     "output_type": "execute_result"
    }
   ],
   "execution_count": 352
  },
  {
   "metadata": {},
   "cell_type": "markdown",
   "source": "## Hipolipomiante",
   "id": "786a92f0e59e2e3a"
  },
  {
   "metadata": {
    "ExecuteTime": {
     "end_time": "2024-10-19T23:26:18.634566Z",
     "start_time": "2024-10-19T23:26:18.629627Z"
    }
   },
   "cell_type": "code",
   "source": "filtered_df['Hipolipemiantes'].value_counts()",
   "id": "a98cdad28c5909cf",
   "outputs": [
    {
     "data": {
      "text/plain": [
       "Hipolipemiantes\n",
       "Sim    89\n",
       "Não    37\n",
       "Name: count, dtype: int64"
      ]
     },
     "execution_count": 353,
     "metadata": {},
     "output_type": "execute_result"
    }
   ],
   "execution_count": 353
  },
  {
   "metadata": {
    "ExecuteTime": {
     "end_time": "2024-10-19T23:26:18.694201Z",
     "start_time": "2024-10-19T23:26:18.689371Z"
    }
   },
   "cell_type": "code",
   "source": "filtered_df['Hipolipemiantes'].value_counts(normalize=True) * 100",
   "id": "8cd256c1726853a9",
   "outputs": [
    {
     "data": {
      "text/plain": [
       "Hipolipemiantes\n",
       "Sim    70.634921\n",
       "Não    29.365079\n",
       "Name: proportion, dtype: float64"
      ]
     },
     "execution_count": 354,
     "metadata": {},
     "output_type": "execute_result"
    }
   ],
   "execution_count": 354
  },
  {
   "metadata": {},
   "cell_type": "markdown",
   "source": "## Betabloqueadores",
   "id": "f15d183c9f214425"
  },
  {
   "metadata": {
    "ExecuteTime": {
     "end_time": "2024-10-19T23:26:18.756120Z",
     "start_time": "2024-10-19T23:26:18.751404Z"
    }
   },
   "cell_type": "code",
   "source": "filtered_df['Betabloqueadores'].value_counts()",
   "id": "acc3ede5634a782a",
   "outputs": [
    {
     "data": {
      "text/plain": [
       "Betabloqueadores\n",
       "Não    78\n",
       "Sim    48\n",
       "Name: count, dtype: int64"
      ]
     },
     "execution_count": 355,
     "metadata": {},
     "output_type": "execute_result"
    }
   ],
   "execution_count": 355
  },
  {
   "metadata": {
    "ExecuteTime": {
     "end_time": "2024-10-19T23:26:18.809483Z",
     "start_time": "2024-10-19T23:26:18.805094Z"
    }
   },
   "cell_type": "code",
   "source": "filtered_df['Betabloqueadores'].value_counts(normalize=True) * 100",
   "id": "2428c7539ed05980",
   "outputs": [
    {
     "data": {
      "text/plain": [
       "Betabloqueadores\n",
       "Não    61.904762\n",
       "Sim    38.095238\n",
       "Name: proportion, dtype: float64"
      ]
     },
     "execution_count": 356,
     "metadata": {},
     "output_type": "execute_result"
    }
   ],
   "execution_count": 356
  }
 ],
 "metadata": {
  "kernelspec": {
   "display_name": "Python 3",
   "language": "python",
   "name": "python3"
  },
  "language_info": {
   "codemirror_mode": {
    "name": "ipython",
    "version": 2
   },
   "file_extension": ".py",
   "mimetype": "text/x-python",
   "name": "python",
   "nbconvert_exporter": "python",
   "pygments_lexer": "ipython2",
   "version": "2.7.6"
  }
 },
 "nbformat": 4,
 "nbformat_minor": 5
}
