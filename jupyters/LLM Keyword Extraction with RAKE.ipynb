{
 "cells": [
  {
   "cell_type": "code",
   "id": "initial_id",
   "metadata": {
    "collapsed": true,
    "ExecuteTime": {
     "end_time": "2024-09-18T11:18:43.314868Z",
     "start_time": "2024-09-18T11:18:38.717079Z"
    }
   },
   "source": "!pip install rake_nltk",
   "outputs": [
    {
     "name": "stdout",
     "output_type": "stream",
     "text": [
      "Collecting rake_nltk\r\n",
      "  Downloading rake_nltk-1.0.6-py3-none-any.whl.metadata (6.4 kB)\r\n",
      "Requirement already satisfied: nltk<4.0.0,>=3.6.2 in /home/alexandre_pantalena/desenvolvimento/repos/data-pipelines/airflow/airflow_venv/lib/python3.9/site-packages (from rake_nltk) (3.9.1)\r\n",
      "Requirement already satisfied: click in /home/alexandre_pantalena/desenvolvimento/repos/data-pipelines/airflow/airflow_venv/lib/python3.9/site-packages (from nltk<4.0.0,>=3.6.2->rake_nltk) (8.1.3)\r\n",
      "Requirement already satisfied: joblib in /home/alexandre_pantalena/desenvolvimento/repos/data-pipelines/airflow/airflow_venv/lib/python3.9/site-packages (from nltk<4.0.0,>=3.6.2->rake_nltk) (1.4.2)\r\n",
      "Requirement already satisfied: regex>=2021.8.3 in /home/alexandre_pantalena/desenvolvimento/repos/data-pipelines/airflow/airflow_venv/lib/python3.9/site-packages (from nltk<4.0.0,>=3.6.2->rake_nltk) (2024.5.15)\r\n",
      "Requirement already satisfied: tqdm in /home/alexandre_pantalena/desenvolvimento/repos/data-pipelines/airflow/airflow_venv/lib/python3.9/site-packages (from nltk<4.0.0,>=3.6.2->rake_nltk) (4.66.5)\r\n",
      "Downloading rake_nltk-1.0.6-py3-none-any.whl (9.1 kB)\r\n",
      "Installing collected packages: rake_nltk\r\n",
      "Successfully installed rake_nltk-1.0.6\r\n"
     ]
    }
   ],
   "execution_count": 1
  },
  {
   "metadata": {
    "ExecuteTime": {
     "end_time": "2024-09-18T11:40:16.040205Z",
     "start_time": "2024-09-18T11:40:15.962388Z"
    }
   },
   "cell_type": "code",
   "source": [
    "from rake_nltk import Rake\n",
    "import openai\n",
    "from langchain_openai import AzureOpenAIEmbeddings, AzureChatOpenAI\n",
    "\n",
    "embedding_model = \"text-embedding\"\n",
    "\n",
    "client = AzureChatOpenAI()"
   ],
   "id": "19514198914cefac",
   "outputs": [],
   "execution_count": 19
  },
  {
   "metadata": {
    "ExecuteTime": {
     "end_time": "2024-09-18T11:27:41.720701Z",
     "start_time": "2024-09-18T11:27:41.717735Z"
    }
   },
   "cell_type": "code",
   "source": [
    "# Define input text\n",
    "text = \"\"\"\n",
    "6. DELIBERAÇÕES: Iniciados os trabalhos e após leitura da ordem do dia, os\n",
    "Investidores deliberaram, por unanimidade, pela aprovação na íntegra dos itens descritos\n",
    "na Ordem do Dia, desde já, dispensado a necessidade de nova descrição dos referidos\n",
    "itens.\n",
    "Fica desde já estabelecido que os aditamentos necessários aos Documentos da Operação\n",
    "para implementação das deliberações aprovadas serão celebrados pela Securitizadora, no\n",
    "prazo de até 30 (trinta) dias corridos, contados da presente data, às expensas da Devedora,\n",
    "obedecendo os prazos de registros, quando aplicáveis, já previstos nos Documentos da\n",
    "Operação;\n",
    "6.1. Os termos em maiúsculas mencionados na presente ata têm o significado que lhes\n",
    "é dado nos Documentos da Operação.\n",
    "6.2. Em virtude do exposto acima e independentemente de quaisquer outras\n",
    "disposições nos Documentos da Operação, os Investidores, neste ato, eximem a Emissora\n",
    "e o Agente Fiduciário de qualquer responsabilidade em relação ao quanto deliberado nesta\n",
    "assembleia.\n",
    "6.3. A Emissora atesta que a presente assembleia foi realizada atendendo a todos os\n",
    "requisitos, orientações e procedimentos, conforme determina a Resolução CVM nº 60.\n",
    "6.4. Por fim, os presentes autorizam a Emissora a encaminhar à Comissão de Valores\n",
    "Mobiliários a presente ata em forma sumária, com a omissão das qualificações e\n",
    "assinaturas dos Investidores, sendo dispensada, neste ato, sua publicação em jornal de\n",
    "grande circulação.\n",
    "\"\"\""
   ],
   "id": "c064cfee87cb9325",
   "outputs": [],
   "execution_count": 6
  },
  {
   "metadata": {
    "ExecuteTime": {
     "end_time": "2024-09-18T11:27:43.847361Z",
     "start_time": "2024-09-18T11:27:43.839561Z"
    }
   },
   "cell_type": "code",
   "source": [
    "# Generate candidate keywords using RAKE\n",
    "r = Rake()\n",
    "r.extract_keywords_from_text(text)\n",
    "keywords = r.get_ranked_phrases()\n",
    "keywords"
   ],
   "id": "f70575e66553e2a6",
   "outputs": [
    {
     "data": {
      "text/plain": [
       "['fica desde já estabelecido que os aditamentos necessários aos documentos da operação para implementação das deliberações aprovadas serão celebrados pela securitizadora',\n",
       " 'agente fiduciário de qualquer responsabilidade em relação ao quanto deliberado nesta assembleia',\n",
       " 'exposto acima e independentemente de quaisquer outras disposições nos documentos da operação',\n",
       " 'significado que lhes é dado nos documentos da operação',\n",
       " 'pela aprovação na íntegra dos itens descritos na ordem',\n",
       " 'os termos em maiúsculas mencionados na presente ata têm',\n",
       " 'iniciados os trabalhos e após leitura da ordem',\n",
       " 'já previstos nos documentos da operação',\n",
       " 'omissão das qualificações e assinaturas dos investidores',\n",
       " 'necessidade de nova descrição dos referidos itens',\n",
       " 'sua publicação em jornal de grande circulação',\n",
       " 'encaminhar à comissão de valores mobiliários',\n",
       " 'presente ata em forma sumária',\n",
       " 'obedecendo os prazos de registros',\n",
       " 'presente assembleia foi realizada atendendo',\n",
       " 'contados da presente data',\n",
       " 'desde já',\n",
       " 'às expensas da devedora',\n",
       " 'prazo de até 30',\n",
       " 'resolução cvm nº 60',\n",
       " 'emissora atesta que',\n",
       " 'os investidores deliberaram',\n",
       " 'todos os requisitos',\n",
       " 'os presentes autorizam',\n",
       " 'orientações e procedimentos',\n",
       " 'deliberações',\n",
       " 'os investidores',\n",
       " 'em virtude',\n",
       " 'emissora e',\n",
       " 'sendo dispensada',\n",
       " 'quando aplicáveis',\n",
       " 'por unanimidade',\n",
       " 'por fim',\n",
       " 'neste ato',\n",
       " 'neste ato',\n",
       " 'dias corridos',\n",
       " 'conforme determina',\n",
       " 'emissora',\n",
       " 'trinta',\n",
       " 'eximem',\n",
       " 'dispensado',\n",
       " 'dia',\n",
       " 'dia',\n",
       " 'com',\n",
       " '6',\n",
       " '6',\n",
       " '6',\n",
       " '6',\n",
       " '6',\n",
       " '4',\n",
       " '3',\n",
       " '2',\n",
       " '1']"
      ]
     },
     "execution_count": 7,
     "metadata": {},
     "output_type": "execute_result"
    }
   ],
   "execution_count": 7
  },
  {
   "metadata": {
    "ExecuteTime": {
     "end_time": "2024-09-18T11:34:31.084865Z",
     "start_time": "2024-09-18T11:34:30.401519Z"
    }
   },
   "cell_type": "code",
   "source": [
    "embeddings = AzureOpenAIEmbeddings(model=embedding_model)\n",
    "\n",
    "contextual_embeddings = embeddings.embed_query(text)"
   ],
   "id": "6021218745907116",
   "outputs": [],
   "execution_count": 12
  },
  {
   "metadata": {
    "ExecuteTime": {
     "end_time": "2024-09-18T11:41:43.576872Z",
     "start_time": "2024-09-18T11:41:43.557301Z"
    }
   },
   "cell_type": "code",
   "source": [
    "# Pass preprocessed text through OpenAI GPT for contextual analysis\n",
    "contextual_embeddings = client.Completion.create(\n",
    "engine=embedding_model, prompt=text, max_tokens=50\n",
    ")"
   ],
   "id": "1ffd0bd77b606374",
   "outputs": [
    {
     "ename": "AttributeError",
     "evalue": "'AzureChatOpenAI' object has no attribute 'Completion'",
     "output_type": "error",
     "traceback": [
      "\u001B[0;31m---------------------------------------------------------------------------\u001B[0m",
      "\u001B[0;31mAttributeError\u001B[0m                            Traceback (most recent call last)",
      "Cell \u001B[0;32mIn[20], line 2\u001B[0m\n\u001B[1;32m      1\u001B[0m \u001B[38;5;66;03m# Pass preprocessed text through OpenAI GPT for contextual analysis\u001B[39;00m\n\u001B[0;32m----> 2\u001B[0m contextual_embeddings \u001B[38;5;241m=\u001B[39m \u001B[43mclient\u001B[49m\u001B[38;5;241;43m.\u001B[39;49m\u001B[43mCompletion\u001B[49m\u001B[38;5;241m.\u001B[39mcreate(\n\u001B[1;32m      3\u001B[0m engine\u001B[38;5;241m=\u001B[39membedding_model, prompt\u001B[38;5;241m=\u001B[39mtext, max_tokens\u001B[38;5;241m=\u001B[39m\u001B[38;5;241m50\u001B[39m\n\u001B[1;32m      4\u001B[0m )\n",
      "\u001B[0;31mAttributeError\u001B[0m: 'AzureChatOpenAI' object has no attribute 'Completion'"
     ]
    }
   ],
   "execution_count": 20
  },
  {
   "metadata": {
    "ExecuteTime": {
     "end_time": "2024-09-18T11:34:48.814722Z",
     "start_time": "2024-09-18T11:34:48.430716Z"
    }
   },
   "cell_type": "code",
   "source": [
    "# Combine RAKE scores with contextual embeddings to rank keywords\n",
    "# Select top-ranked keywords as final extracted keywords\n",
    "final_keywords = [keyword for keyword in keywords if keyword in contextual_embeddings.choices[0].text]"
   ],
   "id": "ef40258263654318",
   "outputs": [
    {
     "ename": "AttributeError",
     "evalue": "'list' object has no attribute 'choices'",
     "output_type": "error",
     "traceback": [
      "\u001B[0;31m---------------------------------------------------------------------------\u001B[0m",
      "\u001B[0;31mAttributeError\u001B[0m                            Traceback (most recent call last)",
      "Cell \u001B[0;32mIn[13], line 3\u001B[0m\n\u001B[1;32m      1\u001B[0m \u001B[38;5;66;03m# Combine RAKE scores with contextual embeddings to rank keywords\u001B[39;00m\n\u001B[1;32m      2\u001B[0m \u001B[38;5;66;03m# Select top-ranked keywords as final extracted keywords\u001B[39;00m\n\u001B[0;32m----> 3\u001B[0m final_keywords \u001B[38;5;241m=\u001B[39m [keyword \u001B[38;5;28;01mfor\u001B[39;00m keyword \u001B[38;5;129;01min\u001B[39;00m keywords \u001B[38;5;28;01mif\u001B[39;00m keyword \u001B[38;5;129;01min\u001B[39;00m contextual_embeddings\u001B[38;5;241m.\u001B[39mchoices[\u001B[38;5;241m0\u001B[39m]\u001B[38;5;241m.\u001B[39mtext]\n",
      "Cell \u001B[0;32mIn[13], line 3\u001B[0m, in \u001B[0;36m<listcomp>\u001B[0;34m(.0)\u001B[0m\n\u001B[1;32m      1\u001B[0m \u001B[38;5;66;03m# Combine RAKE scores with contextual embeddings to rank keywords\u001B[39;00m\n\u001B[1;32m      2\u001B[0m \u001B[38;5;66;03m# Select top-ranked keywords as final extracted keywords\u001B[39;00m\n\u001B[0;32m----> 3\u001B[0m final_keywords \u001B[38;5;241m=\u001B[39m [keyword \u001B[38;5;28;01mfor\u001B[39;00m keyword \u001B[38;5;129;01min\u001B[39;00m keywords \u001B[38;5;28;01mif\u001B[39;00m keyword \u001B[38;5;129;01min\u001B[39;00m \u001B[43mcontextual_embeddings\u001B[49m\u001B[38;5;241;43m.\u001B[39;49m\u001B[43mchoices\u001B[49m[\u001B[38;5;241m0\u001B[39m]\u001B[38;5;241m.\u001B[39mtext]\n",
      "\u001B[0;31mAttributeError\u001B[0m: 'list' object has no attribute 'choices'"
     ]
    }
   ],
   "execution_count": 13
  }
 ],
 "metadata": {
  "kernelspec": {
   "display_name": "Python 3",
   "language": "python",
   "name": "python3"
  },
  "language_info": {
   "codemirror_mode": {
    "name": "ipython",
    "version": 2
   },
   "file_extension": ".py",
   "mimetype": "text/x-python",
   "name": "python",
   "nbconvert_exporter": "python",
   "pygments_lexer": "ipython2",
   "version": "2.7.6"
  }
 },
 "nbformat": 4,
 "nbformat_minor": 5
}
