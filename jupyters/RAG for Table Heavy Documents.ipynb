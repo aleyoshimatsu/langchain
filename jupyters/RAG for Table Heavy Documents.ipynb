{
 "cells": [
  {
   "metadata": {},
   "cell_type": "markdown",
   "source": "## 1. Dependencies, Imports & Setup",
   "id": "1202f74afa62f8c5"
  },
  {
   "cell_type": "code",
   "execution_count": null,
   "id": "initial_id",
   "metadata": {
    "collapsed": true
   },
   "outputs": [],
   "source": [
    "!apt-get -qq install poppler-utils tesseract-ocr\n",
    "%pip install -q --user --upgrade pillow\n",
    "%pip install -q --upgrade unstructured[\"all-docs\"]\n",
    "%pip install pymupdf\n",
    "%pip install kdbai_client\n",
    "%pip install langchain-openai\n",
    "%pip install langchain\n",
    "%pip install langchain-community\n",
    "%pip install --upgrade nltk"
   ]
  },
  {
   "metadata": {
    "ExecuteTime": {
     "end_time": "2024-09-26T22:03:44.304411Z",
     "start_time": "2024-09-26T22:03:36.933343Z"
    }
   },
   "cell_type": "code",
   "source": [
    "from unstructured.partition.pdf import partition_pdf\n",
    "from unstructured.partition.auto import partition\n",
    "from unstructured.embed.openai import OpenAIEmbeddingConfig, OpenAIEmbeddingEncoder\n",
    "import fitz\n",
    "from langchain_openai import OpenAIEmbeddings\n",
    "# import kdbai_client as kdbai\n",
    "from langchain_community.vectorstores import KDBAI\n",
    "from langchain.chains import RetrievalQA\n",
    "from langchain_openai import ChatOpenAI\n",
    "import nltk\n",
    "nltk.download('punkt')"
   ],
   "id": "a52addc297807f26",
   "outputs": [
    {
     "name": "stderr",
     "output_type": "stream",
     "text": [
      "[nltk_data] Downloading package punkt to\n",
      "[nltk_data]     /home/alexandre_pantalena/nltk_data...\n",
      "[nltk_data]   Package punkt is already up-to-date!\n"
     ]
    },
    {
     "data": {
      "text/plain": [
       "True"
      ]
     },
     "execution_count": 2,
     "metadata": {},
     "output_type": "execute_result"
    }
   ],
   "execution_count": 2
  },
  {
   "metadata": {},
   "cell_type": "markdown",
   "source": [
    "## 2. Use Unstructured to Process Complex PDF Documentation\n",
    "\n",
    "1. Read in data\n",
    "2. Partition using the 'hi_res' strategy\n",
    "3. Chunk"
   ],
   "id": "49b067c9de3c6c8a"
  },
  {
   "metadata": {
    "ExecuteTime": {
     "end_time": "2024-09-26T22:03:51.420908Z",
     "start_time": "2024-09-26T22:03:51.222253Z"
    }
   },
   "cell_type": "code",
   "source": "!mkdir './tables'",
   "id": "7a609508b0164508",
   "outputs": [],
   "execution_count": 3
  },
  {
   "metadata": {
    "ExecuteTime": {
     "end_time": "2024-09-26T22:04:49.642785Z",
     "start_time": "2024-09-26T22:04:02.511978Z"
    }
   },
   "cell_type": "code",
   "source": [
    "file = '42888360000111-REL24092024V01-000743017.pdf'\n",
    "\n",
    "elements = partition_pdf(file,\n",
    "                              strategy=\"hi_res\",\n",
    "                              chunking_strategy=\"by_title\",\n",
    "                              max_characters=2500,\n",
    "                              new_after_n_chars=2300,\n",
    "                              )"
   ],
   "id": "9a3cba3485654062",
   "outputs": [],
   "execution_count": 4
  },
  {
   "metadata": {},
   "cell_type": "markdown",
   "source": "### Explore the extracted elements",
   "id": "e8aab7de18accdab"
  },
  {
   "metadata": {
    "ExecuteTime": {
     "end_time": "2024-09-26T22:04:59.214519Z",
     "start_time": "2024-09-26T22:04:59.210050Z"
    }
   },
   "cell_type": "code",
   "source": [
    "from collections import Counter\n",
    "display(Counter(type(element) for element in elements))"
   ],
   "id": "ad6022a1755c0797",
   "outputs": [
    {
     "data": {
      "text/plain": [
       "Counter({unstructured.documents.elements.CompositeElement: 18,\n",
       "         unstructured.documents.elements.Table: 5})"
      ]
     },
     "metadata": {},
     "output_type": "display_data"
    }
   ],
   "execution_count": 5
  },
  {
   "metadata": {
    "ExecuteTime": {
     "end_time": "2024-09-26T22:05:25.863033Z",
     "start_time": "2024-09-26T22:05:25.860053Z"
    }
   },
   "cell_type": "code",
   "source": [
    "for element in elements:\n",
    "  print(type(element))"
   ],
   "id": "4285c396f7b2af6a",
   "outputs": [
    {
     "name": "stdout",
     "output_type": "stream",
     "text": [
      "<class 'unstructured.documents.elements.CompositeElement'>\n",
      "<class 'unstructured.documents.elements.Table'>\n",
      "<class 'unstructured.documents.elements.CompositeElement'>\n",
      "<class 'unstructured.documents.elements.Table'>\n",
      "<class 'unstructured.documents.elements.CompositeElement'>\n",
      "<class 'unstructured.documents.elements.Table'>\n",
      "<class 'unstructured.documents.elements.CompositeElement'>\n",
      "<class 'unstructured.documents.elements.Table'>\n",
      "<class 'unstructured.documents.elements.CompositeElement'>\n",
      "<class 'unstructured.documents.elements.Table'>\n",
      "<class 'unstructured.documents.elements.CompositeElement'>\n",
      "<class 'unstructured.documents.elements.CompositeElement'>\n",
      "<class 'unstructured.documents.elements.CompositeElement'>\n",
      "<class 'unstructured.documents.elements.CompositeElement'>\n",
      "<class 'unstructured.documents.elements.CompositeElement'>\n",
      "<class 'unstructured.documents.elements.CompositeElement'>\n",
      "<class 'unstructured.documents.elements.CompositeElement'>\n",
      "<class 'unstructured.documents.elements.CompositeElement'>\n",
      "<class 'unstructured.documents.elements.CompositeElement'>\n",
      "<class 'unstructured.documents.elements.CompositeElement'>\n",
      "<class 'unstructured.documents.elements.CompositeElement'>\n",
      "<class 'unstructured.documents.elements.CompositeElement'>\n",
      "<class 'unstructured.documents.elements.CompositeElement'>\n"
     ]
    }
   ],
   "execution_count": 6
  },
  {
   "metadata": {
    "ExecuteTime": {
     "end_time": "2024-09-26T22:13:32.771924Z",
     "start_time": "2024-09-26T22:08:48.776493Z"
    }
   },
   "cell_type": "code",
   "source": [
    "for element in elements:\n",
    "  if element.to_dict()['type'] == 'Table':\n",
    "    print(element.text)"
   ],
   "id": "a6daa520e0bbb27",
   "outputs": [
    {
     "name": "stdout",
     "output_type": "stream",
     "text": [
      "R$ 0,100 Por cota 1,18%(1) Dividend yield 136,6% Dividend Yield % CDI 160,5% % CDI Gross Up IR 15,15%(2) Dividend Yield 12M CDI + 5,1% 59,2% da carteira IPCA + 11,7% 20,6% da carteira 0% exposição direta em produtor rural (PF) 100% adimplente Carteira Total 83,9% Alocado em ativos de crédito do agronegócio 18.150 Investidores\n",
      "CDI IPCA Mês 0,87% -0,02% 12 Meses 11,20% 4,24%\n",
      "ago/24 jul/24 jun/24 mai/24 abr/24 mar/24 fev/24 Receitas Totais 755.320 779.536 694.144 767.304 789.198 766.329 718.070 Juros 645.471 672.997 594.972 643.609 671.017 634.427 614.527 Correção Monetária 39.423 32.546 41.541 44.197 53.130 68.001 52.169 Rendimento do Caixa 70.425 73.993 57.631 53.430 65.051 53.164 48.373 Outras Receitas - - - 26.068 - 10.739 3.002 Despesas Totais (73.517) (105.371) (69.263) (83.740) (67.087) (64.291) (67.567) Despesas Operacionais Provisões (1) (73.517) (105.371) (69.263) (83.740) (67.087) (64.291) (67.567) - - - - - - - Reserva de Lucros (2) (7.913) (274) 183.788 57.715 (48.221) (28.148) 23.388 Total Distribuído 673.891 673.891 808.669 741.280 673.891 673.891 673.891 Quantidade de Cotas 6.738.905 6.738.905 6.738.905 6.738.905 6.738.905 6.738.905 6.738.905 Distribuição por Cota 0,100 0,100 0,120 0,110 0,100 0,100 0,100 Cota de Mercado 8,45 8,41 8,21 8,16 8,25 8,62 8,65 Dividend Yield (mercado) 1,18% 1,19% 1,46% 1,35% 1,21% 1,16% 1,16% Cota Patrimonial 9,55 9,52 9,54 9,58 9,57 9,60 9,61 Dividend Yield (patrimonial) 1,05% 1,05% 1,26% 1,15% 1,04% 1,04% 1,04% Saldo Reserva 70.237 62.324 62.050 245.838 303.553 255.332 227.183 Reserva por Cota 0,010 0,009 0,009 0,036 0,045 0,038 0,034\n",
      "ago/24 jul/24 jun/24 mai/24 abr/24 mar/24 fev/24 jan/24 dez/23 100% 100% 100% 100% 100% 100% 100% 100% 100% Presença nos Pregões R$ 3,0 R$ 3,1 R$ 2,2 R$ 2,6 R$ 2,9 R$ 4,6 R$ 5,2 R$ 4,1 R$ 4,9 Volume Negociado (R$ MM) 363.403 367.979 267.030 318.196 344.922 550.067 592.293 463.783 548.118 Qtd de Cotas Negociadas Valor de Mercado (R$ MM) R$ 56,9 R$ 56,7 R$ 55,3 R$ 55,0 R$ 55,6 R$ 58,1 R$ 58,3 R$ 60,4 R$ 60,4 4,7% 4,8% 3,4% 4,0% 4,5% 7,9% 8,9% 6,9% 8,2% Giro\n",
      "Nome Status Segmento Securitizadora Subordinação IF CRI Toex Armazenagem Opea Subordinada IPCA + 13,00% 15,1% Mensal 22B0939310 3,26 CRA Reiter Logística Octante CDI + 5,09% 11,2% Mensal Única 1,23 Ecoagro CDI + 5,60% CRA Agrofito Revenda Semestral Sênior 6,4% 1,28 CRA Fiagril Distribuidora de Insumos Opea CDI + 5,00% Trimestral Única 6,3% 1,23 CRA Primato Cooperativa Ecoagro CDI + 4,50% Mensal Única 5,8% 0,75 CRA Spaço Revenda Ecoagro CDI + 5,75% Semestral Sênior 5,6% 1,28 CRA FS Bio Etanol Octante IPCA + 8,25% 5,5% Trimestral Única 2,05 Distribuição de Combustíveis CRA Grupo Sim Opea Única CDI + 4,50% 4,8% 0,38 Mensal CRA Fs Florestal Etanol Ecoagro 15,38% Mensal Sênior 4,0% 3,92 CRA Belagrícola Distribuidora de Insumos Virgo CDI + 5,00% Mensal Única 3,9% 0,74 CRA Solinftec Tecnologia Ecoagro CDI + 5,50% Mensal Única 2,4% 2,45 CRA Coagril Cooperativa Ecoagro CDI + 4,70% Mensal Única 2,4% 1,73 CRA Toagro Revenda Ecoagro CDI + 5,00% Semestral Sênior 2,4% 3,03 CRA Agrodinamica Revenda Opea CDI + 5,00% Semestral CRA02300EI9 Sênior 2,4% 3,03 CRA Panorama Revenda Ecoagro CDI + 5,00% Semestral Sênior 1,6% 2,08 CRA Agrofarm Revenda Ecoagro CDI + 5,00% Semestral Sênior 1,6% 2,18 CRA Supply Armazenagem Ecoagro CDI + 5,25% Mensal Única 1,4% 2,06\n"
     ]
    }
   ],
   "execution_count": 12
  },
  {
   "metadata": {},
   "cell_type": "markdown",
   "source": "### What a table element looks like after extraction:",
   "id": "349738d45f3b807c"
  },
  {
   "metadata": {
    "ExecuteTime": {
     "end_time": "2024-09-26T22:13:39.662539Z",
     "start_time": "2024-09-26T22:13:39.659490Z"
    }
   },
   "cell_type": "code",
   "source": "print(elements[-2])",
   "id": "f4c4d0a83e89897d",
   "outputs": [
    {
     "name": "stdout",
     "output_type": "stream",
     "text": [
      "investidor ao aplicar seus recursos.\n"
     ]
    }
   ],
   "execution_count": 13
  },
  {
   "metadata": {},
   "cell_type": "markdown",
   "source": "### Embed Extracted Elements with OpenAI Embedding Model",
   "id": "2dfb08e06c1e44f1"
  }
 ],
 "metadata": {
  "kernelspec": {
   "display_name": "Python 3",
   "language": "python",
   "name": "python3"
  },
  "language_info": {
   "codemirror_mode": {
    "name": "ipython",
    "version": 2
   },
   "file_extension": ".py",
   "mimetype": "text/x-python",
   "name": "python",
   "nbconvert_exporter": "python",
   "pygments_lexer": "ipython2",
   "version": "2.7.6"
  }
 },
 "nbformat": 4,
 "nbformat_minor": 5
}
