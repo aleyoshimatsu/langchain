{
 "cells": [
  {
   "cell_type": "code",
   "id": "initial_id",
   "metadata": {
    "collapsed": true,
    "ExecuteTime": {
     "end_time": "2025-02-12T14:06:16.146744Z",
     "start_time": "2025-02-12T14:06:16.010791Z"
    }
   },
   "source": [
    "from langchain_core.output_parsers import PydanticOutputParser\n",
    "from langchain_core.runnables import RunnablePassthrough, RunnableParallel\n",
    "from langchain_core.prompts import ChatPromptTemplate\n",
    "from langchain_openai import AzureChatOpenAI\n",
    "from pydantic import BaseModel, Field, model_validator\n",
    "\n",
    "# deployment_name = \"gpt-4o-mini\"\n",
    "# embedding_model = \"gpt-4o-mini\"\n",
    "# openai_api_version=\"2024-07-18\"\n",
    "\n",
    "system_prompt = (\"\"\"\n",
    "Você é um assistente de IA que extrai dados de documentos.\n",
    "Você deve extrair informações específicas e retorná-las em um formato estruturado.\n",
    "\n",
    "INSTRUÇÕES CRÍTICAS:\n",
    "- EVITE DUPLICADOS: Nunca inclua itens duplicados em qualquer lista.\n",
    "- SEJA CONCISO: Mantenha cada item breve e direto ao ponto.\n",
    "- VALIDE: Cada informação deve estar explicitamente declarada no texto; não faça suposições.\n",
    "\n",
    "Por favor, extraia:\n",
    "- Liste as informações do Documento\n",
    "\n",
    "Texto do documento:\n",
    "{context}\n",
    "\n",
    "\"\"\"\n",
    ")\n",
    "\n",
    "prompt = ChatPromptTemplate.from_messages(\n",
    "    [\n",
    "        (\"system\", system_prompt),\n",
    "        (\"human\", \"{input}\"),\n",
    "    ]\n",
    ")\n",
    "\n",
    "# https://cog-openai-stage.openai.azure.com/openai/deployments/gpt-4o-mini/chat/completions?api-version=2024-08-01-preview\n",
    "llm = AzureChatOpenAI(azure_deployment=\"gpt-4o-mini\", api_version=\"2024-08-01-preview\", temperature=0.0)"
   ],
   "outputs": [],
   "execution_count": 28
  },
  {
   "metadata": {
    "ExecuteTime": {
     "end_time": "2025-02-12T14:55:19.511748Z",
     "start_time": "2025-02-12T14:55:19.493548Z"
    }
   },
   "cell_type": "code",
   "source": [
    "from typing import List, Optional\n",
    "from datetime import datetime, date\n",
    "\n",
    "class LocalidadeModel(BaseModel):\n",
    "    \"\"\"Localização da Parte\"\"\"\n",
    "    cidade: str = Field(description=\"Cidade da Parte\")\n",
    "    estado: str = Field(description=\"Estado da Parte\")\n",
    "    regiao: str = Field(description=\"Região do estado da Parte. Possíveis valores: S - Sul, SE - Sudeste, CO - Centro Oeste, NE - Nordeste, N - Norte\")\n",
    "\n",
    "class SecuritizadoraEmissoraModel(BaseModel):\n",
    "    \"\"\"Parte nomeadas e qualificadas como Securitizadora ou Emissora\"\"\"\n",
    "    cnpj: str = Field(description=\"Número do CNPJ da Securitizadora ou Emissora. Formatos permitidos: ##.###.###/####-##\")\n",
    "    nome: str = Field(description=\"Nome da empresa ou Razão Social da Securitizadora ou Emissora\")\n",
    "\n",
    "class AgenteFiduciarioModel(BaseModel):\n",
    "    \"\"\"Parte nomeadas e qualificadas como Agente Fiduciário\"\"\"\n",
    "    cnpj: str = Field(description=\"Número do CNPJ do Agente Fiduciário. Formatos permitidos: ##.###.###/####-##\")\n",
    "    nome: str = Field(description=\"Nome da empresa ou Razão Social do Agente Fiduciário\")\n",
    "\n",
    "class DevedoraModel(BaseModel):\n",
    "    \"\"\"Parte nomeadas e qualificadas como Devedores ou Devedoras\"\"\"\n",
    "    cpf_cnpj: str = Field(description=\"Número do CPF ou CNPJ do Devedor. Formatos permitidos: ##.###.###/####-## ou ###.###.###-##\")\n",
    "    nome: str = Field(description=\"Nome do Devedor\")\n",
    "    localidade: LocalidadeModel = Field(description=\"Localidade do Devedor\")\n",
    "\n",
    "class CedenteModel(BaseModel):\n",
    "    \"\"\"Parte nomeadas e qualificadas como Cedentes\"\"\"\n",
    "    cpf_cnpj: str = Field(description=\"Número do CPF ou CNPJ do Cedente. Formatos permitidos: ##.###.###/####-## ou ###.###.###-##\")\n",
    "    nome: str = Field(description=\"Nome do Cedente\")\n",
    "    localidade: LocalidadeModel = Field(description=\"Localidade do Devedor\")\n",
    "\n",
    "class AvalistaFiadorModel(BaseModel):\n",
    "    \"\"\"Parte nomeadas e qualificadas como Avalista ou Fiador\"\"\"\n",
    "    cpf_cnpj: str = Field(description=\"Número do CPF ou CNPJ do Avalista ou Fiador. Formatos permitidos: ##.###.###/####-## ou ###.###.###-##\")\n",
    "    nome: str = Field(description=\"Nome do Avalista ou Fiador\")\n",
    "    localidade: LocalidadeModel = Field(description=\"Localidade do Devedor\")\n",
    "\n",
    "class RemuneracaoModel(BaseModel):\n",
    "    \"\"\"Informações sobre a remuneração do Ativo\"\"\"\n",
    "    indexador: str = Field(description=\"Indexador da Remuneração. Valores permitidos: IPCA, DI, Pré, INCC, PTAX, IGPM\",\n",
    "                           examples=['IPCA', 'DI', 'Pré', 'INCC', 'PTAX', 'IGPM'])\n",
    "\n",
    "    variacao: float = Field(description=\"Variação percentual acumulada do indexador da Remuneração em %\", examples=[100], default=100.0)\n",
    "\n",
    "    taxa_adicional_spread: float = Field(description=\"Taxa Adicional pré fixada ou Spread acrescida na Remuneração em %\", examples=[1.0, 5.5, 10.0])\n",
    "\n",
    "    periodo_taxa: str = Field(description=\"Periodo da Taxa Adicional. Valores permitidos: aa - para ao ano e am - para ao mês.\", examples=['aa', 'am'])\n",
    "\n",
    "class SerieModel(BaseModel):\n",
    "    \"\"\"Informações das Series\"\"\"\n",
    "    numero_serie: str = Field(description=\"Número da série em sua forma apenas numérica. Caso seja uma série única, retorne UNI.\",\n",
    "                              examples=['1', '2', '3', 'UNI'])\n",
    "\n",
    "    classe_serie: str = Field(description=\"Classe da série. Valores permitidos: Senior ou Subordinada\", examples=['Senior', 'Subordinada'])\n",
    "\n",
    "    lastro: Optional[str] = Field(description=\"Lastro da série\",\n",
    "                                examples=[\"Aluguel\", \"CCB\", \"CDCA\", \"Compra e Venda\", \"CPR-F\", \"Debênture\", \"Duplicata\", \"Financiamento Imobiliário\", \"Letra Financeira\", \"Nota Comercial\", \"Nota Promissória\", \"Outros Recebíveis\", \"Pro Soluto\"])\n",
    "\n",
    "    vlr_unitario_serie: float = Field(description=\"Valor Unitário da Série\")\n",
    "\n",
    "    qt_serie: int = Field(description=\"Quantidade da Série\")\n",
    "\n",
    "    vlr_serie: float = Field(description=\"Valor da Série\")\n",
    "\n",
    "    remuneracao: RemuneracaoModel = Field(description=\"Remuneração da Série\")\n",
    "\n",
    "class CoordenadorLiderModel(BaseModel):\n",
    "    \"\"\"Parte nomeadas e qualificadas como Coordenador Lider\"\"\"\n",
    "    cnpj: str = Field(description=\"Número do CNPJ do Coordenador Líder. Formatos permitidos: ##.###.###/####-##\")\n",
    "    nome: str = Field(description=\"Nome da empresa ou Razão Social do Coordenador Líder\")\n",
    "\n",
    "class EstruturadorModel(BaseModel):\n",
    "    \"\"\"Parte nomeadas e qualificadas como Estruturador\"\"\"\n",
    "    cnpj: str = Field(description=\"Número do CNPJ do Estruturador. Formatos permitidos: ##.###.###/####-##\")\n",
    "    nome: str = Field(description=\"Nome da empresa ou Razão Social do Estruturador\")\n",
    "\n",
    "class ResponsavelGarantiaModel(BaseModel):\n",
    "    \"\"\"Parte nomeadas e qualificadas como Responsável\"\"\"\n",
    "    cpf_cnpj: str = Field(description=\"Número do CPF ou CNPJ do Responsável da Garantia. Formatos permitidos: ##.###.###/####-## ou ###.###.###-##\")\n",
    "    nome: str = Field(description=\"Nome do Responsável da Garantia\")\n",
    "\n",
    "class GarantiaModel(BaseModel):\n",
    "    \"\"\"Informações das Garantias\"\"\"\n",
    "    garantia: str = Field(description=\"\"\"Nome da Garantia.\n",
    "\n",
    "                                        Utilize os valores possíveis:\n",
    "                                        Alienação Fiduciária Imóvel,\n",
    "                                        Alienação Fiduciária Maq&Eq,\n",
    "                                        Penhor,\n",
    "                                        Alienação Fiduciária quotas,\n",
    "                                        Aval (PJ),\n",
    "                                        Aval (PF),\n",
    "                                        Fiança Bancária,\n",
    "                                        CF Recebiveis,\n",
    "                                        CF Cartão,\n",
    "                                        CF Dividendos,\n",
    "                                        Série Mez,\n",
    "                                        Série Sub,\n",
    "                                        Coobrigação,\n",
    "                                        Fundo de Reserva,\n",
    "                                        Fundo de Despesas,\n",
    "                                        Fundo de Juros,\n",
    "                                        Fundo de Obras,\n",
    "                                        Outros Fundos\"\"\")\n",
    "\n",
    "    responsavel: Optional[ResponsavelGarantiaModel] = Field(description=\"Responsavel Garantia\")"
   ],
   "id": "2565a9468b6f47f4",
   "outputs": [],
   "execution_count": 47
  },
  {
   "metadata": {
    "ExecuteTime": {
     "end_time": "2025-02-12T14:25:05.681922Z",
     "start_time": "2025-02-12T14:25:05.676729Z"
    }
   },
   "cell_type": "code",
   "source": [
    "class AssembleiaModel(BaseModel):\n",
    "    \"\"\"Informações importantes da Assembleia\"\"\"\n",
    "    emissora: SecuritizadoraEmissoraModel = Field(description=\"Securitizadora ou Emissora\")\n",
    "\n",
    "    agente_fiduciario: AgenteFiduciarioModel = Field(description=\"Agente Fiduciário\")\n",
    "\n",
    "    tipo: str = Field(description=\"\"\"\n",
    "    Sendo CERTIFICADOS DE RECEBIVEIS DO AGRONEGOCIO = CRA;\n",
    "    Sendo CERTIFICADOS DE RECEBIVEIS IMOBILIARIOS = CRI;\n",
    "    Sendo DEBENTURES = DEB;\n",
    "    Sendo CERTIFICADOS DE RECEBIVEIS = CR;\n",
    "    Retorne se CRI, CRA, CR ou DEB. Caso não encontre, retorne ''.\n",
    "    \"\"\")\n",
    "\n",
    "    numero_emissao: str = Field(description=\"\"\"\n",
    "    Número da emissão em sua forma apenas numérica.\n",
    "    \"\"\")\n",
    "\n",
    "    numero_serie: List[str] = Field(description=\"Lista Única de Séries da Emissão em sua forma apenas numérica. Caso seja uma série única, retorne UNI\")\n",
    "\n",
    "    dt_hr_assembleia: datetime = Field(description=\"data e hora da assembleia\")\n",
    "\n",
    "    numero_convocacao: int = Field(description=\"número de convocação da assembleia nesta data\")\n",
    "\n",
    "    fl_assembleia_deliberada: bool = Field(description=\"A assembleia teve a Ordem do Dia deliberada?\")\n",
    "\n",
    "    fl_assembleia_nao_instalada: bool = Field(description=\"A assembleia não foi instalada?\")"
   ],
   "id": "9e3c549bf012718",
   "outputs": [],
   "execution_count": 42
  },
  {
   "metadata": {
    "ExecuteTime": {
     "end_time": "2025-02-12T14:55:40.423594Z",
     "start_time": "2025-02-12T14:55:40.409936Z"
    }
   },
   "cell_type": "code",
   "source": [
    "class TermoSecModel(BaseModel):\n",
    "    \"\"\"Informações importantes do Termo de Securitização\"\"\"\n",
    "    emissora: SecuritizadoraEmissoraModel = Field(description=\"Securitizadora ou Emissora\")\n",
    "\n",
    "    agente_fiduciario: AgenteFiduciarioModel = Field(description=\"Agente Fiduciário\")\n",
    "\n",
    "    devedores: List[DevedoraModel] = Field(description=\"Lista Única de Devedores ou Devedoras\")\n",
    "\n",
    "    cedentes: List[CedenteModel] = Field(description=\"Lista Única de Cedentes\")\n",
    "\n",
    "    avalistas_fiadores: List[AvalistaFiadorModel] = Field(description=\"Lista Única de Avalistas ou Fiadores\")\n",
    "\n",
    "    coordenador_lider: Optional[CoordenadorLiderModel] = Field(description=\"Coordenador Lider\")\n",
    "\n",
    "    estruturador: Optional[EstruturadorModel] = Field(description=\"Estruturador\")\n",
    "\n",
    "    numero_aditamento: int = Field(description=\"Número do aditamento. Caso não seja um aditamento retorne 0\", default=0)\n",
    "\n",
    "    tipo: str = Field(description=\"\"\"\n",
    "    Sendo CERTIFICADOS DE RECEBIVEIS DO AGRONEGOCIO = CRA;\n",
    "    Sendo CERTIFICADOS DE RECEBIVEIS IMOBILIARIOS = CRI;\n",
    "    Sendo DEBENTURES = DEB;\n",
    "    Sendo CERTIFICADOS DE RECEBIVEIS = CR;\n",
    "    Retorne se CRI, CRA, CR ou DEB. Caso não encontre, retorne ''.\n",
    "    \"\"\")\n",
    "    numero_emissao: str = Field(description=\"Número da emissão em sua forma apenas numérica.\")\n",
    "\n",
    "    numero_serie: List[str] = Field(description=\"Lista Única de Séries da Emissão em sua forma apenas numérica. Caso seja uma série única, retorne UNI\")\n",
    "\n",
    "    series: List[SerieModel] = Field(description=\"Lista Única de Séries da Emissão. Garanta que todas as séries sejam declaradas.\")\n",
    "\n",
    "    garantias: List[GarantiaModel] = Field(description=\"Garantias da Emissão\")\n",
    "\n",
    "    dt_emissao: date = Field(description=\"data da emissão\")\n",
    "\n",
    "    dt_vencimento: date = Field(description=\"data do vencimento\")\n",
    "\n",
    "    numero_quorum_minimo_primeira_convocacao: str = Field(description=\"Número quórum mínimo de instalação de assembleia em primeira convocação com a presença de Titulares ou Investidores em Circulação. Retorne o mais simples possível.\")\n",
    "\n",
    "    numero_quorum_minimo_segunda_convocacao: str = Field(description=\"Número quórum mínimo de instalação de assembleia em segunda convocação com a presença de Titulares ou Investidores em Circulação. Retorne o mais simples possível.\")\n",
    "\n",
    "    vlr_unitario_emissao: float = Field(description=\"Valor Unitário da Emissão ou da Oferta\")\n",
    "\n",
    "    qt_total_emissao: int = Field(description=\"Quantidade Total da Emissão ou da Oferta\")\n",
    "\n",
    "    vlr_total_emissao: float = Field(description=\"Valor Total da Emissão ou da Oferta\")"
   ],
   "id": "7794931e4b17c276",
   "outputs": [],
   "execution_count": 48
  },
  {
   "metadata": {
    "ExecuteTime": {
     "end_time": "2025-02-12T14:55:45.303318Z",
     "start_time": "2025-02-12T14:55:45.289948Z"
    }
   },
   "cell_type": "code",
   "source": [
    "class EscrituraModel(BaseModel):\n",
    "    \"\"\"Informações importantes da Escritura\"\"\"\n",
    "    emissora: SecuritizadoraEmissoraModel = Field(description=\"Securitizadora ou Emissora\")\n",
    "\n",
    "    agente_fiduciario: AgenteFiduciarioModel = Field(description=\"Agente Fiduciário\")\n",
    "\n",
    "    avalistas_fiadores: List[AvalistaFiadorModel] = Field(description=\"Lista Única de Avalistas ou Fiadores\")\n",
    "\n",
    "    coordenador_lider: Optional[CoordenadorLiderModel] = Field(description=\"Coordenador Lider\")\n",
    "\n",
    "    estruturador: Optional[EstruturadorModel] = Field(description=\"Estruturador\")\n",
    "\n",
    "    numero_aditamento: int = Field(description=\"Número do aditamento. Caso não seja um aditamento retorne 0\", default=0)\n",
    "\n",
    "    tipo: str = Field(description=\"\"\"\n",
    "    Sendo CERTIFICADOS DE RECEBIVEIS DO AGRONEGOCIO = CRA;\n",
    "    Sendo CERTIFICADOS DE RECEBIVEIS IMOBILIARIOS = CRI;\n",
    "    Sendo DEBENTURES = DEB;\n",
    "    Sendo CERTIFICADOS DE RECEBIVEIS = CR;\n",
    "    Retorne se CRI, CRA, CR ou DEB. Caso não encontre, retorne ''.\n",
    "    \"\"\")\n",
    "\n",
    "    numero_emissao: str = Field(description=\"\"\"\n",
    "    Número da emissão em sua forma apenas numérica.\n",
    "    \"\"\")\n",
    "\n",
    "    numero_serie: List[str] = Field(description=\"Lista Única de Séries da Emissão em sua forma apenas numérica. Caso seja uma série única, retorne UNI\")\n",
    "\n",
    "    series: List[SerieModel] = Field(description=\"Lista Única de Séries da Emissão\")\n",
    "\n",
    "    garantias: List[GarantiaModel] = Field(description=\"Garantias da Emissão\")\n",
    "\n",
    "    dt_emissao: date = Field(description=\"data da emissão\")\n",
    "\n",
    "    dt_vencimento: date = Field(description=\"data do vencimento\")\n",
    "\n",
    "    numero_quorum_minimo_primeira_convocacao: str = Field(description=\"Número quórum mínimo de instalação de assembleia em primeira convocação com a presença de Titulares ou Investidores em Circulação. Retorne o mais simples possível.\")\n",
    "\n",
    "    numero_quorum_minimo_segunda_convocacao: str = Field(description=\"Número quórum mínimo de instalação de assembleia em segunda convocação com a presença de Titulares ou Investidores em Circulação. Retorne o mais simples possível.\")\n",
    "\n",
    "    vlr_unitario_emissao: float = Field(description=\"Valor Unitário da Emissão ou da Oferta\")\n",
    "\n",
    "    qt_total_emissao: int = Field(description=\"Quantidade Total da Emissão ou da Oferta\")\n",
    "\n",
    "    vlr_total_emissao: float = Field(description=\"Valor Total da Emissão ou da Oferta\")"
   ],
   "id": "e8b5ddbb766904fc",
   "outputs": [],
   "execution_count": 49
  },
  {
   "metadata": {
    "ExecuteTime": {
     "end_time": "2025-02-12T14:06:25.110585Z",
     "start_time": "2025-02-12T14:06:25.107462Z"
    }
   },
   "cell_type": "code",
   "source": [
    "def format_docs(file_path):\n",
    "    f = open(file_path,\"r\")\n",
    "    return f.read()"
   ],
   "id": "e91fe39df33fe042",
   "outputs": [],
   "execution_count": 33
  },
  {
   "metadata": {
    "ExecuteTime": {
     "end_time": "2025-02-12T14:06:26.027668Z",
     "start_time": "2025-02-12T14:06:26.022842Z"
    }
   },
   "cell_type": "code",
   "source": [
    "def invoke(model, file_path):\n",
    "    llm_with_schema = llm.with_structured_output(model)\n",
    "\n",
    "    chain = prompt | llm_with_schema\n",
    "\n",
    "    result_llm = chain.invoke({\"context\": format_docs(file_path), \"input\": \"Extraia as informações\"})\n",
    "    return result_llm"
   ],
   "id": "49e9dfb981f9f963",
   "outputs": [],
   "execution_count": 34
  },
  {
   "metadata": {
    "ExecuteTime": {
     "end_time": "2025-02-12T09:11:44.567767Z",
     "start_time": "2025-02-12T09:11:42.589298Z"
    }
   },
   "cell_type": "code",
   "source": [
    "# FILE_PATH = '../files/BRPVSCCRI3Y2-ASS31012025V01-000829323.txt'\n",
    "FILE_PATH = '../files/BRASTECRI0C3-ASS04022025V01-000830908.txt'\n",
    "# FILE_PATH = '../files/23A1772203-ASS04022025V01-000831063.txt'\n",
    "result = invoke(AssembleiaModel, FILE_PATH)\n",
    "result.model_dump()"
   ],
   "id": "c90fe2ae89add817",
   "outputs": [
    {
     "data": {
      "text/plain": [
       "{'emissora': {'cnpj': '10.608.405/0001-60',\n",
       "  'nome': 'Bari Securitizadora S.A.'},\n",
       " 'agente_fiduciario': {'cnpj': '22.610.500/001-88',\n",
       "  'nome': 'Vórtx Distribuidora de Títulos e Valores Mobiliários LTDA.'},\n",
       " 'tipo': 'CRI',\n",
       " 'numero_emissao': '1',\n",
       " 'numero_serie': ['70'],\n",
       " 'dt_hr_assembleia': datetime.datetime(2025, 2, 4, 14, 0),\n",
       " 'numero_convocacao': 2,\n",
       " 'fl_assembleia_deliberada': False,\n",
       " 'fl_assembleia_nao_instalada': True}"
      ]
     },
     "execution_count": 9,
     "metadata": {},
     "output_type": "execute_result"
    }
   ],
   "execution_count": 9
  },
  {
   "metadata": {},
   "cell_type": "markdown",
   "source": "## Teste Documentos de Termo de Securitização",
   "id": "6ee38368c035dedc"
  },
  {
   "metadata": {
    "ExecuteTime": {
     "end_time": "2025-02-12T15:01:41.662961Z",
     "start_time": "2025-02-12T15:01:18.751245Z"
    }
   },
   "cell_type": "code",
   "source": [
    "FILE_PATH = '../files/831141.txt'\n",
    "# FILE_PATH = '../files/24F1234491-TDS07062024V01-000675608.txt'\n",
    "# FILE_PATH = '../files/797444.txt'\n",
    "# FILE_PATH = '../files/018759000101010.txt'\n",
    "\n",
    "result = invoke(TermoSecModel, FILE_PATH)\n",
    "result.model_dump_json()"
   ],
   "id": "5e6557d55548ef9",
   "outputs": [
    {
     "data": {
      "text/plain": [
       "'{\"emissora\":{\"cnpj\":\"55.085.811/0001-24\",\"nome\":\"ÉXES SECURITIZADORA S.A.\"},\"agente_fiduciario\":{\"cnpj\":\"22.610.500/0001-88\",\"nome\":\"VÓRTX DISTRIBUIDORA DE TÍTULOS E VALORES MOBILIÁRIOS LTDA.\"},\"devedores\":[{\"cpf_cnpj\":\"02.013.649/0001-72\",\"nome\":\"MADRE DE DIOS AGROPECUÁRIA E PARTICIPAÇÕES LTDA.\",\"localidade\":{\"cidade\":\"Maracaju\",\"estado\":\"Mato Grosso do Sul\",\"regiao\":\"CO\"}}],\"cedentes\":[],\"avalistas_fiadores\":[{\"cpf_cnpj\":\"614.391.931-34\",\"nome\":\"GRAZIELA BELLAN ALVES\",\"localidade\":{\"cidade\":\"Maracaju\",\"estado\":\"Mato Grosso do Sul\",\"regiao\":\"CO\"}},{\"cpf_cnpj\":\"056.437.021-50\",\"nome\":\"BRUNO BELLAN BARBOSA\",\"localidade\":{\"cidade\":\"Maracaju\",\"estado\":\"Mato Grosso do Sul\",\"regiao\":\"CO\"}},{\"cpf_cnpj\":\"046.444.531-02\",\"nome\":\"NATÁLIA BELLAN BARBOSA\",\"localidade\":{\"cidade\":\"Maracaju\",\"estado\":\"Mato Grosso do Sul\",\"regiao\":\"CO\"}},{\"cpf_cnpj\":\"699.941.881-00\",\"nome\":\"RAFAELA BELLAN\",\"localidade\":{\"cidade\":\"Maracaju\",\"estado\":\"Mato Grosso do Sul\",\"regiao\":\"CO\"}},{\"cpf_cnpj\":\"45.992.343/0001-18\",\"nome\":\"BELLA MADRE HOLDING E PARTICIPAÇÕES LTDA.\",\"localidade\":{\"cidade\":\"Maracaju\",\"estado\":\"Mato Grosso do Sul\",\"regiao\":\"CO\"}}],\"coordenador_lider\":null,\"estruturador\":null,\"numero_aditamento\":0,\"tipo\":\"CRA\",\"numero_emissao\":\"23\",\"numero_serie\":[\"UNI\"],\"series\":[{\"numero_serie\":\"UNI\",\"classe_serie\":\"Senior\",\"lastro\":\"CPR-F\",\"vlr_unitario_serie\":1000.0,\"qt_serie\":13500,\"vlr_serie\":13500000.0,\"remuneracao\":{\"indexador\":\"DI\",\"variacao\":100.0,\"taxa_adicional_spread\":7.0,\"periodo_taxa\":\"aa\"}}],\"garantias\":[{\"garantia\":\"Aval (PF)\",\"responsavel\":{\"cpf_cnpj\":\"614.391.931-34\",\"nome\":\"GRAZIELA BELLAN ALVES\"}},{\"garantia\":\"Aval (PF)\",\"responsavel\":{\"cpf_cnpj\":\"056.437.021-50\",\"nome\":\"BRUNO BELLAN BARBOSA\"}},{\"garantia\":\"Aval (PF)\",\"responsavel\":{\"cpf_cnpj\":\"046.444.531-02\",\"nome\":\"NATÁLIA BELLAN BARBOSA\"}},{\"garantia\":\"Aval (PF)\",\"responsavel\":{\"cpf_cnpj\":\"699.941.881-00\",\"nome\":\"RAFAELA BELLAN\"}},{\"garantia\":\"Aval (PJ)\",\"responsavel\":{\"cpf_cnpj\":\"45.992.343/0001-18\",\"nome\":\"BELLA MADRE HOLDING E PARTICIPAÇÕES LTDA.\"}},{\"garantia\":\"Alienação Fiduciária Imóvel\",\"responsavel\":null},{\"garantia\":\"Cessão Fiduciária\",\"responsavel\":null}],\"dt_emissao\":\"2025-02-04\",\"dt_vencimento\":\"2031-10-07\",\"numero_quorum_minimo_primeira_convocacao\":\"2/3\",\"numero_quorum_minimo_segunda_convocacao\":\"50% + 1\",\"vlr_unitario_emissao\":1000.0,\"qt_total_emissao\":13500,\"vlr_total_emissao\":13500000.0}'"
      ]
     },
     "execution_count": 52,
     "metadata": {},
     "output_type": "execute_result"
    }
   ],
   "execution_count": 52
  },
  {
   "metadata": {},
   "cell_type": "markdown",
   "source": "## Teste Documentos de Escritura de Debentures",
   "id": "a1d29ea2ae64879c"
  },
  {
   "metadata": {
    "ExecuteTime": {
     "end_time": "2025-02-12T15:01:48.423489Z",
     "start_time": "2025-02-12T15:01:41.737194Z"
    }
   },
   "cell_type": "code",
   "source": [
    "FILE_PATH = \"../files/676706.txt\"\n",
    "result = invoke(EscrituraModel, FILE_PATH)\n",
    "result.model_dump_json()"
   ],
   "id": "697e9ffe050c0492",
   "outputs": [
    {
     "data": {
      "text/plain": [
       "'{\"emissora\":{\"cnpj\":\"00.864.214/0001-06\",\"nome\":\"ENERGISA S.A.\"},\"agente_fiduciario\":{\"cnpj\":\"17.343.682/0003-08\",\"nome\":\"PENTÁGONO S.A. DISTRIBUIDORA DE TÍTULOS E VALORES MOBILIÁRIOS\"},\"avalistas_fiadores\":[],\"coordenador_lider\":null,\"estruturador\":null,\"numero_aditamento\":0,\"tipo\":\"DEB\",\"numero_emissao\":\"11\",\"numero_serie\":[\"UNI\"],\"series\":[{\"numero_serie\":\"UNI\",\"classe_serie\":\"Senior\",\"lastro\":\"Debênture\",\"vlr_unitario_serie\":1000.0,\"qt_serie\":500000,\"vlr_serie\":500000000.0,\"remuneracao\":{\"indexador\":\"IPCA\",\"variacao\":100.0,\"taxa_adicional_spread\":0.5,\"periodo_taxa\":\"aa\"}}],\"garantias\":[],\"dt_emissao\":\"2019-04-15\",\"dt_vencimento\":\"2026-04-15\",\"numero_quorum_minimo_primeira_convocacao\":\"50% + 1\",\"numero_quorum_minimo_segunda_convocacao\":\"1/3\",\"vlr_unitario_emissao\":1000.0,\"qt_total_emissao\":500000,\"vlr_total_emissao\":500000000.0}'"
      ]
     },
     "execution_count": 53,
     "metadata": {},
     "output_type": "execute_result"
    }
   ],
   "execution_count": 53
  }
 ],
 "metadata": {
  "kernelspec": {
   "display_name": "Python 3",
   "language": "python",
   "name": "python3"
  },
  "language_info": {
   "codemirror_mode": {
    "name": "ipython",
    "version": 2
   },
   "file_extension": ".py",
   "mimetype": "text/x-python",
   "name": "python",
   "nbconvert_exporter": "python",
   "pygments_lexer": "ipython2",
   "version": "2.7.6"
  }
 },
 "nbformat": 4,
 "nbformat_minor": 5
}
