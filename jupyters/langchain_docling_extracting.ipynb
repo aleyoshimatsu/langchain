{
 "cells": [
  {
   "cell_type": "code",
   "id": "initial_id",
   "metadata": {
    "collapsed": true,
    "ExecuteTime": {
     "end_time": "2025-02-14T08:05:49.686754Z",
     "start_time": "2025-02-14T08:05:49.600164Z"
    }
   },
   "source": [
    "from langchain_core.output_parsers import PydanticOutputParser\n",
    "from langchain_core.runnables import RunnablePassthrough, RunnableParallel\n",
    "from langchain_core.prompts import ChatPromptTemplate\n",
    "from langchain_openai import AzureChatOpenAI\n",
    "from pydantic import BaseModel, Field, model_validator\n",
    "\n",
    "# deployment_name = \"gpt-4o-mini\"\n",
    "# embedding_model = \"gpt-4o-mini\"\n",
    "# openai_api_version=\"2024-07-18\"\n",
    "\n",
    "system_prompt = (\"\"\"\n",
    "Você é um assistente de IA que extrai dados de documentos.\n",
    "Você deve extrair informações específicas e retorná-las em um formato estruturado.\n",
    "\n",
    "INSTRUÇÕES CRÍTICAS:\n",
    "- EVITE DUPLICADOS: Nunca inclua itens duplicados em qualquer lista.\n",
    "- SEJA CONCISO: Mantenha cada item breve e direto ao ponto.\n",
    "- VALIDE: Cada informação deve estar explicitamente declarada no texto; não faça suposições.\n",
    "\n",
    "Por favor, extraia:\n",
    "- Liste as informações do Documento\n",
    "\n",
    "Texto do documento:\n",
    "{context}\n",
    "\n",
    "\"\"\"\n",
    ")\n",
    "\n",
    "prompt = ChatPromptTemplate.from_messages(\n",
    "    [\n",
    "        (\"system\", system_prompt),\n",
    "        (\"human\", \"{input}\"),\n",
    "    ]\n",
    ")\n",
    "\n",
    "# https://cog-openai-stage.openai.azure.com/openai/deployments/gpt-4o-mini/chat/completions?api-version=2024-08-01-preview\n",
    "llm = AzureChatOpenAI(azure_deployment=\"gpt-4o-mini\", api_version=\"2024-08-01-preview\", temperature=0.0)"
   ],
   "outputs": [],
   "execution_count": 33
  },
  {
   "metadata": {
    "ExecuteTime": {
     "end_time": "2025-02-14T13:45:24.285687Z",
     "start_time": "2025-02-14T13:45:24.269574Z"
    }
   },
   "cell_type": "code",
   "source": [
    "from enum import Enum\n",
    "from pydantic import BaseModel, Field, ValidationError, field_validator\n",
    "\n",
    "class GarantiaEnum(str, Enum):\n",
    "    \"\"\"Enumeração para tipos de garantia\"\"\"\n",
    "    AF_IMOVEL = \"Alienação Fiduciária Imóvel\"\n",
    "    AF_MAQ_EQ = \"Alienação Fiduciária Maq&Eq\"\n",
    "    PENHOR = \"Penhor\"\n",
    "    AF_QUOTAS = \"Alienação Fiduciária quotas\"\n",
    "    AVAL_PJ = \"Aval (PJ)\"\n",
    "    AVAL_PF = \"Aval (PF)\"\n",
    "    FIANCA_BANCARIA = \"Fiança Bancária\"\n",
    "    CF_RECEBIVEIS = \"CF Recebiveis\"\n",
    "    CF_CARTAO = \"CF Cartão\"\n",
    "    CF_DIVIDENDOS = \"CF Dividendos\"\n",
    "    CF = \"Cessão Fiduciária\"\n",
    "    SERIE_MEZ = \"Série Mez\"\n",
    "    SERIE_SUB = \"Série Sub\"\n",
    "    COOBRIGACAO = \"Coobrigação\"\n",
    "    FUNDO_RESERVA = \"Fundo de Reserva\"\n",
    "    FUNDO_DESPESAS = \"Fundo de Despesas\"\n",
    "    FUNDO_JUROS = \"Fundo de Juros\"\n",
    "    FUNDO_OBRAS = \"Fundo de Obras\"\n",
    "    OUTROS_FUNDOS = \"Outros Fundos\"\n",
    "    OUTRAS = \"Outras\"\n",
    "\n",
    "class GarantiaModel(BaseModel):\n",
    "    garantia: GarantiaEnum = Field(default=GarantiaEnum.OUTRAS)\n",
    "\n",
    "    @field_validator(\"garantia\", mode=\"before\")\n",
    "    @classmethod\n",
    "    def validate_garantia(cls, value):\n",
    "        # If the value is not valid, return the default value\n",
    "        if value not in GarantiaEnum.__members__.values():\n",
    "            return GarantiaEnum.OUTRAS\n",
    "        return value\n",
    "\n",
    "# Test cases\n",
    "try:\n",
    "    print(GarantiaModel(garantia=\"Penhor\"))  # Output: garantia='Penhor'\n",
    "except ValidationError as e:\n",
    "    print(e)\n",
    "\n",
    "try:\n",
    "    print(GarantiaModel(garantia=\"Invalid Value\"))  # Output: garantia='Outras' (default value)\n",
    "except ValidationError as e:\n",
    "    print(e)\n",
    "\n",
    "print(GarantiaModel())  # Output: garantia='Outras' (default value)\n"
   ],
   "id": "b90fbfb2fbe8cfc8",
   "outputs": [
    {
     "name": "stdout",
     "output_type": "stream",
     "text": [
      "garantia=<GarantiaEnum.PENHOR: 'Penhor'>\n",
      "garantia=<GarantiaEnum.OUTRAS: 'Outras'>\n",
      "garantia=<GarantiaEnum.OUTRAS: 'Outras'>\n"
     ]
    }
   ],
   "execution_count": 146
  },
  {
   "metadata": {
    "ExecuteTime": {
     "end_time": "2025-02-14T13:57:23.975212Z",
     "start_time": "2025-02-14T13:57:23.920700Z"
    }
   },
   "cell_type": "code",
   "source": [
    "from typing import List, Optional\n",
    "from datetime import datetime, date\n",
    "from enum import Enum\n",
    "from pydantic_core import core_schema\n",
    "\n",
    "class TipoEnum(str, Enum):\n",
    "    \"\"\"CERTIFICADOS DE RECEBIVEIS IMOBILIARIOS\"\"\"\n",
    "    CRI = 'CRI'\n",
    "    \"\"\"CERTIFICADOS DE RECEBIVEIS DO AGRONEGOCIO\"\"\"\n",
    "    CRA = 'CRA'\n",
    "    \"\"\"DEBENTURES\"\"\"\n",
    "    DEB = 'DEB'\n",
    "    \"\"\"CERTIFICADOS DE RECEBIVEIS\"\"\"\n",
    "    CR = 'CR'\n",
    "\n",
    "class RegiaoEnum(str, Enum):\n",
    "    \"\"\"Região Sul\"\"\"\n",
    "    S = 'S'\n",
    "    \"\"\"Região Sudeste\"\"\"\n",
    "    SE = 'SE'\n",
    "    \"\"\"Região Centro Oeste\"\"\"\n",
    "    CO = 'CO'\n",
    "    \"\"\"Região Nordeste\"\"\"\n",
    "    NE = 'NE'\n",
    "    \"\"\"Região Norte\"\"\"\n",
    "    N = 'N'\n",
    "\n",
    "class LocalidadeModel(BaseModel):\n",
    "    \"\"\"Localização da Parte\"\"\"\n",
    "    cidade: str = Field(description=\"Cidade da Parte\")\n",
    "    estado: str = Field(description=\"Estado da Parte\")\n",
    "    regiao: RegiaoEnum = Field(description=\"Região do estado da Parte\")\n",
    "\n",
    "class SecuritizadoraEmissoraModel(BaseModel):\n",
    "    \"\"\"Parte nomeadas e qualificadas como Securitizadora ou Emissora\"\"\"\n",
    "    cnpj: str = Field(description=\"Número do CNPJ da Securitizadora ou Emissora. Formatos permitidos: ##.###.###/####-##\")\n",
    "    nome: str = Field(description=\"Nome da empresa ou Razão Social da Securitizadora ou Emissora\")\n",
    "\n",
    "class AgenteFiduciarioModel(BaseModel):\n",
    "    \"\"\"Parte nomeadas e qualificadas como Agente Fiduciário\"\"\"\n",
    "    cnpj: str = Field(description=\"Número do CNPJ do Agente Fiduciário. Formatos permitidos: ##.###.###/####-##\")\n",
    "    nome: str = Field(description=\"Nome da empresa ou Razão Social do Agente Fiduciário\")\n",
    "\n",
    "class DevedoraModel(BaseModel):\n",
    "    \"\"\"Parte nomeadas e qualificadas como Devedores ou Devedoras\"\"\"\n",
    "    cpf_cnpj: str = Field(description=\"Número do CPF ou CNPJ do Devedor. Formatos permitidos: ##.###.###/####-## ou ###.###.###-##\")\n",
    "    nome: str = Field(description=\"Nome do Devedor\")\n",
    "    localidade: LocalidadeModel = Field(description=\"Localidade do Devedor\")\n",
    "\n",
    "class CedenteModel(BaseModel):\n",
    "    \"\"\"Parte nomeadas e qualificadas como Cedentes\"\"\"\n",
    "    cpf_cnpj: str = Field(description=\"Número do CPF ou CNPJ do Cedente. Formatos permitidos: ##.###.###/####-## ou ###.###.###-##\")\n",
    "    nome: str = Field(description=\"Nome do Cedente\")\n",
    "    localidade: LocalidadeModel = Field(description=\"Localidade do Devedor\")\n",
    "\n",
    "class AvalistaFiadorModel(BaseModel):\n",
    "    \"\"\"Parte nomeadas e qualificadas como Avalista ou Fiador\"\"\"\n",
    "    cpf_cnpj: str = Field(description=\"Número do CPF ou CNPJ do Avalista ou Fiador. Formatos permitidos: ##.###.###/####-## ou ###.###.###-##\")\n",
    "    nome: str = Field(description=\"Nome do Avalista ou Fiador\")\n",
    "    localidade: LocalidadeModel = Field(description=\"Localidade do Devedor\")\n",
    "\n",
    "class IndexadorEnum(str, Enum):\n",
    "    IPCA = 'IPCA'\n",
    "    DI = 'DI'\n",
    "    PRE = 'Pré'\n",
    "    INCC = 'INCC'\n",
    "    PTAX = 'PTAX'\n",
    "    IGPM = 'IGPM'\n",
    "    OUTROS = 'Outros'\n",
    "\n",
    "class PeriodoTaxaEnum(str, Enum):\n",
    "    \"\"\"Ao Ano\"\"\"\n",
    "    AA = 'aa'\n",
    "    \"\"\"Ao Mês\"\"\"\n",
    "    AM = 'am'\n",
    "\n",
    "class RemuneracaoModel(BaseModel):\n",
    "    \"\"\"Informações sobre a remuneração do Ativo\"\"\"\n",
    "    indexador: Optional[IndexadorEnum] = Field(description=\"Indexador da Remuneração do CRI ou CRA\")\n",
    "\n",
    "    variacao: float = Field(description=\"Variação percentual acumulada do indexador da Remuneração do CRI ou CRA em %\", examples=[100], default=100.0)\n",
    "\n",
    "    taxa_adicional_spread: Optional[float] = Field(description=\"Taxa Adicional pré fixada ou Spread acrescida na Remuneração do CRI ou CRA em %\", examples=[1.0, 5.5, 10.0])\n",
    "\n",
    "    periodo_taxa: Optional[PeriodoTaxaEnum] = Field(description=\"Periodo da Taxa Adicional da Remuneração do CRI ou CRA\")\n",
    "\n",
    "    @field_validator(\"indexador\", mode=\"before\")\n",
    "    @classmethod\n",
    "    def validate_indexador(cls, value):\n",
    "        # If the value is not valid, return the default value\n",
    "        if value not in IndexadorEnum.__members__.values():\n",
    "            return IndexadorEnum.OUTROS\n",
    "        return value\n",
    "\n",
    "class LastroEnum(str, Enum):\n",
    "    \"\"\"Cédula de Crédito Bancário\"\"\"\n",
    "    CCB = \"CCB\"\n",
    "    \"\"\"Certificado de Direitos Creditórios do Agronegócio\"\"\"\n",
    "    CDCA = \"CDCA\"\n",
    "    \"\"\"Compra e Venda\"\"\"\n",
    "    COMPRA_VENDA = \"COMPRA_VENDA\"\n",
    "    \"\"\"Cédula do Produto Rural\"\"\"\n",
    "    CPR_F = \"CPR-F\"\n",
    "    \"\"\"Debênture\"\"\"\n",
    "    DEBENTURE = \"Debênture\"\n",
    "    \"\"\"Duplicata\"\"\"\n",
    "    DUPLICATA = \"Duplicata\"\n",
    "    \"\"\"Financiamento Imobiliário\"\"\"\n",
    "    FINANCIAMENTO_IMOBILIARIO = \"Financiamento Imobiliário\"\n",
    "    \"\"\"Letra Financeira\"\"\"\n",
    "    LETRA_FINANCEIRA = \"Letra Financeira\"\n",
    "    \"\"\"Nota Comercial\"\"\"\n",
    "    NOTA_COMERCIAL = \"Nota Comercial\"\n",
    "    \"\"\"Nota Promissória\"\"\"\n",
    "    NOTA_PROMISSORIA = \"Nota Promissória\"\n",
    "    \"\"\"Outros Recebíveis\"\"\"\n",
    "    OUTROS_RECEBIVEIS = \"Outros Recebíveis\"\n",
    "    \"\"\"Pro Soluto\"\"\"\n",
    "    PRO_SOLUTO = \"Pro Soluto\"\n",
    "    \"\"\"Outros Lastros\"\"\"\n",
    "    OUTROS = \"Outros\"\n",
    "\n",
    "class ClasseSerieEnum(str, Enum):\n",
    "    \"\"\"Senior\"\"\"\n",
    "    SENIOR = \"Senior\"\n",
    "    \"\"\"Subordinada\"\"\"\n",
    "    SUBORDINADA = \"Subordinada\"\n",
    "\n",
    "class SerieModel(BaseModel):\n",
    "    \"\"\"Informações das Series\"\"\"\n",
    "    numero_serie: str = Field(description=\"Número da série em sua forma apenas numérica. Caso seja uma série única, retorne UNI.\",\n",
    "                              examples=['1', '2', '3', 'UNI'])\n",
    "\n",
    "    classe_serie: Optional[ClasseSerieEnum] = Field(description=\"Classe da série.\")\n",
    "\n",
    "    lastro: Optional[LastroEnum] = Field(description=\"Lastro da série\")\n",
    "\n",
    "    desc_lastro: Optional[str] = Field(description=\"Descrição do Lastro da série\")\n",
    "\n",
    "    vlr_unitario_serie: Optional[float] = Field(description=\"Valor Unitário da Série\")\n",
    "\n",
    "    qt_serie: Optional[int] = Field(description=\"Quantidade da Série\")\n",
    "\n",
    "    vlr_serie: Optional[float] = Field(description=\"Valor da Série\")\n",
    "\n",
    "    remuneracao: Optional[RemuneracaoModel] = Field(description=\"Remuneração da Série (CRI ou CRA)\")\n",
    "\n",
    "    @field_validator(\"lastro\", mode=\"before\")\n",
    "    @classmethod\n",
    "    def validate_lastro(cls, value):\n",
    "        # If the value is not valid, return the default value\n",
    "        if value not in LastroEnum.__members__.values():\n",
    "            return LastroEnum.OUTROS\n",
    "        return value\n",
    "\n",
    "class CoordenadorLiderModel(BaseModel):\n",
    "    \"\"\"Parte nomeadas e qualificadas como Coordenador Lider\"\"\"\n",
    "    cnpj: str = Field(description=\"Número do CNPJ do Coordenador Líder. Formatos permitidos: ##.###.###/####-##\")\n",
    "    nome: str = Field(description=\"Nome da empresa ou Razão Social do Coordenador Líder\")\n",
    "\n",
    "class EstruturadorModel(BaseModel):\n",
    "    \"\"\"Parte nomeadas e qualificadas como Estruturador\"\"\"\n",
    "    cnpj: str = Field(description=\"Número do CNPJ do Estruturador. Formatos permitidos: ##.###.###/####-##\")\n",
    "    nome: str = Field(description=\"Nome da empresa ou Razão Social do Estruturador\")\n",
    "\n",
    "class ResponsavelGarantiaModel(BaseModel):\n",
    "    \"\"\"Parte nomeadas e qualificadas como Responsável\"\"\"\n",
    "    cpf_cnpj: str = Field(description=\"Número do CPF ou CNPJ do Responsável da Garantia. Formatos permitidos: ##.###.###/####-## ou ###.###.###-##\")\n",
    "    nome: str = Field(description=\"Nome do Responsável da Garantia\")\n",
    "\n",
    "class GarantiaEnum(str, Enum):\n",
    "    \"\"\"Alienação Fiduciária Imóvel\"\"\"\n",
    "    AF_IMOVEL = \"Alienação Fiduciária Imóvel\"\n",
    "    \"\"\"Alienação Fiduciária Maq&Eq\"\"\"\n",
    "    AF_MAQ_EQ = \"Alienação Fiduciária Maq&Eq\"\n",
    "    \"\"\"Penhor\"\"\"\n",
    "    PENHOR = \"Penhor\"\n",
    "    \"\"\"Alienação Fiduciária quotas\"\"\"\n",
    "    AF_QUOTAS = \"Alienação Fiduciária quotas\"\n",
    "    \"Aval (PJ)\"\n",
    "    AVAL_PJ = \"Aval (PJ)\"\n",
    "    \"\"\"Aval (PF)\"\"\"\n",
    "    AVAL_PF = \"Aval (PF)\"\n",
    "    \"\"\"Fiança Bancária\"\"\"\n",
    "    FIANCA_BANCARIA = \"Fiança Bancária\"\n",
    "    \"\"\"Cessão Fiduciária Recebiveis\"\"\"\n",
    "    CF_RECEBIVEIS = \"CF Recebiveis\"\n",
    "    \"\"\"Cessão Fiduciária Cartão\"\"\"\n",
    "    CF_CARTAO = \"CF Cartão\"\n",
    "    \"\"\"Cessão Fiduciária Dividendos\"\"\"\n",
    "    CF_DIVIDENDOS = \"CF Dividendos\"\n",
    "    \"\"\"Cessão Fiduciária\"\"\"\n",
    "    CF = \"Cessão Fiduciária\"\n",
    "    \"\"\"Série Mez\"\"\"\n",
    "    SERIE_MEZ = \"Série Mez\"\n",
    "    \"\"\"Série Sub\"\"\"\n",
    "    SERIE_SUB = \"Série Sub\"\n",
    "    \"\"\"Coobrigação\"\"\"\n",
    "    COOBRIGACAO = \"Coobrigação\"\n",
    "    \"\"\"Fundo de Reserva\"\"\"\n",
    "    FUNDO_RESERVA = \"Fundo de Reserva\"\n",
    "    \"\"\"Fundo de Despesas\"\"\"\n",
    "    FUNDO_DESPESAS = \"Fundo de Despesas\"\n",
    "    \"\"\"Fundo de Juros\"\"\"\n",
    "    FUNDO_JUROS = \"Fundo de Juros\"\n",
    "    \"\"\"Fundo de Obras\"\"\"\n",
    "    FUNDO_OBRAS = \"Fundo de Obras\"\n",
    "    \"\"\"Outros Fundos\"\"\"\n",
    "    OUTROS_FUNDOS = \"Outros Fundos\"\n",
    "    \"\"\"Outras\"\"\"\n",
    "    OUTRAS = \"Outras\"\n",
    "\n",
    "class GarantiaModel(BaseModel):\n",
    "    \"\"\"Informações das Garantias\"\"\"\n",
    "    garantia: Optional[GarantiaEnum] = Field(description=\"Nome da Garantia\")\n",
    "\n",
    "    desc_garantia: Optional[str] = Field(description=\"Descrição da Garantia\")\n",
    "\n",
    "    responsavel: Optional[ResponsavelGarantiaModel] = Field(description=\"Responsavel da Garantia\")\n",
    "\n",
    "    @field_validator(\"garantia\", mode=\"before\")\n",
    "    @classmethod\n",
    "    def validate_garantia(cls, value):\n",
    "        # If the value is not valid, return the default value\n",
    "        if value not in GarantiaEnum.__members__.values():\n",
    "            return GarantiaEnum.OUTRAS\n",
    "        return value"
   ],
   "id": "2565a9468b6f47f4",
   "outputs": [],
   "execution_count": 153
  },
  {
   "metadata": {
    "ExecuteTime": {
     "end_time": "2025-02-14T13:57:27.938545Z",
     "start_time": "2025-02-14T13:57:27.928618Z"
    }
   },
   "cell_type": "code",
   "source": [
    "class AssembleiaModel(BaseModel):\n",
    "    \"\"\"Informações importantes da Assembleia\"\"\"\n",
    "    emissora: SecuritizadoraEmissoraModel = Field(description=\"Securitizadora ou Emissora\")\n",
    "\n",
    "    agente_fiduciario: Optional[AgenteFiduciarioModel] = Field(description=\"Agente Fiduciário\")\n",
    "\n",
    "    tipo: Optional[TipoEnum] = Field(description=\"Tipo da Emissão\")\n",
    "\n",
    "    numero_emissao: str = Field(description=\"Número da emissão em sua forma apenas numérica.\")\n",
    "\n",
    "    numero_serie: List[str] = Field(description=\"Lista Única de Séries da Emissão em sua forma apenas numérica. Caso seja uma série única, retorne UNI\")\n",
    "\n",
    "    dt_hr_assembleia: Optional[datetime] = Field(description=\"data e hora da assembleia\")\n",
    "\n",
    "    numero_convocacao: int = Field(description=\"número de convocação da assembleia nesta data\", default=1)\n",
    "\n",
    "    fl_assembleia_deliberada: Optional[bool] = Field(description=\"A assembleia teve a Ordem do Dia deliberada?\")\n",
    "\n",
    "    fl_assembleia_nao_instalada: Optional[bool] = Field(description=\"A assembleia não foi instalada?\")"
   ],
   "id": "9e3c549bf012718",
   "outputs": [],
   "execution_count": 154
  },
  {
   "metadata": {
    "ExecuteTime": {
     "end_time": "2025-02-14T13:57:28.850997Z",
     "start_time": "2025-02-14T13:57:28.834632Z"
    }
   },
   "cell_type": "code",
   "source": [
    "class TermoSecModel(BaseModel):\n",
    "    \"\"\"Informações importantes do Termo de Securitização\"\"\"\n",
    "    emissora: SecuritizadoraEmissoraModel = Field(description=\"Securitizadora ou Emissora\")\n",
    "\n",
    "    agente_fiduciario: Optional[AgenteFiduciarioModel] = Field(description=\"Agente Fiduciário\")\n",
    "\n",
    "    devedores: List[DevedoraModel] = Field(description=\"Lista Única de Devedores ou Devedoras\")\n",
    "\n",
    "    cedentes: List[CedenteModel] = Field(description=\"Lista Única de Cedentes\")\n",
    "\n",
    "    avalistas_fiadores: List[AvalistaFiadorModel] = Field(description=\"Lista Única de Avalistas ou Fiadores\")\n",
    "\n",
    "    coordenador_lider: Optional[CoordenadorLiderModel] = Field(description=\"Coordenador Lider\")\n",
    "\n",
    "    estruturador: Optional[EstruturadorModel] = Field(description=\"Estruturador\")\n",
    "\n",
    "    numero_aditamento: int = Field(description=\"Número do aditamento. Caso não seja um aditamento retorne 0\", default=0)\n",
    "\n",
    "    tipo: Optional[TipoEnum] = Field(description=\"Tipo da Emissão\")\n",
    "\n",
    "    numero_emissao: str = Field(description=\"Número da emissão em sua forma apenas numérica.\")\n",
    "\n",
    "    numero_serie: List[str] = Field(description=\"Lista Única de Séries da Emissão em sua forma apenas numérica. Caso seja uma série única, retorne UNI\")\n",
    "\n",
    "    series: List[SerieModel] = Field(description=\"Lista Única de Séries da Emissão. Garanta que todas as séries sejam declaradas.\")\n",
    "\n",
    "    garantias: List[GarantiaModel] = Field(description=\"Garantias da Emissão\")\n",
    "\n",
    "    dt_emissao: Optional[date] = Field(description=\"data da emissão\")\n",
    "\n",
    "    dt_vencimento: Optional[date] = Field(description=\"data do vencimento\")\n",
    "\n",
    "    numero_quorum_minimo_primeira_convocacao: Optional[str] = Field(description=\"Número quórum mínimo de instalação de assembleia em primeira convocação com a presença de Titulares ou Investidores em Circulação. Retorne o mais simples possível.\")\n",
    "\n",
    "    numero_quorum_minimo_segunda_convocacao: Optional[str] = Field(description=\"Número quórum mínimo de instalação de assembleia em segunda convocação com a presença de Titulares ou Investidores em Circulação. Retorne o mais simples possível.\")\n",
    "\n",
    "    vlr_unitario_emissao: Optional[float] = Field(description=\"Valor Unitário da Emissão ou da Oferta\")\n",
    "\n",
    "    qt_total_emissao: Optional[int] = Field(description=\"Quantidade Total da Emissão ou da Oferta\")\n",
    "\n",
    "    vlr_total_emissao: Optional[float] = Field(description=\"Valor Total da Emissão ou da Oferta\")"
   ],
   "id": "7794931e4b17c276",
   "outputs": [],
   "execution_count": 155
  },
  {
   "metadata": {
    "ExecuteTime": {
     "end_time": "2025-02-14T13:57:30.760190Z",
     "start_time": "2025-02-14T13:57:30.749562Z"
    }
   },
   "cell_type": "code",
   "source": [
    "class EscrituraModel(BaseModel):\n",
    "    \"\"\"Informações importantes da Escritura\"\"\"\n",
    "    emissora: SecuritizadoraEmissoraModel = Field(description=\"Securitizadora ou Emissora\")\n",
    "\n",
    "    agente_fiduciario: Optional[AgenteFiduciarioModel] = Field(description=\"Agente Fiduciário\")\n",
    "\n",
    "    avalistas_fiadores: List[AvalistaFiadorModel] = Field(description=\"Lista Única de Avalistas ou Fiadores\")\n",
    "\n",
    "    coordenador_lider: Optional[CoordenadorLiderModel] = Field(description=\"Coordenador Lider\")\n",
    "\n",
    "    estruturador: Optional[EstruturadorModel] = Field(description=\"Estruturador\")\n",
    "\n",
    "    numero_aditamento: int = Field(description=\"Número do aditamento. Caso não seja um aditamento retorne 0\", default=0)\n",
    "\n",
    "    tipo: Optional[TipoEnum] = Field(description=\"Tipo da Emissão\")\n",
    "\n",
    "    numero_emissao: str = Field(description=\"Número da emissão em sua forma apenas numérica.\")\n",
    "\n",
    "    numero_serie: List[str] = Field(description=\"Lista Única de Séries da Emissão em sua forma apenas numérica. Caso seja uma série única, retorne UNI\")\n",
    "\n",
    "    series: List[SerieModel] = Field(description=\"Lista Única de Séries da Emissão\")\n",
    "\n",
    "    garantias: List[GarantiaModel] = Field(description=\"Garantias da Emissão\")\n",
    "\n",
    "    dt_emissao: Optional[date] = Field(description=\"data da emissão\")\n",
    "\n",
    "    dt_vencimento: Optional[date] = Field(description=\"data do vencimento\")\n",
    "\n",
    "    numero_quorum_minimo_primeira_convocacao: Optional[str] = Field(description=\"Número quórum mínimo de instalação de assembleia em primeira convocação com a presença de Titulares ou Investidores em Circulação. Retorne o mais simples possível.\")\n",
    "\n",
    "    numero_quorum_minimo_segunda_convocacao: Optional[str] = Field(description=\"Número quórum mínimo de instalação de assembleia em segunda convocação com a presença de Titulares ou Investidores em Circulação. Retorne o mais simples possível.\")\n",
    "\n",
    "    vlr_unitario_emissao: Optional[float] = Field(description=\"Valor Unitário da Emissão ou da Oferta\")\n",
    "\n",
    "    qt_total_emissao: Optional[int] = Field(description=\"Quantidade Total da Emissão ou da Oferta\")\n",
    "\n",
    "    vlr_total_emissao: Optional[float] = Field(description=\"Valor Total da Emissão ou da Oferta\")"
   ],
   "id": "e8b5ddbb766904fc",
   "outputs": [],
   "execution_count": 156
  },
  {
   "metadata": {
    "ExecuteTime": {
     "end_time": "2025-02-14T13:57:32.150399Z",
     "start_time": "2025-02-14T13:57:32.147681Z"
    }
   },
   "cell_type": "code",
   "source": [
    "def format_docs(file_path):\n",
    "    f = open(file_path,\"r\")\n",
    "    return f.read()"
   ],
   "id": "e91fe39df33fe042",
   "outputs": [],
   "execution_count": 157
  },
  {
   "metadata": {
    "ExecuteTime": {
     "end_time": "2025-02-14T13:57:32.961241Z",
     "start_time": "2025-02-14T13:57:32.958209Z"
    }
   },
   "cell_type": "code",
   "source": [
    "def invoke(model, file_path):\n",
    "    llm_with_schema = llm.bind_tools([model])\n",
    "    # llm_with_schema = llm.with_structured_output(model)\n",
    "\n",
    "    chain = prompt | llm_with_schema\n",
    "\n",
    "    result_llm = chain.invoke({\"context\": format_docs(file_path), \"input\": \"Extraia as informações\"})\n",
    "    pydantic_object = model.model_validate(result_llm.tool_calls[0][\"args\"])\n",
    "    return pydantic_object"
   ],
   "id": "49e9dfb981f9f963",
   "outputs": [],
   "execution_count": 158
  },
  {
   "metadata": {
    "ExecuteTime": {
     "end_time": "2025-02-14T13:50:18.095515Z",
     "start_time": "2025-02-14T13:50:14.665295Z"
    }
   },
   "cell_type": "code",
   "source": [
    "# FILE_PATH = '../files/BRPVSCCRI3Y2-ASS31012025V01-000829323.txt'\n",
    "FILE_PATH = '../files/BRASTECRI0C3-ASS04022025V01-000830908.txt'\n",
    "# FILE_PATH = '../files/23A1772203-ASS04022025V01-000831063.txt'\n",
    "result = invoke(AssembleiaModel, FILE_PATH)\n",
    "result.model_dump_json()"
   ],
   "id": "c90fe2ae89add817",
   "outputs": [
    {
     "data": {
      "text/plain": [
       "'{\"emissora\":{\"cnpj\":\"10.608.405/0001-60\",\"nome\":\"Bari Securitizadora S.A.\"},\"agente_fiduciario\":{\"cnpj\":\"22.610.500/001-88\",\"nome\":\"Vórtx Distribuidora de Títulos e Valores Mobiliários LTDA.\"},\"tipo\":\"CRI\",\"numero_emissao\":\"1\",\"numero_serie\":[\"70\"],\"dt_hr_assembleia\":\"2025-02-04T14:00:00\",\"numero_convocacao\":1,\"fl_assembleia_deliberada\":false,\"fl_assembleia_nao_instalada\":true}'"
      ]
     },
     "execution_count": 151,
     "metadata": {},
     "output_type": "execute_result"
    }
   ],
   "execution_count": 151
  },
  {
   "metadata": {},
   "cell_type": "markdown",
   "source": "## Teste Documentos de Termo de Securitização",
   "id": "6ee38368c035dedc"
  },
  {
   "metadata": {
    "ExecuteTime": {
     "end_time": "2025-02-14T14:03:02.591679Z",
     "start_time": "2025-02-14T14:02:53.399217Z"
    }
   },
   "cell_type": "code",
   "source": [
    "# FILE_PATH = '../files/831141.txt'\n",
    "# FILE_PATH = '../files/24F1234491-TDS07062024V01-000675608.txt'\n",
    "# FILE_PATH = '../files/797444.txt'\n",
    "FILE_PATH = '../files/018759000101010.txt'\n",
    "# FILE_PATH = '../files/819915.txt'\n",
    "# FILE_PATH = '../files/CRA02400DL4-TDS17122024V01-000803501.txt'\n",
    "\n",
    "result = invoke(TermoSecModel, FILE_PATH)\n",
    "result.model_dump_json()"
   ],
   "id": "5e6557d55548ef9",
   "outputs": [
    {
     "data": {
      "text/plain": [
       "'{\"emissora\":{\"cnpj\":\"03.767.538/0001-14\",\"nome\":\"BRAZILIAN SECURITIES COMPANHIA DE SECURITIZAÇÃO\"},\"agente_fiduciario\":{\"cnpj\":\"36.113.876/0001-91\",\"nome\":\"OLIVEIRA TRUST DISTRIBUIDORA DE TÍTULOS E VALORES MOBILIÁRIOS S.A.\"},\"devedores\":[{\"cpf_cnpj\":\"12.098.466/0001-50\",\"nome\":\"JAY PARTICIPAÇÕES IMOBILIÁRIAS LTDA.\",\"localidade\":{\"cidade\":\"Florianópolis\",\"estado\":\"SC\",\"regiao\":\"S\"}}],\"cedentes\":[{\"cpf_cnpj\":\"08.117.803/0001-32\",\"nome\":\"CFL - PARTICIPAÇÕES E INCORPORAÇÕES LTDA.\",\"localidade\":{\"cidade\":\"Porto Alegre\",\"estado\":\"RS\",\"regiao\":\"S\"}}],\"avalistas_fiadores\":[],\"coordenador_lider\":null,\"estruturador\":null,\"numero_aditamento\":0,\"tipo\":\"CRI\",\"numero_emissao\":\"1\",\"numero_serie\":[\"333\",\"334\"],\"series\":[{\"numero_serie\":\"333\",\"classe_serie\":\"Senior\",\"lastro\":\"Outros\",\"desc_lastro\":\"Cédulas de Crédito Imobiliário\",\"vlr_unitario_serie\":10376011.44,\"qt_serie\":1,\"vlr_serie\":10376011.44,\"remuneracao\":{\"indexador\":\"IGPM\",\"variacao\":100.0,\"taxa_adicional_spread\":12.6825,\"periodo_taxa\":\"aa\"}},{\"numero_serie\":\"334\",\"classe_serie\":\"Subordinada\",\"lastro\":\"Outros\",\"desc_lastro\":\"Cédulas de Crédito Imobiliário\",\"vlr_unitario_serie\":2594002.86,\"qt_serie\":1,\"vlr_serie\":2594002.86,\"remuneracao\":{\"indexador\":\"IGPM\",\"variacao\":100.0,\"taxa_adicional_spread\":12.6825,\"periodo_taxa\":\"aa\"}}],\"garantias\":[{\"garantia\":\"Outras\",\"desc_garantia\":\"O patrimônio constituído pela Securitizadora, que são destacados do patrimônio da Securitizadora, destinando-se exclusivamente à liquidação dos CRI.\",\"responsavel\":{\"cpf_cnpj\":\"03.767.538/0001-14\",\"nome\":\"BRAZILIAN SECURITIES COMPANHIA DE SECURITIZAÇÃO\"}},{\"garantia\":\"Fundo de Reserva\",\"desc_garantia\":\"Fundo constituído para pagamento das despesas do Patrimônio Separado e dos CRI.\",\"responsavel\":{\"cpf_cnpj\":\"03.767.538/0001-14\",\"nome\":\"BRAZILIAN SECURITIES COMPANHIA DE SECURITIZAÇÃO\"}},{\"garantia\":\"Alienação Fiduciária Imóvel\",\"desc_garantia\":\"Alienação fiduciária das Unidades, constituída em garantia dos Créditos Imobiliários, nos termos dos Contratos de Compra e Venda.\",\"responsavel\":{\"cpf_cnpj\":\"12.098.466/0001-50\",\"nome\":\"JAY PARTICIPAÇÕES IMOBILIÁRIAS LTDA.\"}}],\"dt_emissao\":\"2013-10-30\",\"dt_vencimento\":null,\"numero_quorum_minimo_primeira_convocacao\":\"50%\",\"numero_quorum_minimo_segunda_convocacao\":\"Qualquer número\",\"vlr_unitario_emissao\":10376011.44,\"qt_total_emissao\":1,\"vlr_total_emissao\":12970014.3}'"
      ]
     },
     "execution_count": 161,
     "metadata": {},
     "output_type": "execute_result"
    }
   ],
   "execution_count": 161
  },
  {
   "metadata": {},
   "cell_type": "markdown",
   "source": "## Teste Documentos de Escritura de Debentures",
   "id": "a1d29ea2ae64879c"
  },
  {
   "metadata": {
    "ExecuteTime": {
     "end_time": "2025-02-12T15:01:48.423489Z",
     "start_time": "2025-02-12T15:01:41.737194Z"
    }
   },
   "cell_type": "code",
   "source": [
    "FILE_PATH = \"../files/676706.txt\"\n",
    "result = invoke(EscrituraModel, FILE_PATH)\n",
    "result.model_dump_json()"
   ],
   "id": "697e9ffe050c0492",
   "outputs": [
    {
     "data": {
      "text/plain": [
       "'{\"emissora\":{\"cnpj\":\"00.864.214/0001-06\",\"nome\":\"ENERGISA S.A.\"},\"agente_fiduciario\":{\"cnpj\":\"17.343.682/0003-08\",\"nome\":\"PENTÁGONO S.A. DISTRIBUIDORA DE TÍTULOS E VALORES MOBILIÁRIOS\"},\"avalistas_fiadores\":[],\"coordenador_lider\":null,\"estruturador\":null,\"numero_aditamento\":0,\"tipo\":\"DEB\",\"numero_emissao\":\"11\",\"numero_serie\":[\"UNI\"],\"series\":[{\"numero_serie\":\"UNI\",\"classe_serie\":\"Senior\",\"lastro\":\"Debênture\",\"vlr_unitario_serie\":1000.0,\"qt_serie\":500000,\"vlr_serie\":500000000.0,\"remuneracao\":{\"indexador\":\"IPCA\",\"variacao\":100.0,\"taxa_adicional_spread\":0.5,\"periodo_taxa\":\"aa\"}}],\"garantias\":[],\"dt_emissao\":\"2019-04-15\",\"dt_vencimento\":\"2026-04-15\",\"numero_quorum_minimo_primeira_convocacao\":\"50% + 1\",\"numero_quorum_minimo_segunda_convocacao\":\"1/3\",\"vlr_unitario_emissao\":1000.0,\"qt_total_emissao\":500000,\"vlr_total_emissao\":500000000.0}'"
      ]
     },
     "execution_count": 53,
     "metadata": {},
     "output_type": "execute_result"
    }
   ],
   "execution_count": 53
  }
 ],
 "metadata": {
  "kernelspec": {
   "display_name": "Python 3",
   "language": "python",
   "name": "python3"
  },
  "language_info": {
   "codemirror_mode": {
    "name": "ipython",
    "version": 2
   },
   "file_extension": ".py",
   "mimetype": "text/x-python",
   "name": "python",
   "nbconvert_exporter": "python",
   "pygments_lexer": "ipython2",
   "version": "2.7.6"
  }
 },
 "nbformat": 4,
 "nbformat_minor": 5
}
