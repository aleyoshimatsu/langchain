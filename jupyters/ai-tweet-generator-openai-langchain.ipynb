{
 "cells": [
  {
   "metadata": {
    "ExecuteTime": {
     "end_time": "2024-09-18T18:54:00.737570Z",
     "start_time": "2024-09-18T18:53:57.058471Z"
    }
   },
   "cell_type": "code",
   "source": "!pip install wikipedia",
   "id": "b3a8e14733aa8f23",
   "outputs": [
    {
     "name": "stdout",
     "output_type": "stream",
     "text": [
      "Requirement already satisfied: wikipedia in /home/alexandre_pantalena/desenvolvimento/repos/data-pipelines/airflow/airflow_venv/lib/python3.9/site-packages (1.4.0)\r\n",
      "Requirement already satisfied: beautifulsoup4 in /home/alexandre_pantalena/desenvolvimento/repos/data-pipelines/airflow/airflow_venv/lib/python3.9/site-packages (from wikipedia) (4.11.1)\r\n",
      "Requirement already satisfied: requests<3.0.0,>=2.0.0 in /home/alexandre_pantalena/desenvolvimento/repos/data-pipelines/airflow/airflow_venv/lib/python3.9/site-packages (from wikipedia) (2.32.3)\r\n",
      "Requirement already satisfied: charset-normalizer<4,>=2 in /home/alexandre_pantalena/desenvolvimento/repos/data-pipelines/airflow/airflow_venv/lib/python3.9/site-packages (from requests<3.0.0,>=2.0.0->wikipedia) (3.3.2)\r\n",
      "Requirement already satisfied: idna<4,>=2.5 in /home/alexandre_pantalena/desenvolvimento/repos/data-pipelines/airflow/airflow_venv/lib/python3.9/site-packages (from requests<3.0.0,>=2.0.0->wikipedia) (3.4)\r\n",
      "Requirement already satisfied: urllib3<3,>=1.21.1 in /home/alexandre_pantalena/desenvolvimento/repos/data-pipelines/airflow/airflow_venv/lib/python3.9/site-packages (from requests<3.0.0,>=2.0.0->wikipedia) (2.2.2)\r\n",
      "Requirement already satisfied: certifi>=2017.4.17 in /home/alexandre_pantalena/desenvolvimento/repos/data-pipelines/airflow/airflow_venv/lib/python3.9/site-packages (from requests<3.0.0,>=2.0.0->wikipedia) (2024.8.30)\r\n",
      "Requirement already satisfied: soupsieve>1.2 in /home/alexandre_pantalena/desenvolvimento/repos/data-pipelines/airflow/airflow_venv/lib/python3.9/site-packages (from beautifulsoup4->wikipedia) (2.3.2.post1)\r\n"
     ]
    }
   ],
   "execution_count": 67
  },
  {
   "metadata": {
    "ExecuteTime": {
     "end_time": "2024-09-18T18:58:17.554162Z",
     "start_time": "2024-09-18T18:58:17.551969Z"
    }
   },
   "cell_type": "code",
   "source": "topic = \"RadixDLT\"",
   "id": "d268b09b244c9c64",
   "outputs": [],
   "execution_count": 80
  },
  {
   "metadata": {
    "ExecuteTime": {
     "end_time": "2024-09-18T18:54:00.863658Z",
     "start_time": "2024-09-18T18:54:00.788549Z"
    }
   },
   "cell_type": "code",
   "source": [
    "from langchain_openai import AzureChatOpenAI\n",
    "\n",
    "deployment_name = \"leitura_documento_gpt4o\"\n",
    "openai_api_version=\"2023-05-15\"\n",
    "model = \"gpt-4o\"\n",
    "temperature = 0.9\n",
    "\n",
    "llm = AzureChatOpenAI(azure_deployment=deployment_name, openai_api_version=openai_api_version, temperature=temperature)"
   ],
   "id": "ac9f49a80d4d34ab",
   "outputs": [],
   "execution_count": 69
  },
  {
   "metadata": {
    "ExecuteTime": {
     "end_time": "2024-09-18T18:54:04.428838Z",
     "start_time": "2024-09-18T18:54:00.874371Z"
    }
   },
   "cell_type": "code",
   "source": [
    "from langchain_community.retrievers import WikipediaRetriever\n",
    "\n",
    "wiki_retriever = WikipediaRetriever(load_max_docs=3)\n",
    "\n",
    "docs = wiki_retriever.invoke(topic)\n",
    "docs"
   ],
   "id": "803cf8e4dcc3a18e",
   "outputs": [
    {
     "data": {
      "text/plain": [
       "[Document(page_content='Bitcoin (abbreviation: BTC; sign: ₿) is the first decentralized cryptocurrency. Nodes in the peer-to-peer bitcoin network verify transactions through cryptography and record them in a public distributed ledger, called a blockchain, without central oversight. Consensus between nodes is achieved using a computationally intensive process based on proof of work, called mining, that guarantees the security of the bitcoin blockchain. Mining consumes large quantities of electricity and has been criticized for its environmental impact.\\nBased on a free market ideology, bitcoin was invented in 2008 by Satoshi Nakamoto, an unknown person. Use of bitcoin as a currency began in 2009, with the release of its open-source implementation.:\\u200ach. 1\\u200a In 2021, El Salvador adopted it as legal tender. Bitcoin is currently used more as a store of value and less as a medium of exchange or unit of account. It is mostly seen as an investment and has been described by many scholars as an economic bubble. As bitcoin is pseudonymous, its use by criminals has attracted the attention of regulators, leading to its ban by several countries as of 2021.\\n\\n\\n== History ==\\n\\n\\n=== Background ===\\nBefore bitcoin, several digital cash technologies were released, starting with David Chaum\\'s ecash in the 1980s. The idea that solutions to computational puzzles could have some value was first proposed by cryptographers Cynthia Dwork and Moni Naor in 1992. The concept was independently rediscovered by Adam Back who developed Hashcash, a proof-of-work scheme for spam control in 1997. The first proposals for distributed digital scarcity-based cryptocurrencies came from cypherpunks Wei Dai (b-money) and Nick Szabo (bit gold) in 1998. In 2004, Hal Finney developed the first currency based on reusable proof of work. These various attempts were not successful: Chaum\\'s concept required centralized control and no banks wanted to sign on, Hashcash had no protection against double-spending, while b-money and bit gold were not resistant to Sybil attacks.\\n\\n\\n=== 2008–2009: Creation ===\\n\\nThe domain name bitcoin.org was registered on 18 August 2008. On 31 October 2008, a link to a white paper authored by Satoshi Nakamoto titled Bitcoin: A Peer-to-Peer Electronic Cash System was posted to a cryptography mailing list. Nakamoto implemented the bitcoin software as open-source code and released it in January 2009. Nakamoto\\'s identity remains unknown. All individual components of bitcoin originated in earlier academic literature. Nakamoto\\'s innovation was their complex interplay resulting in the first decentralized, Sybil resistant, Byzantine fault tolerant digital cash system, that would eventually be referred to as the first blockchain. Nakamoto\\'s paper was not peer reviewed and was initially ignored by academics, who argued that it could not work.\\nOn 3 January 2009, the bitcoin network was created when Nakamoto mined the starting block of the chain, known as the genesis block. Embedded in this block was the text \"The Times 03/Jan/2009 Chancellor on brink of second bailout for banks\", which is the date and headline of an issue of The Times newspaper. Nine days later, Hal Finney received the first bitcoin transaction: ten bitcoins from Nakamoto. Wei Dai and Nick Szabo were also early supporters. On May 22, 2010, the first known commercial transaction using bitcoin occurred when programmer Laszlo Hanyecz bought two Papa John\\'s pizzas for ₿10,000, in what would later be celebrated as \"Bitcoin Pizza Day\".\\n\\n\\n=== 2010–2012: Early growth ===\\nBlockchain analysts estimate that Nakamoto had mined about one million bitcoins before disappearing in 2010 when he handed the network alert key and control of the code repository over to Gavin Andresen. Andresen later became lead developer at the Bitcoin Foundation, an organization founded in September 2012 to promote bitcoin.\\nAfter early \"proof-of-concept\" transactions, the first major users of bitcoin were black markets, such as the dark web Silk Road. During it', metadata={'title': 'Bitcoin', 'summary': 'Bitcoin (abbreviation: BTC; sign: ₿) is the first decentralized cryptocurrency. Nodes in the peer-to-peer bitcoin network verify transactions through cryptography and record them in a public distributed ledger, called a blockchain, without central oversight. Consensus between nodes is achieved using a computationally intensive process based on proof of work, called mining, that guarantees the security of the bitcoin blockchain. Mining consumes large quantities of electricity and has been criticized for its environmental impact.\\nBased on a free market ideology, bitcoin was invented in 2008 by Satoshi Nakamoto, an unknown person. Use of bitcoin as a currency began in 2009, with the release of its open-source implementation.:\\u200ach. 1\\u200a In 2021, El Salvador adopted it as legal tender. Bitcoin is currently used more as a store of value and less as a medium of exchange or unit of account. It is mostly seen as an investment and has been described by many scholars as an economic bubble. As bitcoin is pseudonymous, its use by criminals has attracted the attention of regulators, leading to its ban by several countries as of 2021.', 'source': 'https://en.wikipedia.org/wiki/Bitcoin'}),\n",
       " Document(page_content='Bitcoin is a cryptocurrency, a digital asset that uses cryptography to control its creation and management rather than relying on central authorities. Originally designed as a medium of exchange, Bitcoin is now primarily regarded as a store of value. The history of bitcoin started with its invention and implementation by Satoshi Nakamoto, who integrated many existing ideas from the cryptography community. Over the course of bitcoin\\'s history, it has undergone rapid growth to become a significant store of value both on- and offline. From the mid-2010s, some businesses began accepting bitcoin in addition to traditional currencies.\\n\\n\\n== Background ==\\nPrior to the release of bitcoin, there were a number of digital cash technologies, starting with the issuer-based ecash protocols of David Chaum and Stefan Brands. The idea that solutions to computational puzzles could have some value was first proposed by cryptographers Cynthia Dwork and Moni Naor in 1992. The idea was independently rediscovered by Adam Back who developed hashcash, a proof-of-work scheme for spam control in 1997. The first proposals for distributed digital scarcity-based cryptocurrencies were Wei Dai\\'s b-money and Nick Szabo\\'s bit gold. Hal Finney developed reusable proof of work (RPOW) using hashcash as its proof of work algorithm.\\nIn the bit gold proposal which proposed a collectible market-based mechanism for inflation control, Nick Szabo also investigated some additional aspects including a Byzantine fault-tolerant agreement protocol based on quorum addresses to store and transfer the chained proof-of-work solutions, which was vulnerable to Sybil attacks, though.\\n\\n\\n== Creation ==\\nOn the 18th of August 2008, the domain name bitcoin.org was registered. Later that year, on 31 October, a link to a paper authored by Satoshi Nakamoto titled Bitcoin: A Peer-to-Peer Electronic Cash System was posted to a cryptography mailing list. This paper detailed methods of using a peer-to-peer network to generate what was described as \"a system for electronic transactions without relying on trust\". On 3 January 2009, the bitcoin network came into existence with Satoshi Nakamoto mining the genesis block of bitcoin (block number 0), which had a reward of 50 bitcoins. Embedded in the genesis block was the text:\\n\\nThe Times 03/Jan/2009 Chancellor on brink of second bailout for banks\\nThe text refers to a headline in The Times published on 3 January 2009. This note has been interpreted as both a timestamp of the genesis date and a derisive comment on the instability caused by fractional-reserve banking.:\\u200a18\\u200a\\nThe first open source bitcoin client was released on 9 January 2009, hosted at SourceForge.\\nOne of the first supporters, adopters, contributors to bitcoin and receiver of the first bitcoin transaction was programmer Hal Finney. Finney downloaded the bitcoin software the day it was released, and received 10 bitcoins from Nakamoto in the world\\'s first bitcoin transaction on 12 January 2009 (bloc 170). Other early supporters were Wei Dai, creator of bitcoin predecessor b-money, and Nick Szabo, creator of bitcoin predecessor bit gold.\\nIn the early days, Nakamoto is estimated to have mined 1 million bitcoins. Before disappearing from any involvement in bitcoin, Nakamoto in a sense handed over the reins to developer Gavin Andresen, who then became the bitcoin lead developer at the Bitcoin Foundation, the \\'anarchic\\' bitcoin community\\'s closest thing to an official public face.\\n\\n\\n=== Satoshi Nakamoto ===\\n\\n\"Satoshi Nakamoto\" is presumed to be a pseudonym for the person or people who designed the original bitcoin protocol in 2008 and launched the network in 2009. Nakamoto was responsible for creating the majority of the official bitcoin software and was active in making modifications and posting technical information on the bitcoin forum. There has been much speculation as to the identity of Satoshi Nakamoto with suspects including Dai, Szabo, and Finney –  and accompanying denials. The possibi', metadata={'title': 'History of bitcoin', 'summary': \"Bitcoin is a cryptocurrency, a digital asset that uses cryptography to control its creation and management rather than relying on central authorities. Originally designed as a medium of exchange, Bitcoin is now primarily regarded as a store of value. The history of bitcoin started with its invention and implementation by Satoshi Nakamoto, who integrated many existing ideas from the cryptography community. Over the course of bitcoin's history, it has undergone rapid growth to become a significant store of value both on- and offline. From the mid-2010s, some businesses began accepting bitcoin in addition to traditional currencies.\", 'source': 'https://en.wikipedia.org/wiki/History_of_bitcoin'}),\n",
       " Document(page_content='The Bitcoin protocol is the set of rules that govern the functioning of Bitcoin. Its key components and principles are: a peer-to-peer decentralized network with no central oversight; the blockchain technology, a public ledger that records all Bitcoin transactions; mining and proof of work, the process to create new bitcoins and verify transactions; and cryptographic security.\\nUsers broadcast cryptographically signed messages to the network using Bitcoin cryptocurrency wallet software. These messages are proposed transactions, changes to be made in the ledger. Each node has a copy of the ledger\\'s entire transaction history. If a transaction violates the rules of the Bitcoin protocol, it is ignored, as transactions only occur when the entire network reaches a consensus that they should take place. This \"full network consensus\" is achieved when each node on the network verifies the results of a proof-of-work operation called mining. Mining packages groups of transactions into blocks, and produces a hash code that follows the rules of the Bitcoin protocol. Creating this hash requires expensive energy, but a network node can verify the hash is valid using very little energy. If a miner proposes a block to the network, and its hash is valid, the block and its ledger changes are added to the blockchain, and the network moves on to yet unprocessed transactions. In case there is a dispute, then the longest chain is considered to be correct. A new block is created every 10 minutes, on average.\\nChanges to the Bitcoin protocol require consensus among the network participants. The Bitcoin protocol has inspired the creation of numerous other digital currencies and blockchain-based technologies, making it a foundational technology in the field of cryptocurrencies.\\n\\n\\n== Blockchain ==\\n\\nBlockchain technology is a decentralized and secure digital ledger that records transactions across a network of computers. It ensures transparency, immutability, and tamper resistance, making data manipulation difficult. Blockchain is the underlying technology for cryptocurrencies like Bitcoin and has applications beyond finance, such as supply chain management and smart contracts.\\n\\n\\n=== Transactions ===\\n\\nThe network requires minimal structure to share transactions.  An ad hoc decentralized network of volunteers is sufficient. Messages are broadcast on a best-effort basis, and nodes can leave and rejoin the network at will. Upon reconnection, a node downloads and verifies new blocks from other nodes to complete its local copy of the blockchain.\\n\\n\\n== Mining ==\\n\\nBitcoin uses a proof-of-work system or  a proof-or-transaction to form a distributed timestamp server as a peer-to-peer network. This work is often called bitcoin mining. During mining, practically all of the computing power of the Bitcoin network is used to solve cryptographic tasks, which is proof of work. Their purpose is to ensure that the generation of valid blocks involves a certain amount of effort so that subsequent modification of the blockchain, such as in the 51% attack scenario, can be practically ruled out. Because of the difficulty, miners form \"mining pools\" to get payouts despite these high power requirements, costly hardware deployments, and hardware under control. As a result of the Chinese ban on Bitcoin mining in 2021, the United States currently holds the largest share of Bitcoin mining pools.\\nRequiring a proof of work to accept a new block to the blockchain was Satoshi Nakamoto\\'s key innovation. The mining process involves identifying a block that, when hashed twice with SHA-256, yields a number smaller than the given difficulty target. While the average work required increases in inverse proportion to the difficulty target, a hash can always be verified by executing a single round of double SHA-256.\\nFor the bitcoin timestamp network, a valid proof of work is found by incrementing a nonce until a value is found that gives the block\\'s hash the required number of leading zero bits. On', metadata={'title': 'Bitcoin protocol', 'summary': 'The Bitcoin protocol is the set of rules that govern the functioning of Bitcoin. Its key components and principles are: a peer-to-peer decentralized network with no central oversight; the blockchain technology, a public ledger that records all Bitcoin transactions; mining and proof of work, the process to create new bitcoins and verify transactions; and cryptographic security.\\nUsers broadcast cryptographically signed messages to the network using Bitcoin cryptocurrency wallet software. These messages are proposed transactions, changes to be made in the ledger. Each node has a copy of the ledger\\'s entire transaction history. If a transaction violates the rules of the Bitcoin protocol, it is ignored, as transactions only occur when the entire network reaches a consensus that they should take place. This \"full network consensus\" is achieved when each node on the network verifies the results of a proof-of-work operation called mining. Mining packages groups of transactions into blocks, and produces a hash code that follows the rules of the Bitcoin protocol. Creating this hash requires expensive energy, but a network node can verify the hash is valid using very little energy. If a miner proposes a block to the network, and its hash is valid, the block and its ledger changes are added to the blockchain, and the network moves on to yet unprocessed transactions. In case there is a dispute, then the longest chain is considered to be correct. A new block is created every 10 minutes, on average.\\nChanges to the Bitcoin protocol require consensus among the network participants. The Bitcoin protocol has inspired the creation of numerous other digital currencies and blockchain-based technologies, making it a foundational technology in the field of cryptocurrencies.\\n\\n', 'source': 'https://en.wikipedia.org/wiki/Bitcoin_protocol'})]"
      ]
     },
     "execution_count": 70,
     "metadata": {},
     "output_type": "execute_result"
    }
   ],
   "execution_count": 70
  },
  {
   "metadata": {
    "ExecuteTime": {
     "end_time": "2024-09-18T18:54:04.500445Z",
     "start_time": "2024-09-18T18:54:04.496454Z"
    }
   },
   "cell_type": "code",
   "source": [
    "from langchain_core.output_parsers import StrOutputParser\n",
    "from langchain_core.prompts import ChatPromptTemplate, PromptTemplate\n",
    "from langchain_core.runnables import RunnablePassthrough\n",
    "\n",
    "prompt = ChatPromptTemplate.from_template(\n",
    "    \"\"\"\n",
    "    Answer the question based only on the context provided.\n",
    "    Context: {context}\n",
    "    Question: {question}\n",
    "    \"\"\"\n",
    ")\n",
    "\n",
    "\n",
    "def format_docs(docs):\n",
    "    return \"\\n\\n\".join(doc.page_content for doc in docs)\n",
    "\n",
    "\n",
    "chain_wiki = (\n",
    "    {\"context\": wiki_retriever | format_docs, \"question\": RunnablePassthrough()}\n",
    "    | prompt\n",
    "    | llm\n",
    "    | StrOutputParser()\n",
    ")"
   ],
   "id": "70d32bf26ae2288c",
   "outputs": [],
   "execution_count": 71
  },
  {
   "metadata": {
    "ExecuteTime": {
     "end_time": "2024-09-18T18:54:09.134768Z",
     "start_time": "2024-09-18T18:54:04.549423Z"
    }
   },
   "cell_type": "code",
   "source": [
    "chain_wiki.invoke(\n",
    "    \"Who created BTC and when?\"\n",
    ")"
   ],
   "id": "c08b3402b9c2137b",
   "outputs": [
    {
     "data": {
      "text/plain": [
       "'Bitcoin (BTC) was invented in 2008 by Satoshi Nakamoto, an unknown person.'"
      ]
     },
     "execution_count": 72,
     "metadata": {},
     "output_type": "execute_result"
    }
   ],
   "execution_count": 72
  },
  {
   "metadata": {
    "ExecuteTime": {
     "end_time": "2024-09-18T18:54:09.151978Z",
     "start_time": "2024-09-18T18:54:09.149134Z"
    }
   },
   "cell_type": "code",
   "source": [
    "# template for the title\n",
    "title_template = PromptTemplate(\n",
    "    input_variables = ['topic'], \n",
    "    template='write me a tweet about {topic}'\n",
    ")\n",
    "\n",
    "# template for the tweet\n",
    "tweet_template = PromptTemplate(\n",
    "    input_variables = ['title', 'wikipedia_research'], \n",
    "    template='write me a tweet on this title TITLE: {title} while leveraging this wikipedia reserch:{wikipedia_research} '\n",
    ")"
   ],
   "id": "a0e3c8cf429d4342",
   "outputs": [],
   "execution_count": 73
  },
  {
   "metadata": {
    "ExecuteTime": {
     "end_time": "2024-09-18T18:56:35.923114Z",
     "start_time": "2024-09-18T18:56:34.417131Z"
    }
   },
   "cell_type": "code",
   "source": [
    "title_chain = (\n",
    "    title_template\n",
    "    | llm\n",
    "    | StrOutputParser()\n",
    ")\n",
    "\n",
    "title = title_chain.invoke(topic)\n",
    "title"
   ],
   "id": "7688123b3668b708",
   "outputs": [
    {
     "data": {
      "text/plain": [
       "'🚀 Bitcoin is more than just digital currency; it’s a revolution in finance! 🌍💡 Empowering individuals, decentralizing economies, and offering financial freedom. 💸✨ #Bitcoin #Crypto #Blockchain'"
      ]
     },
     "execution_count": 76,
     "metadata": {},
     "output_type": "execute_result"
    }
   ],
   "execution_count": 76
  },
  {
   "metadata": {
    "ExecuteTime": {
     "end_time": "2024-09-18T18:58:32.358141Z",
     "start_time": "2024-09-18T18:58:29.171080Z"
    }
   },
   "cell_type": "code",
   "source": [
    "tweet_chain = (\n",
    "    {\"title\": title_chain, \"wikipedia_research\": wiki_retriever | format_docs}\n",
    "    | tweet_template\n",
    "    | llm\n",
    "    | StrOutputParser()\n",
    ")\n",
    "\n",
    "tweet = tweet_chain.invoke(topic)\n",
    "tweet"
   ],
   "id": "ce651e1b43c457f2",
   "outputs": [
    {
     "data": {
      "text/plain": [
       "'🚀 Exciting times ahead with #RadixDLT! 🌐 Innovating #DeFi with unparalleled scalability, security, and seamless decentralized finance solutions. Say goodbye to blockchain bottlenecks and hello to limitless possibilities, powered by cutting-edge tech like reversible cellular automata! 🔗 #Crypto #Blockchain #Fintech #Innovation 🚀'"
      ]
     },
     "execution_count": 81,
     "metadata": {},
     "output_type": "execute_result"
    }
   ],
   "execution_count": 81
  }
 ],
 "metadata": {
  "kernelspec": {
   "display_name": "Python 3",
   "language": "python",
   "name": "python3"
  },
  "language_info": {
   "codemirror_mode": {
    "name": "ipython",
    "version": 2
   },
   "file_extension": ".py",
   "mimetype": "text/x-python",
   "name": "python",
   "nbconvert_exporter": "python",
   "pygments_lexer": "ipython2",
   "version": "2.7.6"
  }
 },
 "nbformat": 4,
 "nbformat_minor": 5
}
