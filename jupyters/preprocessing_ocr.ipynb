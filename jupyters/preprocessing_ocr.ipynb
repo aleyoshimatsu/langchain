{
 "cells": [
  {
   "cell_type": "code",
   "id": "initial_id",
   "metadata": {
    "collapsed": true,
    "ExecuteTime": {
     "end_time": "2024-10-27T14:47:45.065888Z",
     "start_time": "2024-10-27T14:47:44.507573Z"
    }
   },
   "source": [
    "import numpy as np\n",
    "import os\n",
    "import cv2\n",
    "import glob\n",
    "import shutil\n",
    "import pytesseract\n",
    "import re\n",
    "import time\n",
    "import argparse\n",
    "from statistics import mode"
   ],
   "outputs": [],
   "execution_count": 1
  },
  {
   "metadata": {
    "ExecuteTime": {
     "end_time": "2024-10-27T15:01:18.586240Z",
     "start_time": "2024-10-27T15:01:18.582615Z"
    }
   },
   "cell_type": "code",
   "source": [
    "regex = r\"P\\d{17}\"\n",
    "found = {}\n",
    "results = {}\n",
    "queue = []\n",
    "done = []\n",
    "missing = []\n",
    "pnr_area = [0, 0, 2000, 1500]  # [start_x, start_y, end_x, end_y]\n",
    "\n",
    "input_dir = \"./static/input\"\n",
    "output_dir = \"./static/output\""
   ],
   "id": "39154da6ca9e3a7b",
   "outputs": [],
   "execution_count": 21
  },
  {
   "metadata": {
    "ExecuteTime": {
     "end_time": "2024-10-27T14:48:07.340746Z",
     "start_time": "2024-10-27T14:48:07.337808Z"
    }
   },
   "cell_type": "code",
   "source": [
    "# =============================================================================== #\n",
    "#    To-do list                                                                   #\n",
    "# =============================================================================== #\n",
    "# 0. Provision Number                                                             #\n",
    "# =============================================================================== #\n",
    "\n",
    "\n",
    "# =============================================================================== #\n",
    "#    Threshold Methods                                                            #\n",
    "# =============================================================================== #\n",
    "# 1. Binary-Otsu w/ Gaussian Blur (kernel size = 9)                               #\n",
    "# 2. Binary-Otsu w/ Gaussian Blur (kernel size = 7)                               #\n",
    "# 3. Binary-Otsu w/ Gaussian Blur (kernel size = 5)                               #\n",
    "# 4. Binary-Otsu w/ Median Blur (kernel size = 5)                                 #\n",
    "# 5. Binary-Otsu w/ Median Blur (kernel size = 3)                                 #\n",
    "# 6. Adaptive Gaussian Threshold (31,2) w/ Gaussian Blur (kernel size = 5)        #\n",
    "# 7. Adaptive Gaussian Threshold (31,2) w/ Median Blur (kernel size = 5)          #\n",
    "# =============================================================================== #"
   ],
   "id": "1281bde3611656b5",
   "outputs": [],
   "execution_count": 3
  },
  {
   "metadata": {
    "ExecuteTime": {
     "end_time": "2024-10-27T15:01:24.856732Z",
     "start_time": "2024-10-27T15:01:24.851300Z"
    }
   },
   "cell_type": "code",
   "source": [
    "def apply_threshold(img, argument):\n",
    "    switcher = {\n",
    "        1: cv2.threshold(cv2.GaussianBlur(img, (9, 9), 0), 0, 255, cv2.THRESH_BINARY + cv2.THRESH_OTSU)[1],\n",
    "        2: cv2.threshold(cv2.GaussianBlur(img, (7, 7), 0), 0, 255, cv2.THRESH_BINARY + cv2.THRESH_OTSU)[1],\n",
    "        3: cv2.threshold(cv2.GaussianBlur(img, (5, 5), 0), 0, 255, cv2.THRESH_BINARY + cv2.THRESH_OTSU)[1],\n",
    "        4: cv2.threshold(cv2.medianBlur(img, 5), 0, 255, cv2.THRESH_BINARY + cv2.THRESH_OTSU)[1],\n",
    "        5: cv2.threshold(cv2.medianBlur(img, 3), 0, 255, cv2.THRESH_BINARY + cv2.THRESH_OTSU)[1],\n",
    "        6: cv2.adaptiveThreshold(cv2.GaussianBlur(img, (5, 5), 0), 255, cv2.ADAPTIVE_THRESH_GAUSSIAN_C, cv2.THRESH_BINARY, 31, 2),\n",
    "        7: cv2.adaptiveThreshold(cv2.medianBlur(img, 3), 255, cv2.ADAPTIVE_THRESH_GAUSSIAN_C, cv2.THRESH_BINARY, 31, 2),\n",
    "    }\n",
    "    return switcher.get(argument, \"Invalid method\")"
   ],
   "id": "9787d8bf73e5aa63",
   "outputs": [],
   "execution_count": 22
  },
  {
   "metadata": {
    "ExecuteTime": {
     "end_time": "2024-10-27T15:01:26.538312Z",
     "start_time": "2024-10-27T15:01:26.535549Z"
    }
   },
   "cell_type": "code",
   "source": [
    "def crop_image(img, start_x, start_y, end_x, end_y):\n",
    "    cropped = img[start_y:end_y, start_x:end_x]\n",
    "    return cropped"
   ],
   "id": "230c869a0f7bd898",
   "outputs": [],
   "execution_count": 23
  },
  {
   "metadata": {
    "ExecuteTime": {
     "end_time": "2024-10-27T15:01:28.006891Z",
     "start_time": "2024-10-27T15:01:28.001591Z"
    }
   },
   "cell_type": "code",
   "source": [
    "def get_string(img_path, method):\n",
    "    # Read image using opencv\n",
    "    img = cv2.imread(img_path)\n",
    "    file_name = os.path.basename(img_path).split('.')[0]\n",
    "    file_name = file_name.split()[0]\n",
    "\n",
    "    output_path = os.path.join(output_dir, file_name)\n",
    "    if not os.path.exists(output_path):\n",
    "        os.makedirs(output_path)\n",
    "\n",
    "    # Crop the areas where provision number is more likely present\n",
    "    img = crop_image(img, pnr_area[0], pnr_area[1], pnr_area[2], pnr_area[3])\n",
    "    # img = cv2.resize(img, None, fx=1.2, fy=1.2, interpolation=cv2.INTER_CUBIC)\n",
    "\n",
    "    # Convert to gray\n",
    "    img = cv2.cvtColor(img, cv2.COLOR_BGR2GRAY)\n",
    "\n",
    "    # Apply dilation and erosion to remove some noise\n",
    "    kernel = np.ones((1, 1), np.uint8)\n",
    "    img = cv2.dilate(img, kernel, iterations=1)\n",
    "    img = cv2.erode(img, kernel, iterations=1)\n",
    "\n",
    "    #  Apply threshold to get image with only black and white\n",
    "    img = apply_threshold(img, method)\n",
    "    save_path = os.path.join(output_path, file_name + \"_filter_\" + str(method) + \".jpg\")\n",
    "    cv2.imwrite(save_path, img)\n",
    "\n",
    "    # Recognize text with tesseract for python\n",
    "    result = pytesseract.image_to_string(img, lang=\"eng\")\n",
    "\n",
    "    return result"
   ],
   "id": "dc4723a3b4ffa674",
   "outputs": [],
   "execution_count": 24
  },
  {
   "metadata": {
    "ExecuteTime": {
     "end_time": "2024-10-27T15:01:29.738011Z",
     "start_time": "2024-10-27T15:01:29.734768Z"
    }
   },
   "cell_type": "code",
   "source": [
    "def find_match(regex, text):\n",
    "    matches = re.finditer(regex, text, re.MULTILINE)\n",
    "    target = \"\"\n",
    "    for matchNum, match in enumerate(matches):\n",
    "        matchNum = matchNum + 1\n",
    "\n",
    "        print(\"  Match {matchNum} was found at {start}-{end}: {match}\".format(matchNum=matchNum, start=match.start(),\n",
    "                                                                            end=match.end(), match=match.group()))\n",
    "        target = match.group()\n",
    "\n",
    "    return target"
   ],
   "id": "c1dfe21b2baf0670",
   "outputs": [],
   "execution_count": 25
  },
  {
   "metadata": {
    "ExecuteTime": {
     "end_time": "2024-10-27T15:01:31.011955Z",
     "start_time": "2024-10-27T15:01:31.007953Z"
    }
   },
   "cell_type": "code",
   "source": [
    "def pretty_print(result_dict):\n",
    "    s = ''\n",
    "    for key in result_dict:\n",
    "        s += '# ' + key + ': ' + result_dict[key] + '\\n'\n",
    "    return s\n"
   ],
   "id": "ea7927e26637af3e",
   "outputs": [],
   "execution_count": 26
  },
  {
   "metadata": {
    "ExecuteTime": {
     "end_time": "2024-10-27T15:01:38.943216Z",
     "start_time": "2024-10-27T15:01:32.254599Z"
    }
   },
   "cell_type": "code",
   "source": [
    "if os.path.exists(output_dir):\n",
    "    shutil.rmtree(output_dir)\n",
    "os.makedirs(output_dir)\n",
    "\n",
    "im_names = glob.glob(os.path.join(input_dir, '*.png')) + \\\n",
    "           glob.glob(os.path.join(input_dir, '*.jpg')) + \\\n",
    "           glob.glob(os.path.join(input_dir, '*.jpeg'))\n",
    "\n",
    "overall_start_t = time.time()\n",
    "\n",
    "for im_name in sorted(im_names):\n",
    "    queue.append(im_name)\n",
    "    \n",
    "print(\"The following files will be processed and their provision numbers will be extracted: {}\\n\".format(queue))\n",
    "\n",
    "for im_name in im_names:\n",
    "    start_time = time.time()\n",
    "    print(\"*** The documents that are in the queue *** \\n{}\\n\".format(queue))\n",
    "\n",
    "    print('#=======================================================')\n",
    "    print(('# Regex is being applied on {:s}'.format(im_name)))\n",
    "    print('#=======================================================')\n",
    "    queue.remove(im_name)\n",
    "    file_name = im_name.split(\".\")[0].split(\"/\")[-1]\n",
    "\n",
    "    i = 1\n",
    "    while i < 8:\n",
    "        print(\"> The filter method \" + str(i) + \" is now being applied.\")\n",
    "        result = get_string(im_name, i)\n",
    "        match = find_match(regex, result)\n",
    "        if match:\n",
    "            if file_name in found:\n",
    "                found[file_name].append(match)\n",
    "            else:\n",
    "                list = []\n",
    "                list.append(match)\n",
    "                found[file_name] = list\n",
    "\n",
    "        f = open(os.path.join(output_dir, file_name, file_name + \"_filter_\" + str(i) + \".txt\"), 'w')\n",
    "        f.write(result)\n",
    "        f.close()\n",
    "        i += 1\n",
    "\n",
    "    pnr = ''\n",
    "    if file_name in found:\n",
    "        pnr = mode(found[file_name])\n",
    "        results[file_name] = pnr\n",
    "        done.append(file_name)\n",
    "    else:\n",
    "        missing.append(file_name)\n",
    "    end_time = time.time()\n",
    "\n",
    "    print('#=======================================================\\n'\n",
    "          '# Results for: ' + file_name + '\\n' \n",
    "          '#=======================================================\\n' \n",
    "          '# The provision number: ' + pnr + '\\n'\n",
    "          '# It took ' + str(end_time-start_time) + ' seconds.     \\n'\n",
    "          '#=======================================================\\n')\n",
    "\n",
    "overall_end_t = time.time()\n",
    "\n",
    "print('#=======================================================\\n'\n",
    "      '# Summary \\n'\n",
    "      '#=======================================================\\n'\n",
    "      '# The documents that are successfully processed are: \\n' + pretty_print(results) +\n",
    "      '#=======================================================\\n'\n",
    "      '# The program failed to extract information from: \\n' \n",
    "      '# ' + str(missing) + '\\n'\n",
    "      '#=======================================================\\n'\n",
    "      '# It took ' + str(overall_end_t-overall_start_t) + ' seconds.\\n'\n",
    "      '#=======================================================\\n')"
   ],
   "id": "9d3215779836e39a",
   "outputs": [
    {
     "name": "stdout",
     "output_type": "stream",
     "text": [
      "The following files will be processed and their provision numbers will be extracted: ['./static/input/118498.png']\n",
      "\n",
      "*** The documents that are in the queue *** \n",
      "['./static/input/118498.png']\n",
      "\n",
      "#=======================================================\n",
      "# Regex is being applied on ./static/input/118498.png\n",
      "#=======================================================\n",
      "> The filter method 1 is now being applied.\n",
      "> The filter method 2 is now being applied.\n",
      "> The filter method 3 is now being applied.\n",
      "> The filter method 4 is now being applied.\n",
      "> The filter method 5 is now being applied.\n",
      "> The filter method 6 is now being applied.\n",
      "> The filter method 7 is now being applied.\n",
      "#=======================================================\n",
      "# Results for: \n",
      "#=======================================================\n",
      "# The provision number: \n",
      "# It took 6.67608904838562 seconds.     \n",
      "#=======================================================\n",
      "\n",
      "#=======================================================\n",
      "# Summary \n",
      "#=======================================================\n",
      "# The documents that are successfully processed are: \n",
      "#=======================================================\n",
      "# The program failed to extract information from: \n",
      "# ['']\n",
      "#=======================================================\n",
      "# It took 6.676855564117432 seconds.\n",
      "#=======================================================\n",
      "\n"
     ]
    }
   ],
   "execution_count": 27
  }
 ],
 "metadata": {
  "kernelspec": {
   "display_name": "Python 3",
   "language": "python",
   "name": "python3"
  },
  "language_info": {
   "codemirror_mode": {
    "name": "ipython",
    "version": 2
   },
   "file_extension": ".py",
   "mimetype": "text/x-python",
   "name": "python",
   "nbconvert_exporter": "python",
   "pygments_lexer": "ipython2",
   "version": "2.7.6"
  }
 },
 "nbformat": 4,
 "nbformat_minor": 5
}
