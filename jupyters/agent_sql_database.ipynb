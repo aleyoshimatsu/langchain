{
 "cells": [
  {
   "cell_type": "code",
   "id": "initial_id",
   "metadata": {
    "collapsed": true,
    "ExecuteTime": {
     "end_time": "2024-10-24T02:24:26.113232Z",
     "start_time": "2024-10-24T02:24:20.877657Z"
    }
   },
   "source": [
    "!pip install --upgrade --quiet  langchain-community\n",
    "!pip install --upgrade --quiet langchainhub langgraph\n",
    "!pip install -qU langchain-openai"
   ],
   "outputs": [],
   "execution_count": 26
  },
  {
   "metadata": {
    "ExecuteTime": {
     "end_time": "2024-10-24T13:11:50.881373Z",
     "start_time": "2024-10-24T13:11:50.851311Z"
    }
   },
   "cell_type": "code",
   "source": [
    "from dotenv import load_dotenv, find_dotenv\n",
    "\n",
    "load_dotenv(find_dotenv())"
   ],
   "id": "aa6ab6019f2f9c3b",
   "outputs": [
    {
     "data": {
      "text/plain": [
       "True"
      ]
     },
     "execution_count": 1,
     "metadata": {},
     "output_type": "execute_result"
    }
   ],
   "execution_count": 1
  },
  {
   "metadata": {
    "ExecuteTime": {
     "end_time": "2024-10-24T13:12:00.600181Z",
     "start_time": "2024-10-24T13:11:55.259135Z"
    }
   },
   "cell_type": "code",
   "source": [
    "import sqlite3\n",
    "import os\n",
    "import requests\n",
    "from langchain_community.utilities.sql_database import SQLDatabase\n",
    "from sqlalchemy import create_engine\n",
    "from sqlalchemy.pool import StaticPool\n",
    "\n",
    "def build_connection_string():\n",
    "    \"\"\"Build the connection string\"\"\"\n",
    "    try:\n",
    "        protocol = os.getenv(\"DB_PROTOCOL\")\n",
    "        user = os.getenv(\"DB_USER\")\n",
    "        password = os.getenv(\"DB_PASSWORD\")\n",
    "        host = os.getenv(\"DB_HOST\")\n",
    "        port = os.getenv(\"DB_PORT\")\n",
    "        database = os.getenv(\"DB_DATABASE\")\n",
    "        schema = os.getenv(\"DB_SCHEMA\")\n",
    "        driver = os.getenv(\"DB_DRIVER\")\n",
    "\n",
    "        conn_string = f\"{protocol}://{user}:{password}@{host}:{port}/{database}?options=-c%20search_path={schema}\"\n",
    "        if driver:\n",
    "            conn_string += f\"?driver={driver}\"\n",
    "        return conn_string\n",
    "    except Exception as exc:\n",
    "        raise exc\n",
    "\n",
    "def create_postgres_engine():\n",
    "    \"\"\"Creates the db engine according to env runtime\"\"\"\n",
    "    conn_string = build_connection_string()\n",
    "    engine = create_engine(conn_string, connect_args={\"keepalives_idle\": 30})\n",
    "    return engine\n",
    "\n",
    "def get_engine_for_chinook_db():\n",
    "    \"\"\"Pull sql file, populate in-memory database, and create engine.\"\"\"\n",
    "    url = \"https://raw.githubusercontent.com/lerocha/chinook-database/master/ChinookDatabase/DataSources/Chinook_Sqlite.sql\"\n",
    "    response = requests.get(url)\n",
    "    sql_script = response.text\n",
    "\n",
    "    connection = sqlite3.connect(\":memory:\", check_same_thread=False)\n",
    "    connection.executescript(sql_script)\n",
    "    return create_engine(\n",
    "        \"sqlite://\",\n",
    "        creator=lambda: connection,\n",
    "        poolclass=StaticPool,\n",
    "        connect_args={\"check_same_thread\": False},\n",
    "    )\n",
    "\n",
    "engine_postgres = create_postgres_engine()\n",
    "engine = get_engine_for_chinook_db()\n",
    "\n",
    "db = SQLDatabase(engine_postgres)"
   ],
   "id": "150fab992ea06708",
   "outputs": [],
   "execution_count": 2
  },
  {
   "metadata": {
    "ExecuteTime": {
     "end_time": "2024-10-24T13:12:05.852565Z",
     "start_time": "2024-10-24T13:12:04.162743Z"
    }
   },
   "cell_type": "code",
   "source": [
    "from langchain_openai import AzureChatOpenAI\n",
    "import os\n",
    "\n",
    "llm = AzureChatOpenAI(\n",
    "    azure_endpoint=os.environ[\"AZURE_OPENAI_ENDPOINT\"],\n",
    "    azure_deployment=os.environ[\"AZURE_OPENAI_DEPLOYMENT_NAME\"],\n",
    "    openai_api_version=os.environ[\"AZURE_OPENAI_API_VERSION\"],\n",
    ")"
   ],
   "id": "276b21699126f0ba",
   "outputs": [],
   "execution_count": 3
  },
  {
   "metadata": {
    "ExecuteTime": {
     "end_time": "2024-10-24T13:12:08.361808Z",
     "start_time": "2024-10-24T13:12:08.333014Z"
    }
   },
   "cell_type": "code",
   "source": [
    "from langchain_community.agent_toolkits.sql.toolkit import SQLDatabaseToolkit\n",
    "\n",
    "toolkit = SQLDatabaseToolkit(db=db, llm=llm)"
   ],
   "id": "b57fc01d9e3fcbf0",
   "outputs": [],
   "execution_count": 4
  },
  {
   "metadata": {
    "ExecuteTime": {
     "end_time": "2024-10-24T13:12:11.231135Z",
     "start_time": "2024-10-24T13:12:10.844002Z"
    }
   },
   "cell_type": "code",
   "source": "toolkit.get_tools()",
   "id": "fa9833c9ff4d4c00",
   "outputs": [
    {
     "data": {
      "text/plain": [
       "[QuerySQLDataBaseTool(description=\"Input to this tool is a detailed and correct SQL query, output is a result from the database. If the query is not correct, an error message will be returned. If an error is returned, rewrite the query, check the query, and try again. If you encounter an issue with Unknown column 'xxxx' in 'field list', use sql_db_schema to query the correct table fields.\", db=<langchain_community.utilities.sql_database.SQLDatabase object at 0x7a0efabb9e20>),\n",
       " InfoSQLDatabaseTool(description='Input to this tool is a comma-separated list of tables, output is the schema and sample rows for those tables. Be sure that the tables actually exist by calling sql_db_list_tables first! Example Input: table1, table2, table3', db=<langchain_community.utilities.sql_database.SQLDatabase object at 0x7a0efabb9e20>),\n",
       " ListSQLDatabaseTool(db=<langchain_community.utilities.sql_database.SQLDatabase object at 0x7a0efabb9e20>),\n",
       " QuerySQLCheckerTool(description='Use this tool to double check if your query is correct before executing it. Always use this tool before executing a query with sql_db_query!', db=<langchain_community.utilities.sql_database.SQLDatabase object at 0x7a0efabb9e20>, llm=AzureChatOpenAI(client=<openai.resources.chat.completions.Completions object at 0x7a0ee2bcafa0>, async_client=<openai.resources.chat.completions.AsyncCompletions object at 0x7a0ee2bce1f0>, root_client=<openai.lib.azure.AzureOpenAI object at 0x7a0f0099f1f0>, root_async_client=<openai.lib.azure.AsyncAzureOpenAI object at 0x7a0ee2c2e0a0>, model_kwargs={}, openai_api_key=SecretStr('**********'), disabled_params={'parallel_tool_calls': None}, azure_endpoint='https://cog-openai-stage.openai.azure.com', deployment_name='leitura_documento_gpt4o', openai_api_version='2023-05-15', openai_api_type='azure'), llm_chain=LLMChain(verbose=False, prompt=PromptTemplate(input_variables=['dialect', 'query'], input_types={}, partial_variables={}, template='\\n{query}\\nDouble check the {dialect} query above for common mistakes, including:\\n- Using NOT IN with NULL values\\n- Using UNION when UNION ALL should have been used\\n- Using BETWEEN for exclusive ranges\\n- Data type mismatch in predicates\\n- Properly quoting identifiers\\n- Using the correct number of arguments for functions\\n- Casting to the correct data type\\n- Using the proper columns for joins\\n\\nIf there are any of the above mistakes, rewrite the query. If there are no mistakes, just reproduce the original query.\\n\\nOutput the final SQL query only.\\n\\nSQL Query: '), llm=AzureChatOpenAI(client=<openai.resources.chat.completions.Completions object at 0x7a0ee2bcafa0>, async_client=<openai.resources.chat.completions.AsyncCompletions object at 0x7a0ee2bce1f0>, root_client=<openai.lib.azure.AzureOpenAI object at 0x7a0f0099f1f0>, root_async_client=<openai.lib.azure.AsyncAzureOpenAI object at 0x7a0ee2c2e0a0>, model_kwargs={}, openai_api_key=SecretStr('**********'), disabled_params={'parallel_tool_calls': None}, azure_endpoint='https://cog-openai-stage.openai.azure.com', deployment_name='leitura_documento_gpt4o', openai_api_version='2023-05-15', openai_api_type='azure'), output_parser=StrOutputParser(), llm_kwargs={}))]"
      ]
     },
     "execution_count": 5,
     "metadata": {},
     "output_type": "execute_result"
    }
   ],
   "execution_count": 5
  },
  {
   "metadata": {
    "ExecuteTime": {
     "end_time": "2024-10-24T13:12:15.533442Z",
     "start_time": "2024-10-24T13:12:14.868701Z"
    }
   },
   "cell_type": "code",
   "source": [
    "from langchain import hub\n",
    "\n",
    "prompt_template = hub.pull(\"langchain-ai/sql-agent-system-prompt\")\n",
    "\n",
    "assert len(prompt_template.messages) == 1\n",
    "print(prompt_template.input_variables)"
   ],
   "id": "4dcfa52eebcfc8a4",
   "outputs": [
    {
     "name": "stdout",
     "output_type": "stream",
     "text": [
      "['dialect', 'top_k']\n"
     ]
    }
   ],
   "execution_count": 6
  },
  {
   "metadata": {
    "ExecuteTime": {
     "end_time": "2024-10-24T13:12:17.608182Z",
     "start_time": "2024-10-24T13:12:17.603840Z"
    }
   },
   "cell_type": "code",
   "source": "system_message = prompt_template.format(dialect=\"SQLite\", top_k=5)",
   "id": "cf3ad7054d05548e",
   "outputs": [],
   "execution_count": 7
  },
  {
   "metadata": {
    "ExecuteTime": {
     "end_time": "2024-10-24T13:12:20.542348Z",
     "start_time": "2024-10-24T13:12:20.370192Z"
    }
   },
   "cell_type": "code",
   "source": [
    "from langgraph.prebuilt import create_react_agent\n",
    "\n",
    "agent_executor = create_react_agent(\n",
    "    llm, toolkit.get_tools(), state_modifier=system_message\n",
    ")"
   ],
   "id": "1622c043e8d896eb",
   "outputs": [],
   "execution_count": 8
  },
  {
   "metadata": {
    "ExecuteTime": {
     "end_time": "2024-10-24T13:12:33.572058Z",
     "start_time": "2024-10-24T13:12:25.260118Z"
    }
   },
   "cell_type": "code",
   "source": [
    "# example_query = \"\"\"Por padrão todas as tabelas do banco de dados iniciam com o nome do schema. \n",
    "# As tabelas do galaxia possuem em seu nome o termo 'glx'. \n",
    "# \n",
    "# Desta forma, quantas series nós temos cadastrados no banco de dados, utilize apenas o schema 'tru' na sua análise?\n",
    "# \"\"\"\n",
    "\n",
    "example_query = \"\"\"Por padrão todas as tabelas do banco de dados iniciam com o nome do schema. \n",
    "As tabelas do galaxia possuem em seu nome o termo 'glx'. \n",
    "\n",
    "Desta forma, qual as 5 séries, que ainda estão em andamento, com o vencimento mais distante, utilize apenas o schema 'tru' na sua análise. \n",
    "Descarte de sua análise registros que não estão preenchidos.\n",
    "Retorne apenas o código if e a data de vencimento delas, nada a mais.  \n",
    "\"\"\"\n",
    "\n",
    "events = agent_executor.stream(\n",
    "    {\"messages\": [(\"user\", example_query)]},\n",
    "    stream_mode=\"values\",\n",
    ")\n",
    "for event in events:\n",
    "    event[\"messages\"][-1].pretty_print()"
   ],
   "id": "cc74898b1961014",
   "outputs": [
    {
     "name": "stdout",
     "output_type": "stream",
     "text": [
      "================================\u001B[1m Human Message \u001B[0m=================================\n",
      "\n",
      "Por padrão todas as tabelas do banco de dados iniciam com o nome do schema. \n",
      "As tabelas do galaxia possuem em seu nome o termo 'glx'. \n",
      "\n",
      "Desta forma, qual as 5 séries, que ainda estão em andamento, com o vencimento mais distante, utilize apenas o schema 'tru' na sua análise. \n",
      "Descarte de sua análise registros que não estão preenchidos.\n",
      "Retorne apenas o código if e a data de vencimento delas, nada a mais.  \n",
      "\n",
      "==================================\u001B[1m Ai Message \u001B[0m==================================\n",
      "Tool Calls:\n",
      "  sql_db_list_tables (call_DsVznUqd0Dn3QgSHJYK3RN1W)\n",
      " Call ID: call_DsVznUqd0Dn3QgSHJYK3RN1W\n",
      "  Args:\n",
      "=================================\u001B[1m Tool Message \u001B[0m=================================\n",
      "Name: sql_db_list_tables\n",
      "\n",
      "rfd_ativos_status_cvm, rfd_tb_agentes_fiduciarios, rfd_tb_assembleia, rfd_tb_ativos_thor, rfd_tb_auditoria_carteira_xp, rfd_tb_cnab_categoria_lancamento, rfd_tb_cnab_forma_lancamento, rfd_tb_cnab_instrucao_movimento, rfd_tb_cnab_natureza_lancamento, rfd_tb_cnab_ocorrencias_retorno_remessa, rfd_tb_cnab_posicao_saldo, rfd_tb_cnab_situacao_saldo, rfd_tb_cnab_tipo_inscricao_empresa, rfd_tb_cnab_tipo_lancamento, rfd_tb_cnab_tipo_moeda, rfd_tb_cnab_tipo_movimento, rfd_tb_cnab_tipo_operacao, rfd_tb_cnab_tipo_servico, rfd_tb_comunicado_mercado, rfd_tb_comunicados_ativos, rfd_tb_controle_notificacao, rfd_tb_cosmos_tasks_monitoramento, rfd_tb_dcm_dim_codif, rfd_tb_dcm_dim_depara_garantias, rfd_tb_dcm_dim_depara_inv, rfd_tb_dcm_dim_garantias, rfd_tb_dcm_dim_indexadores, rfd_tb_dcm_dim_playbooks, rfd_tb_dcm_dim_tomadores, rfd_tb_dcm_dim_tomadores_chaves, rfd_tb_dcm_garantias, rfd_tb_dcm_operacoes, rfd_tb_dcm_playbook, rfd_tb_dcm_playbook_garantias, rfd_tb_dcm_resumo_emissoes, rfd_tb_dcm_resumo_operacoes, rfd_tb_dcm_resumo_uf, rfd_tb_dcm_volume_inv, rfd_tb_dim_conta_bancaria, rfd_tb_dim_custodiantes, rfd_tb_dim_date, rfd_tb_dim_gestoras, rfd_tb_dim_indexadores_financeiros, rfd_tb_dim_instrumentos_financeiros, rfd_tb_dim_investidores, rfd_tb_dim_lancamento_bancario, rfd_tb_dim_nexxera_conta_bancaria, rfd_tb_dim_operacao_bancaria, rfd_tb_documentos_assembleia, rfd_tb_documentos_comunicado_mercado, rfd_tb_documentos_fatos_relevantes, rfd_tb_escrituras_debentures, rfd_tb_escrituras_debentures_ativos, rfd_tb_escrituras_debentures_contrapartes, rfd_tb_extrato_fundos, rfd_tb_fact_custodiantes, rfd_tb_fact_indexadores_financeiros_diario, rfd_tb_fact_lancamento_bancario, rfd_tb_fact_nexxera_lancamento_bancario, rfd_tb_fact_nexxera_saldo_bancario, rfd_tb_fact_posicao_investidores, rfd_tb_fact_resum_instrumentos_financeiros, rfd_tb_fact_saldo_bancario, rfd_tb_fatos_relevantes, rfd_tb_fatos_relevantes_contrapartes, rfd_tb_gestores_fundos_carteiras, rfd_tb_glx_operacoes, rfd_tb_hubspot_dcm, rfd_tb_hubspot_deals_stages, rfd_tb_hubspot_estruturacao_stages, rfd_tb_hubspot_produtos_stages, rfd_tb_hubspot_servicos_stages, rfd_tb_market_share, rfd_tb_parametrizacao_topicos_documentos, rfd_tb_portifolio_ativos, rfd_tb_posicao_61_duplicado, rfd_tb_posicao_investidor_completa, rfd_tb_posicao_investidor_resum_codif, rfd_tb_resumo_ativos, rfd_tb_securitizadoras, rfd_tb_securitizadoras_fusoes, rfd_tb_termos_securitizacao, rfd_tb_termos_securitizacao_ativos, rfd_tb_termos_securitizacao_contrapartes, rfd_tb_termos_securitizacao_manual, rfd_tb_teste_documentos_comunicado_mercado, rfd_tb_up2data_instrument_file_cra, rfd_tb_up2data_instrument_file_cri, rfd_tb_vitrify_alert, rfd_tb_vitrify_alert_email_log, rfd_tb_vitrify_assembly, rfd_tb_vitrify_asset, rfd_tb_vitrify_asset_client, rfd_tb_vitrify_asset_counterparty, rfd_tb_vitrify_auditoria_alertas, rfd_tb_vitrify_auditoria_sent, rfd_tb_vitrify_client, rfd_tb_vitrify_client_email_alert, rfd_tb_vitrify_cobertura_ativos_mercado, rfd_tb_vitrify_cobertura_em_andamento, rfd_tb_vitrify_completude_campos, rfd_tb_vitrify_counterparty, rfd_tb_vitrify_cri_cra_cobertos, rfd_tb_vitrify_cri_cra_nao_cobertos, rfd_tb_vitrify_debs_cobertos, rfd_tb_vitrify_debs_nao_cobertos, rfd_tb_vitrify_docs_dados_faltantes_cri_cra, rfd_tb_vitrify_docs_dados_faltantes_debs, rfd_tb_vitrify_document, rfd_tb_vitrify_documents_sent, stg_341_extrato_fundos, stg_anbima_debentures, stg_arquivotxt_b3, stg_arquivotxt_b3_new, stg_auditoria_glx, stg_bdc_addresses_extended, stg_bdc_basic_data, stg_bdc_basic_data_activity, stg_bdc_basic_data_pessoas, stg_bdc_company_group_branches, stg_bdc_company_group_main, stg_bdc_election_donation, stg_bdc_electoral_donors, stg_bdc_fbi, stg_bdc_kyc, stg_bdc_kyc_bsm_supervisao, stg_bdc_kyc_ceis, stg_bdc_kyc_cepim, stg_bdc_kyc_cnep, stg_bdc_kyc_eu, stg_bdc_kyc_ibama, stg_bdc_kyc_interpol, stg_bdc_kyc_mte, stg_bdc_kyc_ofac, stg_bdc_kyc_pep, stg_bdc_kyc_uk, stg_bdc_kyc_unsc, stg_bdc_lawsuits, stg_bdc_processes, stg_cc_ofx_237, stg_cosmos_engines_orverview, stg_cosmos_schedule, stg_cosmos_task_monitoramentos, stg_cvm_emissoes, stg_cvm_fundos_carteiras, stg_cvm_invest, stg_cvm_scraper_controller, stg_cvm_series, stg_data_anbima_debentures, stg_data_anbima_debentures_documentos, stg_dcm_leitura_ts, stg_documentos_pentagono, stg_documentos_vortx, stg_emissoes_ot, stg_emissoes_ot_metadata, stg_emissoes_pentagono, stg_emissoes_vortx, stg_empresasnet_companhias, stg_empresasnet_companhias_bkp, stg_empresasnet_metadados, stg_empresasnet_metadados_bkp, stg_fnet_inf_mensal_cra_comportamentos, stg_fnet_inf_mensal_cra_dados_gerais, stg_fnet_inf_mensal_cra_derivativos, stg_fnet_inf_mensal_cra_financeiro, stg_fnet_inf_mensal_cra_fluxo, stg_fnet_inf_mensal_cra_series, stg_fnet_inf_mensal_cra_tomadores, stg_fnet_inf_mensal_cri_comportamento_carteira, stg_fnet_inf_mensal_cri_dados_gerais, stg_fnet_inf_mensal_cri_financeiro, stg_fnet_inf_mensal_cri_garantias, stg_fnet_inf_mensal_cri_responsaveis, stg_fnet_inf_mensal_cri_series, stg_fnet_metadados, stg_glx_aprovacoes, stg_glx_assembleias, stg_glx_atualizacoes_lifetime, stg_glx_bancos, stg_glx_categoria_lancamento_bancario, stg_glx_contas_bancarias, stg_glx_contas_bancarias_series, stg_glx_contatos, stg_glx_contrapartes, stg_glx_documentos, stg_glx_empreendimentos, stg_glx_eventos_instrumentos_financeiros, stg_glx_fluxos_lastro, stg_glx_fluxos_lastro_hist, stg_glx_fluxos_papel, stg_glx_indexadores, stg_glx_indexadores_valores, stg_glx_lastros_corporativos, stg_glx_monitoramentos, stg_glx_operacoes, stg_glx_operacoes_contrapartes, stg_glx_operacoes_hist, stg_glx_parametros_instrumentos_financeiros, stg_glx_pessoas, stg_glx_series, stg_glx_series_hist, stg_glx_subtipos_documentos, stg_glx_subtipos_garantias, stg_glx_tasks_monitoramento, stg_glx_tipos_areas_responsaveis_assembleias, stg_glx_tipos_categorias_monitoramentos, stg_glx_tipos_contas, stg_glx_tipos_contrapartes, stg_glx_tipos_convocacoes_assembleias, stg_glx_tipos_documentos, stg_glx_tipos_eventos, stg_glx_tipos_motivos_assembleias, stg_glx_tipos_oferta_publico_alvo, stg_glx_tipos_oferta_rito, stg_glx_tipos_operacoes, stg_glx_tipos_penalidades, stg_glx_tipos_situacoes_obrigacao, stg_glx_tipos_status_assembleias, stg_glx_tmp_motor_antigo, stg_hubspot_companies, stg_hubspot_companies_comments, stg_hubspot_companies_meetings, stg_hubspot_companies_tickets, stg_hubspot_contacts, stg_hubspot_contacts_meetings, stg_hubspot_deals, stg_hubspot_deals_companies, stg_hubspot_deals_contacts, stg_hubspot_deals_stages, stg_hubspot_deals_stages_labels, stg_hubspot_deals_tickets, stg_hubspot_meetings, stg_hubspot_owners, stg_hubspot_pipelines, stg_hubspot_pipelines_stages, stg_hubspot_tickets, stg_hubspot_tickets_contacts, stg_hubspot_tickets_stages, stg_imbarq_60, stg_imbarq_61, stg_index_anbima, stg_index_bcb, stg_index_ibge, stg_index_ipea, stg_index_sinduscon, stg_indexers, stg_inv_237_lancamentos, stg_inv_237_saldos, stg_isin_scraper, stg_kyc_cepim, stg_mutual_installments, stg_mutual_operations, stg_nexxera_conciliacao240_0, stg_nexxera_conciliacao240_1, stg_nexxera_conciliacao240_3, stg_nexxera_conciliacao240_5, stg_nexxera_conciliacao240_9, stg_nexxera_detalhe_extrato, stg_nexxera_header_arquivo, stg_nexxera_header_lote_extrato, stg_nexxera_metadados, stg_nexxera_trailer_arquivo, stg_nexxera_trailer_lote_extrato, stg_ofx_lancamento_extrato, stg_opencvm_cad_fi_balancete, stg_opencvm_cad_fi_cadastro, stg_opencvm_cad_fi_hist_admin, stg_opencvm_cad_fi_hist_auditor, stg_opencvm_cad_fi_hist_classe, stg_opencvm_cad_fi_hist_condom, stg_opencvm_cad_fi_hist_controlador, stg_opencvm_cad_fi_hist_custodiante, stg_opencvm_cad_fi_hist_denom_comerc, stg_opencvm_cad_fi_hist_denom_social, stg_opencvm_cad_fi_hist_diretor_resp, stg_opencvm_cad_fi_hist_exclusivo, stg_opencvm_cad_fi_hist_exerc_social, stg_opencvm_cad_fi_hist_fic, stg_opencvm_cad_fi_hist_gestor, stg_opencvm_cad_fi_hist_publico_alvo, stg_opencvm_cad_fi_hist_rentab, stg_opencvm_cad_fi_hist_sit, stg_opencvm_cad_fi_hist_taxa_adm, stg_opencvm_cad_fi_hist_taxa_perfm, stg_opencvm_cad_fi_hist_trib_lprazo, stg_opencvm_cia_aberta_bpa_con_dfp, stg_opencvm_cia_aberta_bpa_con_itr, stg_opencvm_cia_aberta_bpa_ind_dfp, stg_opencvm_cia_aberta_bpa_ind_itr, stg_opencvm_cia_aberta_bpp_con_dfp, stg_opencvm_cia_aberta_bpp_con_itr, stg_opencvm_cia_aberta_bpp_ind_dfp, stg_opencvm_cia_aberta_bpp_ind_itr, stg_opencvm_cia_aberta_cad, stg_opencvm_cia_aberta_dfc_md_con_dfp, stg_opencvm_cia_aberta_dfc_md_con_itr, stg_opencvm_cia_aberta_dfc_md_ind_dfp, stg_opencvm_cia_aberta_dfc_md_ind_itr, stg_opencvm_cia_aberta_dfc_mi_con_dfp, stg_opencvm_cia_aberta_dfc_mi_con_itr, stg_opencvm_cia_aberta_dfc_mi_ind_dfp, stg_opencvm_cia_aberta_dfc_mi_ind_itr, stg_opencvm_cia_aberta_dmpl_con_dfp, stg_opencvm_cia_aberta_dmpl_con_itr, stg_opencvm_cia_aberta_dmpl_ind_dfp, stg_opencvm_cia_aberta_dmpl_ind_itr, stg_opencvm_cia_aberta_dra_con_dfp, stg_opencvm_cia_aberta_dra_con_itr, stg_opencvm_cia_aberta_dra_ind_dfp, stg_opencvm_cia_aberta_dra_ind_itr, stg_opencvm_cia_aberta_dre_con_dfp, stg_opencvm_cia_aberta_dre_con_itr, stg_opencvm_cia_aberta_dre_ind_dfp, stg_opencvm_cia_aberta_dre_ind_itr, stg_opencvm_cia_aberta_dva_con_dfp, stg_opencvm_cia_aberta_dva_con_itr, stg_opencvm_cia_aberta_dva_ind_dfp, stg_opencvm_cia_aberta_dva_ind_itr, stg_opencvm_controle, stg_opencvm_doc_fi_balancete, stg_opencvm_doc_fi_cda_blc_1, stg_opencvm_doc_fi_cda_blc_2, stg_opencvm_doc_fi_cda_blc_3, stg_opencvm_doc_fi_cda_blc_4, stg_opencvm_doc_fi_cda_blc_5, stg_opencvm_doc_fi_cda_blc_6, stg_opencvm_doc_fi_cda_blc_7, stg_opencvm_doc_fi_cda_blc_8, stg_opencvm_doc_fi_cda_pl, stg_opencvm_doc_fi_compl, stg_opencvm_doc_fi_compl_cotst, stg_opencvm_doc_fi_compl_inf, stg_opencvm_doc_fi_compl_prest, stg_opencvm_doc_fi_eventual, stg_opencvm_doc_fi_extrato, stg_opencvm_doc_fi_extrato_csv, stg_opencvm_doc_fi_inf_diario, stg_opencvm_doc_fi_lamina, stg_opencvm_doc_fi_lamina_carteira, stg_opencvm_doc_fi_lamina_rentab_ano, stg_opencvm_doc_fi_lamina_rentab_mes, stg_opencvm_doc_fi_perfil_mensal, stg_opencvm_doc_fi_perfil_mensal_csv, stg_opencvm_fidc_tab_i, stg_opencvm_fidc_tab_ii, stg_opencvm_fidc_tab_iii, stg_opencvm_fidc_tab_iv, stg_opencvm_fidc_tab_ix, stg_opencvm_fidc_tab_v, stg_opencvm_fidc_tab_vi, stg_opencvm_fidc_tab_vii, stg_opencvm_fidc_tab_x, stg_opencvm_fidc_tab_x_1, stg_opencvm_fidc_tab_x_1_1, stg_opencvm_fidc_tab_x_2, stg_opencvm_fidc_tab_x_3, stg_opencvm_fidc_tab_x_4, stg_opencvm_fidc_tab_x_5, stg_opencvm_fidc_tab_x_6, stg_opencvm_fidc_tab_x_7, stg_opencvm_fii_ativo_inf_trimestral, stg_opencvm_fii_ativo_passivo_inf_mensal, stg_opencvm_fii_complemento_inf_mensal, stg_opencvm_fii_complemento_inf_trimestral, stg_opencvm_fii_geral_inf_mensal, stg_opencvm_fii_geral_inf_trimestral, stg_opencvm_inf_mensal_cra_ativo_passivo, stg_opencvm_inf_mensal_cra_cedente_devedor, stg_opencvm_inf_mensal_cra_classe, stg_opencvm_inf_mensal_cra_derivativos, stg_opencvm_inf_mensal_cra_desembolso, stg_opencvm_inf_mensal_cra_direitos_creditorios, stg_opencvm_inf_mensal_cra_fluxo_caixa, stg_opencvm_inf_mensal_cra_geral, stg_opencvm_inf_mensal_cri_ativo_passivo, stg_opencvm_inf_mensal_cri_carteira, stg_opencvm_inf_mensal_cri_carteira_modificacao, stg_opencvm_inf_mensal_cri_cedente_devedor, stg_opencvm_inf_mensal_cri_classe, stg_opencvm_inf_mensal_cri_creditos, stg_opencvm_inf_mensal_cri_derivativos, stg_opencvm_inf_mensal_cri_desembolso, stg_opencvm_inf_mensal_cri_fluxo_caixa, stg_opencvm_inf_mensal_cri_geral, stg_opencvm_inf_mensal_cri_responsavel, stg_up2data_analytics_stock, stg_up2data_commodities_open_position, stg_up2data_commodities_price, stg_up2data_commodities_security, stg_up2data_commodities_security_gold, stg_up2data_commodities_security_option, stg_up2data_commodities_security_structured, stg_up2data_commodities_security_structured_v2, stg_up2data_commodities_security_v2, stg_up2data_commodities_settlement_futures, stg_up2data_commodities_settlement_price, stg_up2data_commodities_trade_info, stg_up2data_corp_assembly, stg_up2data_corp_corporate_action, stg_up2data_corp_corporate_action_v2, stg_up2data_corp_follow_on, stg_up2data_corp_issuer, stg_up2data_corp_issuer_shareholder_position, stg_up2data_corp_life_cycle, stg_up2data_corp_life_cyclev2, stg_up2data_corp_option_ex, stg_up2data_corp_schedule, stg_up2data_corp_schedule_bdr, stg_up2data_corp_schedule_bdrv2, stg_up2data_corp_schedulev2, stg_up2data_cra_instrument, stg_up2data_cra_instrument_v2, stg_up2data_cra_schedule, stg_up2data_cra_schedule_v2, stg_up2data_cra_schedule_v3, stg_up2data_cra_trade_information, stg_up2data_cra_trade_information_v2, stg_up2data_cri_instrument, stg_up2data_cri_instrument_v2, stg_up2data_cri_schedule, stg_up2data_cri_schedule_v2, stg_up2data_cri_schedule_v3, stg_up2data_cri_trade_information, stg_up2data_cri_trade_information_v2, stg_up2data_currency_price, stg_up2data_currency_ref_price, stg_up2data_currency_security_settlement_price, stg_up2data_curve, stg_up2data_curve_v2, stg_up2data_deb_reference_price, stg_up2data_deb_reference_price_v2, stg_up2data_deb_reference_price_v3, stg_up2data_deb_schedule, stg_up2data_deb_security, stg_up2data_deb_security_v2, stg_up2data_deb_security_v3, stg_up2data_deb_trade, stg_up2data_deb_trade_v2, stg_up2data_deb_trade_v3, stg_up2data_economic_indicator, stg_up2data_economic_indicator_t1, stg_up2data_economic_indicator_v2, stg_up2data_equities_asset_loan, stg_up2data_equities_asset_loan_v2, stg_up2data_equities_bdr_reference_price, stg_up2data_equities_cash_market_position, stg_up2data_equities_equity_instrument, stg_up2data_equities_equity_instrument_v2, stg_up2data_equities_etf_trade, stg_up2data_equities_forward_open_position, stg_up2data_equities_futures_contracts, stg_up2data_equities_futures_contracts_v2, stg_up2data_equities_futures_open_position, stg_up2data_equities_futures_price, stg_up2data_equities_futures_settlement_price, stg_up2data_equities_futures_structured_operation, stg_up2data_equities_futures_structured_operation_v2, stg_up2data_equities_futures_trade, stg_up2data_equities_index_price, stg_up2data_equities_index_trade, stg_up2data_equities_indexes_futures_contracts, stg_up2data_equities_indexes_futures_contracts_v2, stg_up2data_equities_indexes_open_position, stg_up2data_equities_indexes_option, stg_up2data_equities_indexes_reference_price, stg_up2data_equities_indexes_settlement_price, stg_up2data_equities_indexes_structured_operation, stg_up2data_equities_indexes_structured_operation_v2, stg_up2data_equities_margin_account, stg_up2data_equities_option_on_equities, stg_up2data_equities_option_reference_price, stg_up2data_equities_price, stg_up2data_equities_securities_lending_position, stg_up2data_equities_securities_lending_position_v2, stg_up2data_equities_trade_index, stg_up2data_equities_trade_info, stg_up2data_fixed_income_future_contracts, stg_up2data_fixed_income_future_contracts_v2, stg_up2data_fixed_income_open_position, stg_up2data_fixed_income_otc_issuer, stg_up2data_fixed_income_settlement_price, stg_up2data_fixed_income_trade_information, stg_up2data_index_portfolio_composition, stg_up2data_index_portfolio_composition_agfs, stg_up2data_index_portfolio_composition_bdrx, stg_up2data_index_portfolio_composition_gptw, stg_up2data_index_portfolio_composition_ibov, stg_up2data_index_portfolio_composition_ibra, stg_up2data_index_portfolio_composition_ibrx, stg_up2data_index_portfolio_composition_ibrx50, stg_up2data_index_portfolio_composition_ibsd, stg_up2data_index_portfolio_composition_ico2, stg_up2data_index_portfolio_composition_icon, stg_up2data_index_portfolio_composition_idiv, stg_up2data_index_portfolio_composition_idvr, stg_up2data_index_portfolio_composition_iee, stg_up2data_index_portfolio_composition_ifil, stg_up2data_index_portfolio_composition_ifix, stg_up2data_index_portfolio_composition_ifnc, stg_up2data_index_portfolio_composition_igcnm, stg_up2data_index_portfolio_composition_igct, stg_up2data_index_portfolio_composition_igcx, stg_up2data_index_portfolio_composition_imat, stg_up2data_index_portfolio_composition_imob, stg_up2data_index_portfolio_composition_indx, stg_up2data_index_portfolio_composition_iod, stg_up2data_index_portfolio_composition_ise, stg_up2data_index_portfolio_composition_itag, stg_up2data_index_portfolio_composition_ivbx2, stg_up2data_index_portfolio_composition_mlcx, stg_up2data_index_portfolio_composition_smll, stg_up2data_index_portfolio_composition_util, stg_up2data_index_portfolio_consolidated, stg_up2data_index_reductor, stg_up2data_index_reductor_opening, stg_up2data_index_reductor_preview, stg_up2data_index_stock_behavior, stg_up2data_index_stock_behavior_opening, stg_up2data_index_stock_behavior_v2, stg_up2data_index_stock_perindex, stg_up2data_index_stock_perindex_portifolio, stg_up2data_index_trade_information, stg_up2data_interest_rate_contracts_futures, stg_up2data_interest_rate_contracts_futuresv2, stg_up2data_interest_rate_future_contracts, stg_up2data_interest_rate_future_contracts_v2, stg_up2data_interest_rate_open_position, stg_up2data_interest_rate_option, stg_up2data_interest_rate_price, stg_up2data_interest_rate_price_futures, stg_up2data_interest_rate_price_operations, stg_up2data_interest_rate_structured_operation, stg_up2data_interest_rate_structured_operation_v2, stg_up2data_interest_rate_swap, stg_up2data_interest_rate_swap_v2, stg_up2data_monitoring_platform_status, stg_up2data_monitoring_status, stg_up2data_volatility_surface, stg_validacaopu_af, stg_validacaopu_af_oliveira_trust, stg_validacaopu_af_outras_casas, stg_validacaopu_af_pentagono, stg_validacaopu_af_vortx, tbl_bd_emissoes_contraparte, tru_cc_ofx_237, tru_hubspot_companies, tru_hubspot_owners, tru_opencvm_cad_fi_cadastro, tru_tb_anbima_debentures, tru_tb_arquivotxt_b3, tru_tb_bdc_basic_data, tru_tb_bdc_basic_data_activity, tru_tb_cnae_tree, tru_tb_cosmos_engines_overview, tru_tb_cosmos_schedule, tru_tb_cosmos_tasks_monitoramento, tru_tb_cvm_emissoes, tru_tb_cvm_invest, tru_tb_cvm_series, tru_tb_data_anbima_debentures, tru_tb_data_anbima_debentures_documentos, tru_tb_dcm_leitura_ts, tru_tb_documentos_pentagono, tru_tb_documentos_vortx, tru_tb_emissoes_ot, tru_tb_emissoes_ot_metadata, tru_tb_emissoes_pentagono, tru_tb_emissoes_vortx, tru_tb_empresasnet_companhias, tru_tb_empresasnet_metadados, tru_tb_fnet_metadados, tru_tb_glx_aprovacoes, tru_tb_glx_assembleias, tru_tb_glx_atualizacoes_lifetime, tru_tb_glx_bancos, tru_tb_glx_categoria_lancamento_bancario, tru_tb_glx_contas_bancarias, tru_tb_glx_contas_bancarias_series, tru_tb_glx_contatos, tru_tb_glx_contrapartes, tru_tb_glx_documentos, tru_tb_glx_empreendimentos, tru_tb_glx_eventos_instrumentos_financeiros, tru_tb_glx_fluxos_lastro, tru_tb_glx_fluxos_papel, tru_tb_glx_indexadores, tru_tb_glx_indexadores_valores, tru_tb_glx_lastros_corporativos, tru_tb_glx_monitoramentos, tru_tb_glx_operacoes, tru_tb_glx_operacoes_contrapartes, tru_tb_glx_operacoes_hist, tru_tb_glx_parametros_instrumentos_financeiros, tru_tb_glx_pessoas, tru_tb_glx_series, tru_tb_glx_series_hist, tru_tb_glx_subtipos_documentos, tru_tb_glx_subtipos_garantias, tru_tb_glx_tasks_monitoramento, tru_tb_glx_tipos_areas_responsaveis_assembleias, tru_tb_glx_tipos_categorias_monitoramentos, tru_tb_glx_tipos_contas, tru_tb_glx_tipos_contrapartes, tru_tb_glx_tipos_convocacoes_assembleias, tru_tb_glx_tipos_documentos, tru_tb_glx_tipos_eventos, tru_tb_glx_tipos_motivos_assembleias, tru_tb_glx_tipos_oferta_publico_alvo, tru_tb_glx_tipos_oferta_rito, tru_tb_glx_tipos_operacoes, tru_tb_glx_tipos_penalidades, tru_tb_glx_tipos_situacoes_obrigacao, tru_tb_glx_tipos_status_assembleias, tru_tb_glx_tmp_motor_antigo, tru_tb_hubspot_companies, tru_tb_hubspot_companies_comments, tru_tb_hubspot_companies_meetings, tru_tb_hubspot_companies_tickets, tru_tb_hubspot_contacts, tru_tb_hubspot_contacts_meetings, tru_tb_hubspot_deals, tru_tb_hubspot_deals_companies, tru_tb_hubspot_deals_contacts, tru_tb_hubspot_deals_stages, tru_tb_hubspot_deals_tickets, tru_tb_hubspot_meetings, tru_tb_hubspot_owners, tru_tb_hubspot_pipelines, tru_tb_hubspot_pipelines_stages, tru_tb_hubspot_tickets, tru_tb_hubspot_tickets_contacts, tru_tb_hubspot_tickets_stages, tru_tb_imbarq_60, tru_tb_imbarq_61, tru_tb_index_anbima, tru_tb_index_bcb, tru_tb_index_ibge, tru_tb_index_ipea, tru_tb_index_sinduscon, tru_tb_indexers, tru_tb_inv_237_lancamentos, tru_tb_inv_237_saldos, tru_tb_inv_341_extrato_fundos, tru_tb_nexxera_conciliacao240_0, tru_tb_nexxera_conciliacao240_1, tru_tb_nexxera_conciliacao240_3, tru_tb_nexxera_conciliacao240_5, tru_tb_nexxera_conciliacao240_9, tru_tb_nexxera_detalhe_extrato, tru_tb_nexxera_header_arquivo, tru_tb_nexxera_header_lote_extrato, tru_tb_nexxera_metadados, tru_tb_nexxera_trailer_arquivo, tru_tb_nexxera_trailer_lote_extrato, tru_tb_opencvm_cad_fi_cadastro, tru_tb_opencvm_cda_blc_6, tru_tb_opencvm_fi_cadastro, tru_tb_opencvm_fii_tri_ativo, tru_tb_opencvm_inf_mensal_cra_ativo_passivo, tru_tb_opencvm_inf_mensal_cra_cedente_devedor, tru_tb_opencvm_inf_mensal_cra_classe, tru_tb_opencvm_inf_mensal_cra_derivativos, tru_tb_opencvm_inf_mensal_cra_desembolso, tru_tb_opencvm_inf_mensal_cra_direitos_creditorios, tru_tb_opencvm_inf_mensal_cra_fluxo_caixa, tru_tb_opencvm_inf_mensal_cra_geral, tru_tb_opencvm_inf_mensal_cri_ativo_passivo, tru_tb_opencvm_inf_mensal_cri_carteira, tru_tb_opencvm_inf_mensal_cri_carteira_modificacao, tru_tb_opencvm_inf_mensal_cri_cedente_devedor, tru_tb_opencvm_inf_mensal_cri_classe, tru_tb_opencvm_inf_mensal_cri_creditos, tru_tb_opencvm_inf_mensal_cri_derivativos, tru_tb_opencvm_inf_mensal_cri_desembolso, tru_tb_opencvm_inf_mensal_cri_fluxo_caixa, tru_tb_opencvm_inf_mensal_cri_geral, tru_tb_opencvm_inf_mensal_cri_responsavel, tru_tb_pre_classificacao_bancaria_base, tru_tb_up2data_analytics_stock, tru_tb_up2data_commodities_open_position, tru_tb_up2data_commodities_price, tru_tb_up2data_commodities_security, tru_tb_up2data_commodities_security_gold, tru_tb_up2data_commodities_security_option, tru_tb_up2data_commodities_security_structured, tru_tb_up2data_commodities_security_structured_v2, tru_tb_up2data_commodities_security_v2, tru_tb_up2data_commodities_settlement_futures, tru_tb_up2data_commodities_settlement_price, tru_tb_up2data_commodities_trade_info, tru_tb_up2data_corp_assembly, tru_tb_up2data_corp_corporate_action, tru_tb_up2data_corp_corporate_action_v2, tru_tb_up2data_corp_follow_on, tru_tb_up2data_corp_issuer, tru_tb_up2data_corp_issuer_shareholder_position, tru_tb_up2data_corp_life_cycle, tru_tb_up2data_corp_life_cyclev2, tru_tb_up2data_corp_option_ex, tru_tb_up2data_corp_schedule, tru_tb_up2data_corp_schedule_bdr, tru_tb_up2data_corp_schedule_bdrv2, tru_tb_up2data_corp_schedulev2, tru_tb_up2data_cra_instrument, tru_tb_up2data_cra_instrument_v2, tru_tb_up2data_cra_schedule, tru_tb_up2data_cra_schedule_v2, tru_tb_up2data_cra_schedule_v3, tru_tb_up2data_cra_trade_information, tru_tb_up2data_cra_trade_information_v2, tru_tb_up2data_cri_instrument, tru_tb_up2data_cri_instrument_v2, tru_tb_up2data_cri_schedule, tru_tb_up2data_cri_schedule_v2, tru_tb_up2data_cri_schedule_v3, tru_tb_up2data_cri_trade_information, tru_tb_up2data_cri_trade_information_v2, tru_tb_up2data_currency_price, tru_tb_up2data_currency_ref_price, tru_tb_up2data_currency_security_settlement_price, tru_tb_up2data_curve, tru_tb_up2data_curve_v2, tru_tb_up2data_deb_reference_price, tru_tb_up2data_deb_reference_price_v2, tru_tb_up2data_deb_reference_price_v3, tru_tb_up2data_deb_schedule, tru_tb_up2data_deb_security, tru_tb_up2data_deb_security_v2, tru_tb_up2data_deb_trade, tru_tb_up2data_deb_trade_v2, tru_tb_up2data_deb_trade_v3, tru_tb_up2data_economic_indicator, tru_tb_up2data_economic_indicator_t1, tru_tb_up2data_economic_indicator_v2, tru_tb_up2data_equities_asset_loan, tru_tb_up2data_equities_asset_loan_v2, tru_tb_up2data_equities_bdr_reference_price, tru_tb_up2data_equities_cash_market_position, tru_tb_up2data_equities_equity_instrument, tru_tb_up2data_equities_equity_instrument_v2, tru_tb_up2data_equities_etf_trade, tru_tb_up2data_equities_forward_open_position, tru_tb_up2data_equities_futures_contracts, tru_tb_up2data_equities_futures_contracts_v2, tru_tb_up2data_equities_futures_open_position, tru_tb_up2data_equities_futures_price, tru_tb_up2data_equities_futures_settlement_price, tru_tb_up2data_equities_futures_structured_operation, tru_tb_up2data_equities_futures_structured_operation_v2, tru_tb_up2data_equities_futures_trade, tru_tb_up2data_equities_index_price, tru_tb_up2data_equities_index_trade, tru_tb_up2data_equities_indexes_futures_contracts, tru_tb_up2data_equities_indexes_futures_contracts_v2, tru_tb_up2data_equities_indexes_open_position, tru_tb_up2data_equities_indexes_option, tru_tb_up2data_equities_indexes_reference_price, tru_tb_up2data_equities_indexes_settlement_price, tru_tb_up2data_equities_indexes_structured_operation, tru_tb_up2data_equities_indexes_structured_operation_v2, tru_tb_up2data_equities_margin_account, tru_tb_up2data_equities_option_on_equities, tru_tb_up2data_equities_option_reference_price, tru_tb_up2data_equities_price, tru_tb_up2data_equities_securities_lending_position, tru_tb_up2data_equities_securities_lending_position_v2, tru_tb_up2data_equities_trade_index, tru_tb_up2data_equities_trade_info, tru_tb_up2data_fixed_income_future_contracts, tru_tb_up2data_fixed_income_future_contracts_v2, tru_tb_up2data_fixed_income_open_position, tru_tb_up2data_fixed_income_otc_issuer, tru_tb_up2data_fixed_income_settlement_price, tru_tb_up2data_fixed_income_trade_information, tru_tb_up2data_index_portfolio_composition, tru_tb_up2data_index_portfolio_composition_agfs, tru_tb_up2data_index_portfolio_composition_bdrx, tru_tb_up2data_index_portfolio_composition_gptw, tru_tb_up2data_index_portfolio_composition_ibov, tru_tb_up2data_index_portfolio_composition_ibra, tru_tb_up2data_index_portfolio_composition_ibrx, tru_tb_up2data_index_portfolio_composition_ibrx50, tru_tb_up2data_index_portfolio_composition_ibsd, tru_tb_up2data_index_portfolio_composition_ico2, tru_tb_up2data_index_portfolio_composition_icon, tru_tb_up2data_index_portfolio_composition_idiv, tru_tb_up2data_index_portfolio_composition_idvr, tru_tb_up2data_index_portfolio_composition_iee, tru_tb_up2data_index_portfolio_composition_ifil, tru_tb_up2data_index_portfolio_composition_ifix, tru_tb_up2data_index_portfolio_composition_ifnc, tru_tb_up2data_index_portfolio_composition_igcnm, tru_tb_up2data_index_portfolio_composition_igct, tru_tb_up2data_index_portfolio_composition_igcx, tru_tb_up2data_index_portfolio_composition_imat, tru_tb_up2data_index_portfolio_composition_imob, tru_tb_up2data_index_portfolio_composition_indx, tru_tb_up2data_index_portfolio_composition_iod, tru_tb_up2data_index_portfolio_composition_ise, tru_tb_up2data_index_portfolio_composition_itag, tru_tb_up2data_index_portfolio_composition_ivbx2, tru_tb_up2data_index_portfolio_composition_mlcx, tru_tb_up2data_index_portfolio_composition_smll, tru_tb_up2data_index_portfolio_composition_util, tru_tb_up2data_index_portfolio_consolidated, tru_tb_up2data_index_reductor, tru_tb_up2data_index_reductor_opening, tru_tb_up2data_index_reductor_preview, tru_tb_up2data_index_stock_behavior, tru_tb_up2data_index_stock_behavior_v2, tru_tb_up2data_index_stock_perindex, tru_tb_up2data_index_stock_perindex_portifolio, tru_tb_up2data_index_trade_information, tru_tb_up2data_interest_rate_contracts_futures, tru_tb_up2data_interest_rate_contracts_futuresv2, tru_tb_up2data_interest_rate_future_contracts, tru_tb_up2data_interest_rate_future_contracts_v2, tru_tb_up2data_interest_rate_open_position, tru_tb_up2data_interest_rate_option, tru_tb_up2data_interest_rate_price, tru_tb_up2data_interest_rate_price_futures, tru_tb_up2data_interest_rate_price_operations, tru_tb_up2data_interest_rate_structured_operation, tru_tb_up2data_interest_rate_structured_operation_v2, tru_tb_up2data_interest_rate_swap, tru_tb_up2data_interest_rate_swap_v2, tru_tb_up2data_monitoring_status, tru_tb_up2data_volatility_surface, tru_tb_validacaopu_af, tru_tb_validacaopu_af_oliveira_trust, tru_tb_validacaopu_af_outras_casas, tru_tb_validacaopu_af_pentagono, tru_tb_validacaopu_af_vortx\n",
      "==================================\u001B[1m Ai Message \u001B[0m==================================\n",
      "Tool Calls:\n",
      "  sql_db_schema (call_S7vSdmy8CDUHqth7m5IaSA9O)\n",
      " Call ID: call_S7vSdmy8CDUHqth7m5IaSA9O\n",
      "  Args:\n",
      "    table_names: tru_tb_glx_series\n",
      "=================================\u001B[1m Tool Message \u001B[0m=================================\n",
      "Name: sql_db_schema\n",
      "\n",
      "\n",
      "CREATE TABLE tru_tb_glx_series (\n",
      "\tid_tb_glx_series VARCHAR(255) NOT NULL, \n",
      "\tid_tabela INTEGER, \n",
      "\tcod_codigo_if VARCHAR(50), \n",
      "\tid_operacao VARCHAR(150), \n",
      "\tid_indexador INTEGER, \n",
      "\ttp_correcao INTEGER, \n",
      "\ttp_fator_juros INTEGER, \n",
      "\tcod_interno VARCHAR(50), \n",
      "\tid_num_serie INTEGER DEFAULT 1, \n",
      "\ttp_serie VARCHAR(50), \n",
      "\tvlr_volume_emissao NUMERIC(24, 12) DEFAULT 0, \n",
      "\tqt_emissao INTEGER, \n",
      "\ttp_defasagem_nik INTEGER, \n",
      "\tfl_incorpora_juros BOOLEAN DEFAULT false, \n",
      "\tcod_icvm VARCHAR(3), \n",
      "\tdt_vencimento TIMESTAMP WITHOUT TIME ZONE, \n",
      "\tdt_encerramento_dist TIMESTAMP WITHOUT TIME ZONE, \n",
      "\tdt_inicio_pagamento TIMESTAMP WITHOUT TIME ZONE, \n",
      "\tdt_primeira_integralizacao TIMESTAMP WITHOUT TIME ZONE, \n",
      "\tcod_isin VARCHAR(50), \n",
      "\ttp_status VARCHAR(50), \n",
      "\tfl_resgate_antecipado BOOLEAN DEFAULT false, \n",
      "\tper_taxa_flutuante NUMERIC(24, 12), \n",
      "\ttx_juros_spread NUMERIC(24, 12), \n",
      "\tnr_base_dias_ano INTEGER, \n",
      "\tdesc_periodicidade_correcao VARCHAR(50), \n",
      "\tdesc_mes_correcao_anual VARCHAR(15), \n",
      "\ttp_periodicidade_pagamento VARCHAR(50), \n",
      "\tqt_defasagem_nik_1 INTEGER, \n",
      "\tdt_primeira_correcao_monet TIMESTAMP WITHOUT TIME ZONE, \n",
      "\tqt_defasagem_pagamento INTEGER, \n",
      "\tdia_referencia INTEGER, \n",
      "\tvlr_primeiro_dct INTEGER, \n",
      "\tfl_revisada BOOLEAN DEFAULT false, \n",
      "\tvlr_primeiro_dut INTEGER, \n",
      "\tvlr_unitario_emissao NUMERIC(24, 12), \n",
      "\tfl_validado_motor BOOLEAN DEFAULT false, \n",
      "\ttp_remuneracao VARCHAR(100), \n",
      "\tdt_incorp_juros TIMESTAMP WITHOUT TIME ZONE, \n",
      "\ttp_periodicidade_juros VARCHAR(100), \n",
      "\ttp_dia_referencia VARCHAR(50), \n",
      "\tdt_encerramento TIMESTAMP WITHOUT TIME ZONE, \n",
      "\tid_parametro_instrumento_financeiro VARCHAR(36), \n",
      "\tfilename VARCHAR(255), \n",
      "\tdt_ingestion TIMESTAMP WITHOUT TIME ZONE NOT NULL, \n",
      "\tCONSTRAINT pk_tru_glx_series PRIMARY KEY (id_tb_glx_series)\n",
      ")\n",
      "\n",
      "/*\n",
      "3 rows from tru_tb_glx_series table:\n",
      "id_tb_glx_series\tid_tabela\tcod_codigo_if\tid_operacao\tid_indexador\ttp_correcao\ttp_fator_juros\tcod_interno\tid_num_serie\ttp_serie\tvlr_volume_emissao\tqt_emissao\ttp_defasagem_nik\tfl_incorpora_juros\tcod_icvm\tdt_vencimento\tdt_encerramento_dist\tdt_inicio_pagamento\tdt_primeira_integralizacao\tcod_isin\ttp_status\tfl_resgate_antecipado\tper_taxa_flutuante\ttx_juros_spread\tnr_base_dias_ano\tdesc_periodicidade_correcao\tdesc_mes_correcao_anual\ttp_periodicidade_pagamento\tqt_defasagem_nik_1\tdt_primeira_correcao_monet\tqt_defasagem_pagamento\tdia_referencia\tvlr_primeiro_dct\tfl_revisada\tvlr_primeiro_dut\tvlr_unitario_emissao\tfl_validado_motor\ttp_remuneracao\tdt_incorp_juros\ttp_periodicidade_juros\ttp_dia_referencia\tdt_encerramento\tid_parametro_instrumento_financeiro\tfilename\tdt_ingestion\n",
      "d6a4ef99-b8bb-462b-b42f-301ffa1b0cce\t1\tCRA021000S8\tKIAA27-BRAGRO01\t4\t1\t4\t\t1\t\t240000000.000000000000\t240000\t2\tFalse\t400\t2028-04-17 00:00:00\t2021-05-06 00:00:00\t2022-04-18 00:00:00\t2021-05-05 00:00:00\tBRIMWLCRA176\tEm Andamento\tFalse\t0E-12\t5.365800000000\t252\tMensal\t\tAnual\t3\t2021-05-05 00:00:00\t0\t15\t0\tFalse\t21\t1000.000000000000\tTrue\t\tNone\tAnual\tutil\t2021-05-06 00:00:00\t8EA06871-06F2-4868-8DD0-74AB285C658B\tDataRepublic/ingestion/glxhist/2024/10/24/stg/series/1.json\t2024-10-24 04:38:42.752713\n",
      "06527cd7-f157-4c59-b9db-3b482fbba5aa\t2\t21C0822819\tCID191-QUARESMEIRA\t4\t5\t4\t\t193\tsênior\t7000000.000000000000\t7000\t2\tFalse\t476\t2032-01-20 00:00:00\tNone\t2021-08-20 00:00:00\t2021-08-03 00:00:00\tBRIMWLCRI5K9\tEm Andamento\tFalse\t0E-12\t11.000000000000\t252\tMensal\t\tMensal\t3\t2021-08-03 00:00:00\t0\t20\t0\tFalse\t23\t1000.000000000000\tTrue\t\tNone\tMensal\tutil\tNone\t4473A5DA-FA5B-453C-86E5-6A06F5810CA0\tDataRepublic/ingestion/glxhist/2024/10/24/stg/series/1.json\t2024-10-24 04:38:42.752713\n",
      "97622c63-7faa-4505-9953-8fee96fc9d8b\t3\t21C0822821\tCID191-QUARESMEIRA\t4\t5\t4\t\t194\tsubordinada\t2000000.000000000000\t2000\t2\tFalse\t476\t2032-01-20 00:00:00\tNone\t2021-08-20 00:00:00\t2021-08-03 00:00:00\tBRIMWLCRI5L7\tEm Andamento\tFalse\t0E-12\t13.900000000000\t252\tMensal\t\tMensal\t3\t2021-08-03 00:00:00\t0\t20\t0\tFalse\t23\t1000.000000000000\tTrue\t\tNone\tMensal\tutil\tNone\t6D06E7B8-2B86-44B7-A314-E29C6166D6BE\tDataRepublic/ingestion/glxhist/2024/10/24/stg/series/1.json\t2024-10-24 04:38:42.752713\n",
      "*/\n",
      "==================================\u001B[1m Ai Message \u001B[0m==================================\n",
      "Tool Calls:\n",
      "  sql_db_query_checker (call_YupuEWzUzQlvaPorh2UzGX7S)\n",
      " Call ID: call_YupuEWzUzQlvaPorh2UzGX7S\n",
      "  Args:\n",
      "    query: SELECT cod_codigo_if, dt_vencimento FROM tru_tb_glx_series WHERE tp_status = 'Em Andamento' AND dt_vencimento IS NOT NULL ORDER BY dt_vencimento DESC LIMIT 5;\n",
      "=================================\u001B[1m Tool Message \u001B[0m=================================\n",
      "Name: sql_db_query_checker\n",
      "\n",
      "```sql\n",
      "SELECT cod_codigo_if, dt_vencimento \n",
      "FROM tru_tb_glx_series \n",
      "WHERE tp_status = 'Em Andamento' \n",
      "  AND dt_vencimento IS NOT NULL \n",
      "ORDER BY dt_vencimento DESC \n",
      "LIMIT 5;\n",
      "```\n",
      "==================================\u001B[1m Ai Message \u001B[0m==================================\n",
      "Tool Calls:\n",
      "  sql_db_query (call_AcUmyIbbNI6poEQSpcWSnDWa)\n",
      " Call ID: call_AcUmyIbbNI6poEQSpcWSnDWa\n",
      "  Args:\n",
      "    query: SELECT cod_codigo_if, dt_vencimento FROM tru_tb_glx_series WHERE tp_status = 'Em Andamento' AND dt_vencimento IS NOT NULL ORDER BY dt_vencimento DESC LIMIT 5;\n",
      "=================================\u001B[1m Tool Message \u001B[0m=================================\n",
      "Name: sql_db_query\n",
      "\n",
      "[('16J1007544', datetime.datetime(2051, 10, 10, 0, 0)), ('20F0719220', datetime.datetime(2045, 7, 5, 0, 0)), ('22H1517101', datetime.datetime(2043, 7, 29, 0, 0)), ('CRA02200815', datetime.datetime(2042, 7, 15, 0, 0)), ('CRA02200DQN', datetime.datetime(2042, 7, 15, 0, 0))]\n",
      "==================================\u001B[1m Ai Message \u001B[0m==================================\n",
      "\n",
      "As 5 séries que ainda estão em andamento, com o vencimento mais distante, são:\n",
      "\n",
      "1. Código IF: 16J1007544, Data de Vencimento: 2051-10-10\n",
      "2. Código IF: 20F0719220, Data de Vencimento: 2045-07-05\n",
      "3. Código IF: 22H1517101, Data de Vencimento: 2043-07-29\n",
      "4. Código IF: CRA02200815, Data de Vencimento: 2042-07-15\n",
      "5. Código IF: CRA02200DQN, Data de Vencimento: 2042-07-15\n"
     ]
    }
   ],
   "execution_count": 9
  }
 ],
 "metadata": {
  "kernelspec": {
   "display_name": "Python 3",
   "language": "python",
   "name": "python3"
  },
  "language_info": {
   "codemirror_mode": {
    "name": "ipython",
    "version": 2
   },
   "file_extension": ".py",
   "mimetype": "text/x-python",
   "name": "python",
   "nbconvert_exporter": "python",
   "pygments_lexer": "ipython2",
   "version": "2.7.6"
  }
 },
 "nbformat": 4,
 "nbformat_minor": 5
}
